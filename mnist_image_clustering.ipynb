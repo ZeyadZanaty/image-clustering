{
  "nbformat": 4,
  "nbformat_minor": 0,
  "metadata": {
    "colab": {
      "name": "mnist-image-clustering",
      "version": "0.3.2",
      "provenance": [],
      "collapsed_sections": [],
      "include_colab_link": true
    },
    "kernelspec": {
      "name": "python3",
      "display_name": "Python 3"
    }
  },
  "cells": [
    {
      "cell_type": "markdown",
      "metadata": {
        "id": "view-in-github",
        "colab_type": "text"
      },
      "source": [
        "<a href=\"https://colab.research.google.com/github/ZeyadZanaty/image-clustering/blob/master/mnist_image_clustering.ipynb\" target=\"_parent\"><img src=\"https://colab.research.google.com/assets/colab-badge.svg\" alt=\"Open In Colab\"/></a>"
      ]
    },
    {
      "metadata": {
        "id": "o2b0FP0uSAd3",
        "colab_type": "text"
      },
      "cell_type": "markdown",
      "source": [
        "## Datasets Download"
      ]
    },
    {
      "metadata": {
        "id": "RMwJGgE8QWE8",
        "colab_type": "code",
        "outputId": "974758ca-d585-494b-8d15-2ac254d2790a",
        "colab": {
          "base_uri": "https://localhost:8080/",
          "height": 391
        }
      },
      "cell_type": "code",
      "source": [
        "!wget 'http://yann.lecun.com/exdb/mnist/train-images-idx3-ubyte.gz'\n",
        "!wget 'http://yann.lecun.com/exdb/mnist/train-labels-idx1-ubyte.gz'\n",
        "!gunzip train-images-idx3-ubyte.gz\n",
        "!gunzip train-labels-idx1-ubyte.gz"
      ],
      "execution_count": 1,
      "outputs": [
        {
          "output_type": "stream",
          "text": [
            "--2018-12-20 16:00:26--  http://yann.lecun.com/exdb/mnist/train-images-idx3-ubyte.gz\n",
            "Resolving yann.lecun.com (yann.lecun.com)... 216.165.22.6\n",
            "Connecting to yann.lecun.com (yann.lecun.com)|216.165.22.6|:80... connected.\n",
            "HTTP request sent, awaiting response... 200 OK\n",
            "Length: 9912422 (9.5M) [application/x-gzip]\n",
            "Saving to: ‘train-images-idx3-ubyte.gz’\n",
            "\n",
            "\r          train-ima   0%[                    ]       0  --.-KB/s               \r         train-imag   1%[                    ] 101.22K   379KB/s               \r        train-image   8%[>                   ] 829.31K  1.63MB/s               \r       train-images  65%[============>       ]   6.15M  8.79MB/s               \rtrain-images-idx3-u 100%[===================>]   9.45M  11.7MB/s    in 0.8s    \n",
            "\n",
            "2018-12-20 16:00:27 (11.7 MB/s) - ‘train-images-idx3-ubyte.gz’ saved [9912422/9912422]\n",
            "\n",
            "--2018-12-20 16:00:41--  http://yann.lecun.com/exdb/mnist/train-labels-idx1-ubyte.gz\n",
            "Resolving yann.lecun.com (yann.lecun.com)... 216.165.22.6\n",
            "Connecting to yann.lecun.com (yann.lecun.com)|216.165.22.6|:80... connected.\n",
            "HTTP request sent, awaiting response... 200 OK\n",
            "Length: 28881 (28K) [application/x-gzip]\n",
            "Saving to: ‘train-labels-idx1-ubyte.gz’\n",
            "\n",
            "train-labels-idx1-u 100%[===================>]  28.20K  --.-KB/s    in 0.08s   \n",
            "\n",
            "2018-12-20 16:00:41 (342 KB/s) - ‘train-labels-idx1-ubyte.gz’ saved [28881/28881]\n",
            "\n"
          ],
          "name": "stdout"
        }
      ]
    },
    {
      "metadata": {
        "id": "UtCC1UZXR2C6",
        "colab_type": "text"
      },
      "cell_type": "markdown",
      "source": [
        "## Clone Repo"
      ]
    },
    {
      "metadata": {
        "id": "iLW1SxubSTpA",
        "colab_type": "code",
        "outputId": "6c60eda3-acab-4705-a0d8-36558070d071",
        "colab": {
          "base_uri": "https://localhost:8080/",
          "height": 119
        }
      },
      "cell_type": "code",
      "source": [
        "!git clone https://github.com/ZeyadZanaty/image-clustering.git"
      ],
      "execution_count": 2,
      "outputs": [
        {
          "output_type": "stream",
          "text": [
            "Cloning into 'image-clustering'...\n",
            "remote: Enumerating objects: 51, done.\u001b[K\n",
            "remote: Counting objects:   1% (1/51)   \u001b[K\rremote: Counting objects:   3% (2/51)   \u001b[K\rremote: Counting objects:   5% (3/51)   \u001b[K\rremote: Counting objects:   7% (4/51)   \u001b[K\rremote: Counting objects:   9% (5/51)   \u001b[K\rremote: Counting objects:  11% (6/51)   \u001b[K\rremote: Counting objects:  13% (7/51)   \u001b[K\rremote: Counting objects:  15% (8/51)   \u001b[K\rremote: Counting objects:  17% (9/51)   \u001b[K\rremote: Counting objects:  19% (10/51)   \u001b[K\rremote: Counting objects:  21% (11/51)   \u001b[K\rremote: Counting objects:  23% (12/51)   \u001b[K\rremote: Counting objects:  25% (13/51)   \u001b[K\rremote: Counting objects:  27% (14/51)   \u001b[K\rremote: Counting objects:  29% (15/51)   \u001b[K\rremote: Counting objects:  31% (16/51)   \u001b[K\rremote: Counting objects:  33% (17/51)   \u001b[K\rremote: Counting objects:  35% (18/51)   \u001b[K\rremote: Counting objects:  37% (19/51)   \u001b[K\rremote: Counting objects:  39% (20/51)   \u001b[K\rremote: Counting objects:  41% (21/51)   \u001b[K\rremote: Counting objects:  43% (22/51)   \u001b[K\rremote: Counting objects:  45% (23/51)   \u001b[K\rremote: Counting objects:  47% (24/51)   \u001b[K\rremote: Counting objects:  49% (25/51)   \u001b[K\rremote: Counting objects:  50% (26/51)   \u001b[K\rremote: Counting objects:  52% (27/51)   \u001b[K\rremote: Counting objects:  54% (28/51)   \u001b[K\rremote: Counting objects:  56% (29/51)   \u001b[K\rremote: Counting objects:  58% (30/51)   \u001b[K\rremote: Counting objects:  60% (31/51)   \u001b[K\rremote: Counting objects:  62% (32/51)   \u001b[K\rremote: Counting objects:  64% (33/51)   \u001b[K\rremote: Counting objects:  66% (34/51)   \u001b[K\rremote: Counting objects:  68% (35/51)   \u001b[K\rremote: Counting objects:  70% (36/51)   \u001b[K\rremote: Counting objects:  72% (37/51)   \u001b[K\rremote: Counting objects:  74% (38/51)   \u001b[K\rremote: Counting objects:  76% (39/51)   \u001b[K\rremote: Counting objects:  78% (40/51)   \u001b[K\rremote: Counting objects:  80% (41/51)   \u001b[K\rremote: Counting objects:  82% (42/51)   \u001b[K\rremote: Counting objects:  84% (43/51)   \u001b[K\rremote: Counting objects:  86% (44/51)   \u001b[K\rremote: Counting objects:  88% (45/51)   \u001b[K\rremote: Counting objects:  90% (46/51)   \u001b[K\rremote: Counting objects:  92% (47/51)   \u001b[K\rremote: Counting objects:  94% (48/51)   \u001b[K\rremote: Counting objects:  96% (49/51)   \u001b[K\rremote: Counting objects:  98% (50/51)   \u001b[K\rremote: Counting objects: 100% (51/51)   \u001b[K\rremote: Counting objects: 100% (51/51), done.\u001b[K\n",
            "remote: Compressing objects:   2% (1/37)   \u001b[K\rremote: Compressing objects:   5% (2/37)   \u001b[K\rremote: Compressing objects:   8% (3/37)   \u001b[K\rremote: Compressing objects:  10% (4/37)   \u001b[K\rremote: Compressing objects:  13% (5/37)   \u001b[K\rremote: Compressing objects:  16% (6/37)   \u001b[K\rremote: Compressing objects:  18% (7/37)   \u001b[K\rremote: Compressing objects:  21% (8/37)   \u001b[K\rremote: Compressing objects:  24% (9/37)   \u001b[K\rremote: Compressing objects:  27% (10/37)   \u001b[K\rremote: Compressing objects:  29% (11/37)   \u001b[K\rremote: Compressing objects:  32% (12/37)   \u001b[K\rremote: Compressing objects:  35% (13/37)   \u001b[K\rremote: Compressing objects:  37% (14/37)   \u001b[K\rremote: Compressing objects:  40% (15/37)   \u001b[K\rremote: Compressing objects:  43% (16/37)   \u001b[K\rremote: Compressing objects:  45% (17/37)   \u001b[K\rremote: Compressing objects:  48% (18/37)   \u001b[K\rremote: Compressing objects:  51% (19/37)   \u001b[K\rremote: Compressing objects:  54% (20/37)   \u001b[K\rremote: Compressing objects:  56% (21/37)   \u001b[K\rremote: Compressing objects:  59% (22/37)   \u001b[K\rremote: Compressing objects:  62% (23/37)   \u001b[K\rremote: Compressing objects:  64% (24/37)   \u001b[K\rremote: Compressing objects:  67% (25/37)   \u001b[K\rremote: Compressing objects:  70% (26/37)   \u001b[K\rremote: Compressing objects:  72% (27/37)   \u001b[K\rremote: Compressing objects:  75% (28/37)   \u001b[K\rremote: Compressing objects:  78% (29/37)   \u001b[K\rremote: Compressing objects:  81% (30/37)   \u001b[K\rremote: Compressing objects:  83% (31/37)   \u001b[K\rremote: Compressing objects:  86% (32/37)   \u001b[K\rremote: Compressing objects:  89% (33/37)   \u001b[K\rremote: Compressing objects:  91% (34/37)   \u001b[K\rremote: Compressing objects:  94% (35/37)   \u001b[K\rremote: Compressing objects:  97% (36/37)   \u001b[K\rremote: Compressing objects: 100% (37/37)   \u001b[K\rremote: Compressing objects: 100% (37/37), done.\u001b[K\n",
            "Unpacking objects:   1% (1/51)   \rUnpacking objects:   3% (2/51)   \rUnpacking objects:   5% (3/51)   \rUnpacking objects:   7% (4/51)   \rUnpacking objects:   9% (5/51)   \rUnpacking objects:  11% (6/51)   \rUnpacking objects:  13% (7/51)   \rUnpacking objects:  15% (8/51)   \rUnpacking objects:  17% (9/51)   \rUnpacking objects:  19% (10/51)   \rUnpacking objects:  21% (11/51)   \rUnpacking objects:  23% (12/51)   \rUnpacking objects:  25% (13/51)   \rUnpacking objects:  27% (14/51)   \rUnpacking objects:  29% (15/51)   \rUnpacking objects:  31% (16/51)   \rUnpacking objects:  33% (17/51)   \rUnpacking objects:  35% (18/51)   \rUnpacking objects:  37% (19/51)   \rUnpacking objects:  39% (20/51)   \rUnpacking objects:  41% (21/51)   \rUnpacking objects:  43% (22/51)   \rUnpacking objects:  45% (23/51)   \rUnpacking objects:  47% (24/51)   \rremote: Total 51 (delta 25), reused 33 (delta 13), pack-reused 0\u001b[K\n",
            "Unpacking objects:  49% (25/51)   \rUnpacking objects:  50% (26/51)   \rUnpacking objects:  52% (27/51)   \rUnpacking objects:  54% (28/51)   \rUnpacking objects:  56% (29/51)   \rUnpacking objects:  58% (30/51)   \rUnpacking objects:  60% (31/51)   \rUnpacking objects:  62% (32/51)   \rUnpacking objects:  64% (33/51)   \rUnpacking objects:  66% (34/51)   \rUnpacking objects:  68% (35/51)   \rUnpacking objects:  70% (36/51)   \rUnpacking objects:  72% (37/51)   \rUnpacking objects:  74% (38/51)   \rUnpacking objects:  76% (39/51)   \rUnpacking objects:  78% (40/51)   \rUnpacking objects:  80% (41/51)   \rUnpacking objects:  82% (42/51)   \rUnpacking objects:  84% (43/51)   \rUnpacking objects:  86% (44/51)   \rUnpacking objects:  88% (45/51)   \rUnpacking objects:  90% (46/51)   \rUnpacking objects:  92% (47/51)   \rUnpacking objects:  94% (48/51)   \rUnpacking objects:  96% (49/51)   \rUnpacking objects:  98% (50/51)   \rUnpacking objects: 100% (51/51)   \rUnpacking objects: 100% (51/51), done.\n"
          ],
          "name": "stdout"
        }
      ]
    },
    {
      "metadata": {
        "id": "4oc3awGlSoyI",
        "colab_type": "text"
      },
      "cell_type": "markdown",
      "source": [
        "## Imports"
      ]
    },
    {
      "metadata": {
        "id": "0IS3A9X7SZLy",
        "colab_type": "code",
        "colab": {}
      },
      "cell_type": "code",
      "source": [
        "import os\n",
        "os.chdir('image-clustering')\n",
        "from DataReader import DataReader\n",
        "from KMeans import KMeans\n",
        "import matplotlib.pyplot as plt\n",
        "import numpy as np"
      ],
      "execution_count": 0,
      "outputs": []
    },
    {
      "metadata": {
        "id": "CrMLmF2bZ3Ux",
        "colab_type": "text"
      },
      "cell_type": "markdown",
      "source": [
        "## Data Reading"
      ]
    },
    {
      "metadata": {
        "id": "2BOXOU9RZ0hi",
        "colab_type": "code",
        "colab": {
          "base_uri": "https://localhost:8080/",
          "height": 323
        },
        "outputId": "93af13da-2198-48ed-8fd8-c867552d1934"
      },
      "cell_type": "code",
      "source": [
        "data_reader = DataReader('../','mnist')\n",
        "tr_data, tr_class_labels, tr_subclass_labels = data_reader.get_train_data()\n",
        "data_reader.plot_imgs(tr_data,25,True)"
      ],
      "execution_count": 11,
      "outputs": [
        {
          "output_type": "display_data",
          "data": {
            "image/png": "[encoded data removed]",
            "text/plain": [
              "<matplotlib.figure.Figure at 0x7f56ff103828>"
            ]
          },
          "metadata": {
            "tags": []
          }
        }
      ]
    },
    {
      "metadata": {
        "id": "CttQL9HYZ8uT",
        "colab_type": "text"
      },
      "cell_type": "markdown",
      "source": [
        "## K-Means"
      ]
    },
    {
      "metadata": {
        "id": "7Syh9A8hSr6l",
        "colab_type": "code",
        "outputId": "8bf48bc7-7c6a-4675-95d3-4d3e126b1cf2",
        "colab": {
          "base_uri": "https://localhost:8080/",
          "height": 3604
        }
      },
      "cell_type": "code",
      "source": [
        "kmeans = KMeans(n_clusters=10,max_iter=200)\n",
        "kmeans.fit(tr_data,tr_class_labels)"
      ],
      "execution_count": 12,
      "outputs": [
        {
          "output_type": "stream",
          "text": [
            "60000it [00:05, 10782.39it/s]\n",
            "1126it [00:00, 11258.86it/s]"
          ],
          "name": "stderr"
        },
        {
          "output_type": "stream",
          "text": [
            "\n",
            "Iteration: 0 Loss: 99741572.07222904 Difference: 21034.77570595893\n"
          ],
          "name": "stdout"
        },
        {
          "output_type": "stream",
          "text": [
            "60000it [00:05, 11226.12it/s]\n",
            "1113it [00:00, 11124.36it/s]"
          ],
          "name": "stderr"
        },
        {
          "output_type": "stream",
          "text": [
            "\n",
            "Iteration: 1 Loss: 96995871.81948426 Difference: 4411.189319226203\n"
          ],
          "name": "stdout"
        },
        {
          "output_type": "stream",
          "text": [
            "60000it [00:05, 11142.74it/s]\n",
            "1133it [00:00, 11322.24it/s]"
          ],
          "name": "stderr"
        },
        {
          "output_type": "stream",
          "text": [
            "\n",
            "Iteration: 2 Loss: 95876830.06761475 Difference: 749.9185653511703\n"
          ],
          "name": "stdout"
        },
        {
          "output_type": "stream",
          "text": [
            "60000it [00:05, 11163.19it/s]\n",
            "1089it [00:00, 10886.07it/s]"
          ],
          "name": "stderr"
        },
        {
          "output_type": "stream",
          "text": [
            "\n",
            "Iteration: 3 Loss: 95238187.33160916 Difference: 510.5363189396583\n"
          ],
          "name": "stdout"
        },
        {
          "output_type": "stream",
          "text": [
            "60000it [00:05, 11158.98it/s]\n",
            "1139it [00:00, 11389.39it/s]"
          ],
          "name": "stderr"
        },
        {
          "output_type": "stream",
          "text": [
            "\n",
            "Iteration: 4 Loss: 94868841.30992344 Difference: 373.317721029027\n"
          ],
          "name": "stdout"
        },
        {
          "output_type": "stream",
          "text": [
            "60000it [00:05, 11225.47it/s]\n",
            "1135it [00:00, 11344.39it/s]"
          ],
          "name": "stderr"
        },
        {
          "output_type": "stream",
          "text": [
            "\n",
            "Iteration: 5 Loss: 94664022.4928138 Difference: 274.78694591030114\n"
          ],
          "name": "stdout"
        },
        {
          "output_type": "stream",
          "text": [
            "60000it [00:05, 11183.46it/s]\n",
            "1133it [00:00, 11327.12it/s]"
          ],
          "name": "stderr"
        },
        {
          "output_type": "stream",
          "text": [
            "\n",
            "Iteration: 6 Loss: 94544602.79492049 Difference: 204.77021613586197\n"
          ],
          "name": "stdout"
        },
        {
          "output_type": "stream",
          "text": [
            "60000it [00:05, 11072.21it/s]\n",
            "1120it [00:00, 11192.81it/s]"
          ],
          "name": "stderr"
        },
        {
          "output_type": "stream",
          "text": [
            "\n",
            "Iteration: 7 Loss: 94464928.42281929 Difference: 162.45957574949114\n"
          ],
          "name": "stdout"
        },
        {
          "output_type": "stream",
          "text": [
            "60000it [00:05, 11110.60it/s]\n",
            "1133it [00:00, 11322.32it/s]"
          ],
          "name": "stderr"
        },
        {
          "output_type": "stream",
          "text": [
            "\n",
            "Iteration: 8 Loss: 94406063.28541587 Difference: 136.46023282726628\n"
          ],
          "name": "stdout"
        },
        {
          "output_type": "stream",
          "text": [
            "60000it [00:05, 11101.86it/s]\n",
            "1124it [00:00, 11239.10it/s]"
          ],
          "name": "stderr"
        },
        {
          "output_type": "stream",
          "text": [
            "\n",
            "Iteration: 9 Loss: 94359640.38037609 Difference: 118.5746048744543\n"
          ],
          "name": "stdout"
        },
        {
          "output_type": "stream",
          "text": [
            "60000it [00:05, 11047.56it/s]\n",
            "1128it [00:00, 11277.48it/s]"
          ],
          "name": "stderr"
        },
        {
          "output_type": "stream",
          "text": [
            "\n",
            "Iteration: 10 Loss: 94317669.89467715 Difference: 101.83579226822096\n"
          ],
          "name": "stdout"
        },
        {
          "output_type": "stream",
          "text": [
            "60000it [00:05, 11088.13it/s]\n",
            "1123it [00:00, 11222.01it/s]"
          ],
          "name": "stderr"
        },
        {
          "output_type": "stream",
          "text": [
            "\n",
            "Iteration: 11 Loss: 94286478.8989173 Difference: 94.82200782514\n"
          ],
          "name": "stdout"
        },
        {
          "output_type": "stream",
          "text": [
            "60000it [00:05, 11176.09it/s]\n",
            "1127it [00:00, 11263.91it/s]"
          ],
          "name": "stderr"
        },
        {
          "output_type": "stream",
          "text": [
            "\n",
            "Iteration: 12 Loss: 94259229.95708483 Difference: 78.80947666759013\n"
          ],
          "name": "stdout"
        },
        {
          "output_type": "stream",
          "text": [
            "60000it [00:05, 11161.99it/s]\n",
            "1122it [00:00, 11217.82it/s]"
          ],
          "name": "stderr"
        },
        {
          "output_type": "stream",
          "text": [
            "\n",
            "Iteration: 13 Loss: 94239191.39592357 Difference: 73.80168994749783\n"
          ],
          "name": "stdout"
        },
        {
          "output_type": "stream",
          "text": [
            "60000it [00:05, 11084.06it/s]\n",
            "1124it [00:00, 11234.17it/s]"
          ],
          "name": "stderr"
        },
        {
          "output_type": "stream",
          "text": [
            "\n",
            "Iteration: 14 Loss: 94223457.57691184 Difference: 58.986656345451735\n"
          ],
          "name": "stdout"
        },
        {
          "output_type": "stream",
          "text": [
            "60000it [00:05, 11070.04it/s]\n",
            "1115it [00:00, 11149.90it/s]"
          ],
          "name": "stderr"
        },
        {
          "output_type": "stream",
          "text": [
            "\n",
            "Iteration: 15 Loss: 94211965.54364088 Difference: 53.29713043092934\n"
          ],
          "name": "stdout"
        },
        {
          "output_type": "stream",
          "text": [
            "60000it [00:05, 11046.81it/s]\n",
            "1118it [00:00, 11176.07it/s]"
          ],
          "name": "stderr"
        },
        {
          "output_type": "stream",
          "text": [
            "\n",
            "Iteration: 16 Loss: 94202996.83033577 Difference: 45.05574622878359\n"
          ],
          "name": "stdout"
        },
        {
          "output_type": "stream",
          "text": [
            "60000it [00:05, 10963.38it/s]\n",
            "1102it [00:00, 11012.42it/s]"
          ],
          "name": "stderr"
        },
        {
          "output_type": "stream",
          "text": [
            "\n",
            "Iteration: 17 Loss: 94195953.2555111 Difference: 39.86048322735506\n"
          ],
          "name": "stdout"
        },
        {
          "output_type": "stream",
          "text": [
            "60000it [00:05, 11111.55it/s]\n",
            "1134it [00:00, 11338.42it/s]"
          ],
          "name": "stderr"
        },
        {
          "output_type": "stream",
          "text": [
            "\n",
            "Iteration: 18 Loss: 94191478.87808669 Difference: 33.909881269402916\n"
          ],
          "name": "stdout"
        },
        {
          "output_type": "stream",
          "text": [
            "60000it [00:05, 11218.55it/s]\n",
            "1128it [00:00, 11278.77it/s]"
          ],
          "name": "stderr"
        },
        {
          "output_type": "stream",
          "text": [
            "\n",
            "Iteration: 19 Loss: 94188587.73950471 Difference: 28.395673595883117\n"
          ],
          "name": "stdout"
        },
        {
          "output_type": "stream",
          "text": [
            "60000it [00:05, 11132.94it/s]\n",
            "1110it [00:00, 11091.52it/s]"
          ],
          "name": "stderr"
        },
        {
          "output_type": "stream",
          "text": [
            "\n",
            "Iteration: 20 Loss: 94186850.2188869 Difference: 21.901982226227787\n"
          ],
          "name": "stdout"
        },
        {
          "output_type": "stream",
          "text": [
            "60000it [00:05, 11017.01it/s]\n",
            "1116it [00:00, 11150.89it/s]"
          ],
          "name": "stderr"
        },
        {
          "output_type": "stream",
          "text": [
            "\n",
            "Iteration: 21 Loss: 94185226.07728511 Difference: 18.768791462556187\n"
          ],
          "name": "stdout"
        },
        {
          "output_type": "stream",
          "text": [
            "60000it [00:05, 11024.72it/s]\n",
            "1124it [00:00, 11231.79it/s]"
          ],
          "name": "stderr"
        },
        {
          "output_type": "stream",
          "text": [
            "\n",
            "Iteration: 22 Loss: 94184302.54736972 Difference: 17.452573342431744\n"
          ],
          "name": "stdout"
        },
        {
          "output_type": "stream",
          "text": [
            "60000it [00:05, 11126.77it/s]\n",
            "1112it [00:00, 11109.79it/s]"
          ],
          "name": "stderr"
        },
        {
          "output_type": "stream",
          "text": [
            "\n",
            "Iteration: 23 Loss: 94184121.4109561 Difference: 16.636394851472613\n"
          ],
          "name": "stdout"
        },
        {
          "output_type": "stream",
          "text": [
            "60000it [00:05, 11030.37it/s]\n",
            "1121it [00:00, 11203.57it/s]"
          ],
          "name": "stderr"
        },
        {
          "output_type": "stream",
          "text": [
            "\n",
            "Iteration: 24 Loss: 94183853.50262381 Difference: 14.350169383161315\n"
          ],
          "name": "stdout"
        },
        {
          "output_type": "stream",
          "text": [
            "60000it [00:05, 11126.56it/s]\n",
            "1102it [00:00, 11013.97it/s]"
          ],
          "name": "stderr"
        },
        {
          "output_type": "stream",
          "text": [
            "\n",
            "Iteration: 25 Loss: 94183909.90613295 Difference: 11.959336821689485\n"
          ],
          "name": "stdout"
        },
        {
          "output_type": "stream",
          "text": [
            "60000it [00:05, 11056.71it/s]\n",
            "1117it [00:00, 11166.20it/s]"
          ],
          "name": "stderr"
        },
        {
          "output_type": "stream",
          "text": [
            "\n",
            "Iteration: 26 Loss: 94183682.6112433 Difference: 10.32377522401499\n"
          ],
          "name": "stdout"
        },
        {
          "output_type": "stream",
          "text": [
            "60000it [00:05, 11136.53it/s]\n",
            "1132it [00:00, 11316.99it/s]"
          ],
          "name": "stderr"
        },
        {
          "output_type": "stream",
          "text": [
            "\n",
            "Iteration: 27 Loss: 94183558.38660887 Difference: 9.025898353241892\n"
          ],
          "name": "stdout"
        },
        {
          "output_type": "stream",
          "text": [
            "60000it [00:05, 11231.92it/s]\n",
            "1126it [00:00, 11258.56it/s]"
          ],
          "name": "stderr"
        },
        {
          "output_type": "stream",
          "text": [
            "\n",
            "Iteration: 28 Loss: 94183863.70080289 Difference: 7.95428511448789\n"
          ],
          "name": "stdout"
        },
        {
          "output_type": "stream",
          "text": [
            "60000it [00:05, 11181.84it/s]\n",
            "1129it [00:00, 11285.62it/s]"
          ],
          "name": "stderr"
        },
        {
          "output_type": "stream",
          "text": [
            "\n",
            "Iteration: 29 Loss: 94184142.32075953 Difference: 7.649111541707038\n"
          ],
          "name": "stdout"
        },
        {
          "output_type": "stream",
          "text": [
            "60000it [00:05, 11228.53it/s]\n",
            "1186it [00:00, 11853.99it/s]"
          ],
          "name": "stderr"
        },
        {
          "output_type": "stream",
          "text": [
            "\n",
            "Iteration: 30 Loss: 94184407.0190045 Difference: 8.680109527757377\n"
          ],
          "name": "stdout"
        },
        {
          "output_type": "stream",
          "text": [
            "60000it [00:05, 11273.14it/s]\n",
            "1132it [00:00, 11312.73it/s]"
          ],
          "name": "stderr"
        },
        {
          "output_type": "stream",
          "text": [
            "\n",
            "Iteration: 31 Loss: 94184649.7823742 Difference: 7.221978329642216\n"
          ],
          "name": "stdout"
        },
        {
          "output_type": "stream",
          "text": [
            "60000it [00:05, 11337.47it/s]\n",
            "1139it [00:00, 11389.49it/s]"
          ],
          "name": "stderr"
        },
        {
          "output_type": "stream",
          "text": [
            "\n",
            "Iteration: 32 Loss: 94184571.35587367 Difference: 6.518447469479911\n"
          ],
          "name": "stdout"
        },
        {
          "output_type": "stream",
          "text": [
            "60000it [00:05, 11252.27it/s]\n",
            "1159it [00:00, 11581.70it/s]"
          ],
          "name": "stderr"
        },
        {
          "output_type": "stream",
          "text": [
            "\n",
            "Iteration: 33 Loss: 94184576.57932186 Difference: 4.858756679733047\n"
          ],
          "name": "stdout"
        },
        {
          "output_type": "stream",
          "text": [
            "60000it [00:05, 11337.22it/s]\n",
            "1152it [00:00, 11519.21it/s]"
          ],
          "name": "stderr"
        },
        {
          "output_type": "stream",
          "text": [
            "\n",
            "Iteration: 34 Loss: 94184785.4078262 Difference: 5.701713303490089\n"
          ],
          "name": "stdout"
        },
        {
          "output_type": "stream",
          "text": [
            "60000it [00:05, 11276.05it/s]\n",
            "1129it [00:00, 11282.40it/s]"
          ],
          "name": "stderr"
        },
        {
          "output_type": "stream",
          "text": [
            "\n",
            "Iteration: 35 Loss: 94185160.13819043 Difference: 6.054606935666486\n"
          ],
          "name": "stdout"
        },
        {
          "output_type": "stream",
          "text": [
            "60000it [00:05, 11157.78it/s]\n",
            "1113it [00:00, 11128.63it/s]"
          ],
          "name": "stderr"
        },
        {
          "output_type": "stream",
          "text": [
            "\n",
            "Iteration: 36 Loss: 94185391.87299207 Difference: 5.146804373339575\n"
          ],
          "name": "stdout"
        },
        {
          "output_type": "stream",
          "text": [
            "60000it [00:05, 11173.36it/s]\n",
            "1134it [00:00, 11335.55it/s]"
          ],
          "name": "stderr"
        },
        {
          "output_type": "stream",
          "text": [
            "\n",
            "Iteration: 37 Loss: 94185505.74745186 Difference: 4.6326776704153545\n"
          ],
          "name": "stdout"
        },
        {
          "output_type": "stream",
          "text": [
            "60000it [00:05, 11214.95it/s]\n",
            "1136it [00:00, 11355.14it/s]"
          ],
          "name": "stderr"
        },
        {
          "output_type": "stream",
          "text": [
            "\n",
            "Iteration: 38 Loss: 94185772.38131025 Difference: 4.283244219418839\n"
          ],
          "name": "stdout"
        },
        {
          "output_type": "stream",
          "text": [
            "60000it [00:05, 11270.56it/s]\n",
            "1154it [00:00, 11538.20it/s]"
          ],
          "name": "stderr"
        },
        {
          "output_type": "stream",
          "text": [
            "\n",
            "Iteration: 39 Loss: 94185813.62795696 Difference: 3.9244489137477423\n"
          ],
          "name": "stdout"
        },
        {
          "output_type": "stream",
          "text": [
            "60000it [00:05, 11379.49it/s]\n",
            "1144it [00:00, 11435.46it/s]"
          ],
          "name": "stderr"
        },
        {
          "output_type": "stream",
          "text": [
            "\n",
            "Iteration: 40 Loss: 94185699.8610132 Difference: 3.9145100966378714\n"
          ],
          "name": "stdout"
        },
        {
          "output_type": "stream",
          "text": [
            "60000it [00:05, 11403.63it/s]\n",
            "1151it [00:00, 11507.46it/s]"
          ],
          "name": "stderr"
        },
        {
          "output_type": "stream",
          "text": [
            "\n",
            "Iteration: 41 Loss: 94185853.9542591 Difference: 3.5363876780427557\n"
          ],
          "name": "stdout"
        },
        {
          "output_type": "stream",
          "text": [
            "60000it [00:05, 11316.48it/s]\n",
            "1128it [00:00, 11277.11it/s]"
          ],
          "name": "stderr"
        },
        {
          "output_type": "stream",
          "text": [
            "\n",
            "Iteration: 42 Loss: 94185922.63606842 Difference: 3.558911275014641\n"
          ],
          "name": "stdout"
        },
        {
          "output_type": "stream",
          "text": [
            "60000it [00:05, 10939.88it/s]\n",
            "1093it [00:00, 10929.98it/s]"
          ],
          "name": "stderr"
        },
        {
          "output_type": "stream",
          "text": [
            "\n",
            "Iteration: 43 Loss: 94185947.90806316 Difference: 4.252583081436029\n"
          ],
          "name": "stdout"
        },
        {
          "output_type": "stream",
          "text": [
            "60000it [00:05, 11109.91it/s]\n",
            "1123it [00:00, 11226.75it/s]"
          ],
          "name": "stderr"
        },
        {
          "output_type": "stream",
          "text": [
            "\n",
            "Iteration: 44 Loss: 94186118.28720441 Difference: 4.141242464520558\n"
          ],
          "name": "stdout"
        },
        {
          "output_type": "stream",
          "text": [
            "60000it [00:05, 11357.78it/s]\n",
            "1141it [00:00, 11401.10it/s]"
          ],
          "name": "stderr"
        },
        {
          "output_type": "stream",
          "text": [
            "\n",
            "Iteration: 45 Loss: 94186272.79663147 Difference: 3.4735000449189264\n"
          ],
          "name": "stdout"
        },
        {
          "output_type": "stream",
          "text": [
            "60000it [00:05, 11401.65it/s]\n",
            "1125it [00:00, 11240.85it/s]"
          ],
          "name": "stderr"
        },
        {
          "output_type": "stream",
          "text": [
            "\n",
            "Iteration: 46 Loss: 94186450.70141876 Difference: 4.057025852666382\n"
          ],
          "name": "stdout"
        },
        {
          "output_type": "stream",
          "text": [
            "60000it [00:05, 10969.45it/s]\n",
            "1032it [00:00, 10314.03it/s]"
          ],
          "name": "stderr"
        },
        {
          "output_type": "stream",
          "text": [
            "\n",
            "Iteration: 47 Loss: 94186386.83041771 Difference: 4.3443160247690455\n"
          ],
          "name": "stdout"
        },
        {
          "output_type": "stream",
          "text": [
            "60000it [00:05, 10488.21it/s]\n",
            "1136it [00:00, 11352.22it/s]"
          ],
          "name": "stderr"
        },
        {
          "output_type": "stream",
          "text": [
            "\n",
            "Iteration: 48 Loss: 94186326.50488065 Difference: 3.4529775662511066\n"
          ],
          "name": "stdout"
        },
        {
          "output_type": "stream",
          "text": [
            "60000it [00:05, 11270.96it/s]\n",
            "1123it [00:00, 11228.46it/s]"
          ],
          "name": "stderr"
        },
        {
          "output_type": "stream",
          "text": [
            "\n",
            "Iteration: 49 Loss: 94186413.60584518 Difference: 2.6740893516495845\n"
          ],
          "name": "stdout"
        },
        {
          "output_type": "stream",
          "text": [
            "60000it [00:05, 11249.69it/s]\n",
            "1131it [00:00, 11307.21it/s]"
          ],
          "name": "stderr"
        },
        {
          "output_type": "stream",
          "text": [
            "\n",
            "Iteration: 50 Loss: 94186561.9129105 Difference: 2.140817355911166\n"
          ],
          "name": "stdout"
        },
        {
          "output_type": "stream",
          "text": [
            "60000it [00:05, 11215.62it/s]\n",
            "1121it [00:00, 11202.69it/s]"
          ],
          "name": "stderr"
        },
        {
          "output_type": "stream",
          "text": [
            "\n",
            "Iteration: 51 Loss: 94186624.56416124 Difference: 2.7889557682506103\n"
          ],
          "name": "stdout"
        },
        {
          "output_type": "stream",
          "text": [
            "60000it [00:05, 11195.30it/s]\n",
            "1141it [00:00, 11409.82it/s]"
          ],
          "name": "stderr"
        },
        {
          "output_type": "stream",
          "text": [
            "\n",
            "Iteration: 52 Loss: 94186814.41686404 Difference: 2.621616742700301\n"
          ],
          "name": "stdout"
        },
        {
          "output_type": "stream",
          "text": [
            "60000it [00:05, 11165.08it/s]\n",
            "1136it [00:00, 11350.86it/s]"
          ],
          "name": "stderr"
        },
        {
          "output_type": "stream",
          "text": [
            "\n",
            "Iteration: 53 Loss: 94186888.96905978 Difference: 3.4657526752252914\n"
          ],
          "name": "stdout"
        },
        {
          "output_type": "stream",
          "text": [
            "60000it [00:05, 11139.26it/s]\n",
            "1109it [00:00, 11089.06it/s]"
          ],
          "name": "stderr"
        },
        {
          "output_type": "stream",
          "text": [
            "\n",
            "Iteration: 54 Loss: 94187004.2203573 Difference: 4.237483995111118\n"
          ],
          "name": "stdout"
        },
        {
          "output_type": "stream",
          "text": [
            "60000it [00:05, 11101.49it/s]\n",
            "1112it [00:00, 11115.98it/s]"
          ],
          "name": "stderr"
        },
        {
          "output_type": "stream",
          "text": [
            "\n",
            "Iteration: 55 Loss: 94187145.37928776 Difference: 5.138393518600194\n"
          ],
          "name": "stdout"
        },
        {
          "output_type": "stream",
          "text": [
            "60000it [00:05, 11205.69it/s]\n",
            "1125it [00:00, 11241.62it/s]"
          ],
          "name": "stderr"
        },
        {
          "output_type": "stream",
          "text": [
            "\n",
            "Iteration: 56 Loss: 94187065.51082428 Difference: 4.8614201342409915\n"
          ],
          "name": "stdout"
        },
        {
          "output_type": "stream",
          "text": [
            "60000it [00:05, 11239.56it/s]\n",
            "1132it [00:00, 11317.72it/s]"
          ],
          "name": "stderr"
        },
        {
          "output_type": "stream",
          "text": [
            "\n",
            "Iteration: 57 Loss: 94186924.16282833 Difference: 3.565119480771146\n"
          ],
          "name": "stdout"
        },
        {
          "output_type": "stream",
          "text": [
            "60000it [00:05, 11201.04it/s]\n",
            "1129it [00:00, 11281.32it/s]"
          ],
          "name": "stderr"
        },
        {
          "output_type": "stream",
          "text": [
            "\n",
            "Iteration: 58 Loss: 94186943.17475247 Difference: 3.6991363622395235\n"
          ],
          "name": "stdout"
        },
        {
          "output_type": "stream",
          "text": [
            "60000it [00:05, 11192.05it/s]\n",
            "1112it [00:00, 11117.60it/s]"
          ],
          "name": "stderr"
        },
        {
          "output_type": "stream",
          "text": [
            "\n",
            "Iteration: 59 Loss: 94187062.757024 Difference: 3.2143274230573997\n"
          ],
          "name": "stdout"
        },
        {
          "output_type": "stream",
          "text": [
            "60000it [00:05, 11209.15it/s]\n",
            "1130it [00:00, 11293.76it/s]"
          ],
          "name": "stderr"
        },
        {
          "output_type": "stream",
          "text": [
            "\n",
            "Iteration: 60 Loss: 94187040.56207101 Difference: 2.409474535529772\n"
          ],
          "name": "stdout"
        },
        {
          "output_type": "stream",
          "text": [
            "60000it [00:05, 11251.28it/s]\n",
            "1142it [00:00, 11418.16it/s]"
          ],
          "name": "stderr"
        },
        {
          "output_type": "stream",
          "text": [
            "\n",
            "Iteration: 61 Loss: 94186984.88407813 Difference: 2.6077272427756504\n"
          ],
          "name": "stdout"
        },
        {
          "output_type": "stream",
          "text": [
            "60000it [00:05, 11198.69it/s]\n",
            "1125it [00:00, 11241.89it/s]"
          ],
          "name": "stderr"
        },
        {
          "output_type": "stream",
          "text": [
            "\n",
            "Iteration: 62 Loss: 94187022.21974021 Difference: 2.5226441588597175\n"
          ],
          "name": "stdout"
        },
        {
          "output_type": "stream",
          "text": [
            "60000it [00:05, 11184.44it/s]\n",
            "1130it [00:00, 11292.50it/s]"
          ],
          "name": "stderr"
        },
        {
          "output_type": "stream",
          "text": [
            "\n",
            "Iteration: 63 Loss: 94187075.31312951 Difference: 1.0492378224736494\n"
          ],
          "name": "stdout"
        },
        {
          "output_type": "stream",
          "text": [
            "60000it [00:05, 11212.06it/s]\n",
            "1139it [00:00, 11385.04it/s]"
          ],
          "name": "stderr"
        },
        {
          "output_type": "stream",
          "text": [
            "\n",
            "Iteration: 64 Loss: 94187105.4975797 Difference: 0.6412722993335542\n"
          ],
          "name": "stdout"
        },
        {
          "output_type": "stream",
          "text": [
            "60000it [00:05, 11228.88it/s]\n",
            "1123it [00:00, 11229.42it/s]"
          ],
          "name": "stderr"
        },
        {
          "output_type": "stream",
          "text": [
            "\n",
            "Iteration: 65 Loss: 94187083.26530105 Difference: 0.5343549146525232\n"
          ],
          "name": "stdout"
        },
        {
          "output_type": "stream",
          "text": [
            "60000it [00:05, 11205.79it/s]\n",
            "1126it [00:00, 11252.31it/s]"
          ],
          "name": "stderr"
        },
        {
          "output_type": "stream",
          "text": [
            "\n",
            "Iteration: 66 Loss: 94187074.92074606 Difference: 0.5783636323185389\n"
          ],
          "name": "stdout"
        },
        {
          "output_type": "stream",
          "text": [
            "60000it [00:05, 11197.89it/s]\n",
            "1102it [00:00, 11017.62it/s]"
          ],
          "name": "stderr"
        },
        {
          "output_type": "stream",
          "text": [
            "\n",
            "Iteration: 67 Loss: 94187074.91947211 Difference: 0.2787421566624438\n"
          ],
          "name": "stdout"
        },
        {
          "output_type": "stream",
          "text": [
            "60000it [00:05, 11166.44it/s]\n",
            "1125it [00:00, 11244.22it/s]"
          ],
          "name": "stderr"
        },
        {
          "output_type": "stream",
          "text": [
            "\n",
            "Iteration: 68 Loss: 94187074.91947155 Difference: 4.023103450349125e-05\n"
          ],
          "name": "stdout"
        },
        {
          "output_type": "stream",
          "text": [
            "60000it [00:05, 11153.91it/s]\n"
          ],
          "name": "stderr"
        },
        {
          "output_type": "stream",
          "text": [
            "\n",
            "Iteration: 69 Loss: 94187074.91947155 Difference: 5.824098400350169e-09\n",
            "Converged! With distance: 9.538821209896117e-13\n"
          ],
          "name": "stdout"
        }
      ]
    },
    {
      "metadata": {
        "id": "vml23dmrVdew",
        "colab_type": "text"
      },
      "cell_type": "markdown",
      "source": [
        "### Mean Images"
      ]
    },
    {
      "metadata": {
        "id": "RU7uW6LYVWMP",
        "colab_type": "code",
        "outputId": "8d9e4e4d-f678-44c5-dc8b-8987cb746e40",
        "colab": {
          "base_uri": "https://localhost:8080/",
          "height": 247
        }
      },
      "cell_type": "code",
      "source": [
        "data_reader.plot_imgs(kmeans.centroids,len(kmeans.centroids))"
      ],
      "execution_count": 13,
      "outputs": [
        {
          "output_type": "display_data",
          "data": {
            "image/png": "[encoded data removed]",
            "text/plain": [
              "<matplotlib.figure.Figure at 0x7f56ff103160>"
            ]
          },
          "metadata": {
            "tags": []
          }
        }
      ]
    },
    {
      "metadata": {
        "id": "3f9ZtxGEVbuq",
        "colab_type": "text"
      },
      "cell_type": "markdown",
      "source": [
        "### Loss"
      ]
    },
    {
      "metadata": {
        "id": "JZcgQ8b1VVtH",
        "colab_type": "code",
        "outputId": "539fafa0-fe48-4fe2-aa28-46d445ef89e0",
        "colab": {
          "base_uri": "https://localhost:8080/",
          "height": 375
        }
      },
      "cell_type": "code",
      "source": [
        "print('Loss')\n",
        "plt.plot(range(kmeans.iterations),kmeans.loss_per_iteration)\n",
        "plt.show()"
      ],
      "execution_count": 14,
      "outputs": [
        {
          "output_type": "stream",
          "text": [
            "Loss\n"
          ],
          "name": "stdout"
        },
        {
          "output_type": "display_data",
          "data": {
            "image/png": "[encoded data removed]",
            "text/plain": [
              "<matplotlib.figure.Figure at 0x7f56fb1595c0>"
            ]
          },
          "metadata": {
            "tags": []
          }
        }
      ]
    },
    {
      "metadata": {
        "id": "YAqa0lLYVg7M",
        "colab_type": "text"
      },
      "cell_type": "markdown",
      "source": [
        "### Clustered Samples"
      ]
    },
    {
      "metadata": {
        "id": "JtiopQD9TPXP",
        "colab_type": "code",
        "outputId": "775d5919-d91e-45db-f1a6-cae44b50bea9",
        "colab": {
          "base_uri": "https://localhost:8080/",
          "height": 3247
        }
      },
      "cell_type": "code",
      "source": [
        "for key,data in list(kmeans.clusters['data'].items()):\n",
        "    print('Cluster',key)\n",
        "    data_reader.plot_imgs(data[:min(25,data.shape[0])],min(25,data.shape[0]))"
      ],
      "execution_count": 18,
      "outputs": [
        {
          "output_type": "stream",
          "text": [
            "Cluster 0\n"
          ],
          "name": "stdout"
        },
        {
          "output_type": "display_data",
          "data": {
            "image/png": "[encoded data removed]",
            "text/plain": [
              "<matplotlib.figure.Figure at 0x7f56fb1052b0>"
            ]
          },
          "metadata": {
            "tags": []
          }
        },
        {
          "output_type": "stream",
          "text": [
            "Cluster 1\n"
          ],
          "name": "stdout"
        },
        {
          "output_type": "display_data",
          "data": {
            "image/png": "[encoded data removed]",
            "text/plain": [
              "<matplotlib.figure.Figure at 0x7f56faa37320>"
            ]
          },
          "metadata": {
            "tags": []
          }
        },
        {
          "output_type": "stream",
          "text": [
            "Cluster 2\n"
          ],
          "name": "stdout"
        },
        {
          "output_type": "display_data",
          "data": {
            "image/png": "[encoded data removed]",
            "text/plain": [
              "<matplotlib.figure.Figure at 0x7f56fb127470>"
            ]
          },
          "metadata": {
            "tags": []
          }
        },
        {
          "output_type": "stream",
          "text": [
            "Cluster 3\n"
          ],
          "name": "stdout"
        },
        {
          "output_type": "display_data",
          "data": {
            "image/png": "[encoded data removed]",
            "text/plain": [
              "<matplotlib.figure.Figure at 0x7f56fb74f588>"
            ]
          },
          "metadata": {
            "tags": []
          }
        },
        {
          "output_type": "stream",
          "text": [
            "Cluster 4\n"
          ],
          "name": "stdout"
        },
        {
          "output_type": "display_data",
          "data": {
            "image/png": "[encoded data removed]",
            "text/plain": [
              "<matplotlib.figure.Figure at 0x7f56fb3f2a90>"
            ]
          },
          "metadata": {
            "tags": []
          }
        },
        {
          "output_type": "stream",
          "text": [
            "Cluster 5\n"
          ],
          "name": "stdout"
        },
        {
          "output_type": "display_data",
          "data": {
            "image/png": "[encoded data removed]",
            "text/plain": [
              "<matplotlib.figure.Figure at 0x7f56fb153278>"
            ]
          },
          "metadata": {
            "tags": []
          }
        },
        {
          "output_type": "stream",
          "text": [
            "Cluster 6\n"
          ],
          "name": "stdout"
        },
        {
          "output_type": "display_data",
          "data": {
            "image/png": "[encoded data removed]",
            "text/plain": [
              "<matplotlib.figure.Figure at 0x7f56fb632278>"
            ]
          },
          "metadata": {
            "tags": []
          }
        },
        {
          "output_type": "stream",
          "text": [
            "Cluster 7\n"
          ],
          "name": "stdout"
        },
        {
          "output_type": "display_data",
          "data": {
            "image/png": "[encoded data removed]",
            "text/plain": [
              "<matplotlib.figure.Figure at 0x7f56fb575748>"
            ]
          },
          "metadata": {
            "tags": []
          }
        },
        {
          "output_type": "stream",
          "text": [
            "Cluster 8\n"
          ],
          "name": "stdout"
        },
        {
          "output_type": "display_data",
          "data": {
            "image/png": "[encoded data removed]",
            "text/plain": [
              "<matplotlib.figure.Figure at 0x7f56fac0bcc0>"
            ]
          },
          "metadata": {
            "tags": []
          }
        },
        {
          "output_type": "stream",
          "text": [
            "Cluster 9\n"
          ],
          "name": "stdout"
        },
        {
          "output_type": "display_data",
          "data": {
            "image/png": "[encoded data removed]",
            "text/plain": [
              "<matplotlib.figure.Figure at 0x7f56fb522470>"
            ]
          },
          "metadata": {
            "tags": []
          }
        }
      ]
    },
    {
      "metadata": {
        "id": "kXO-SLgTbA5-",
        "colab_type": "text"
      },
      "cell_type": "markdown",
      "source": [
        "### Accuracy"
      ]
    },
    {
      "metadata": {
        "id": "1HcjZD0EDghX",
        "colab_type": "code",
        "outputId": "6fdb1395-4f32-4e13-e76a-34d4d414abcb",
        "colab": {
          "base_uri": "https://localhost:8080/",
          "height": 71
        }
      },
      "cell_type": "code",
      "source": [
        "clusters_labels = []\n",
        "clusters_info = []\n",
        "clusters_accuracy = []\n",
        "for clust,labels in list(kmeans.clusters['labels'].items()):\n",
        "  if data_reader.type == 'mnist':\n",
        "    labels = [l[0] for l in labels]\n",
        "  occur = 0\n",
        "  max_label = max(set(labels), key=labels.count)\n",
        "  clusters_labels.append(max_label)\n",
        "  for label in labels:\n",
        "    if label == max_label:\n",
        "      occur+=1\n",
        "  acc = occur/len(labels)\n",
        "  clusters_info.append([max_label,occur,len(labels),acc])\n",
        "  clusters_accuracy.append(acc)\n",
        "total_acc = sum(clusters_accuracy)/kmeans.n_clusters\n",
        "print(clusters_info)\n",
        "print('Accuracy:',total_acc)"
      ],
      "execution_count": 16,
      "outputs": [
        {
          "output_type": "stream",
          "text": [
            "[[9, 2473, 7239, 0.3416217709628402], [6, 4591, 5396, 0.850815418828762], [4, 2188, 5416, 0.40398818316100443], [3, 3888, 7791, 0.49903735078937234], [2, 4193, 4636, 0.9044434857635893], [8, 3104, 7063, 0.4394733116239558], [0, 4675, 4974, 0.9398874145556896], [1, 2977, 5296, 0.5621223564954683], [7, 2824, 6691, 0.42205948288746076], [1, 3713, 5498, 0.6753364859949073]]\n",
            "Accuracy: 0.603878526106305\n"
          ],
          "name": "stdout"
        }
      ]
    }
  ]
}