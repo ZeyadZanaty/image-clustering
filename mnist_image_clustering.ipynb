{
  "nbformat": 4,
  "nbformat_minor": 0,
  "metadata": {
    "colab": {
      "name": "mnist-image-clustering",
      "version": "0.3.2",
      "provenance": [],
      "collapsed_sections": [],
      "include_colab_link": true
    },
    "kernelspec": {
      "name": "python3",
      "display_name": "Python 3"
    }
  },
  "cells": [
    {
      "cell_type": "markdown",
      "metadata": {
        "id": "view-in-github",
        "colab_type": "text"
      },
      "source": [
        "<a href=\"https://colab.research.google.com/github/ZeyadZanaty/image-clustering/blob/master/mnist_image_clustering.ipynb\" target=\"_parent\"><img src=\"https://colab.research.google.com/assets/colab-badge.svg\" alt=\"Open In Colab\"/></a>"
      ]
    },
    {
      "metadata": {
        "id": "o2b0FP0uSAd3",
        "colab_type": "text"
      },
      "cell_type": "markdown",
      "source": [
        "## Datasets Download"
      ]
    },
    {
      "metadata": {
        "id": "RMwJGgE8QWE8",
        "colab_type": "code",
        "outputId": "d985788b-ee93-4927-8b95-af5c8cb5ede5",
        "colab": {
          "base_uri": "https://localhost:8080/",
          "height": 391
        }
      },
      "cell_type": "code",
      "source": [
        "!wget 'http://yann.lecun.com/exdb/mnist/train-images-idx3-ubyte.gz'\n",
        "!wget 'http://yann.lecun.com/exdb/mnist/train-labels-idx1-ubyte.gz'\n",
        "!gunzip train-images-idx3-ubyte.gz\n",
        "!gunzip train-labels-idx1-ubyte.gz"
      ],
      "execution_count": 1,
      "outputs": [
        {
          "output_type": "stream",
          "text": [
            "--2018-12-20 17:04:02--  http://yann.lecun.com/exdb/mnist/train-images-idx3-ubyte.gz\n",
            "Resolving yann.lecun.com (yann.lecun.com)... 216.165.22.6\n",
            "Connecting to yann.lecun.com (yann.lecun.com)|216.165.22.6|:80... connected.\n",
            "HTTP request sent, awaiting response... 200 OK\n",
            "Length: 9912422 (9.5M) [application/x-gzip]\n",
            "Saving to: ‘train-images-idx3-ubyte.gz’\n",
            "\n",
            "train-images-idx3-u 100%[===================>]   9.45M  11.8MB/s    in 0.8s    \n",
            "\n",
            "2018-12-20 17:04:03 (11.8 MB/s) - ‘train-images-idx3-ubyte.gz’ saved [9912422/9912422]\n",
            "\n",
            "--2018-12-20 17:04:07--  http://yann.lecun.com/exdb/mnist/train-labels-idx1-ubyte.gz\n",
            "Resolving yann.lecun.com (yann.lecun.com)... 216.165.22.6\n",
            "Connecting to yann.lecun.com (yann.lecun.com)|216.165.22.6|:80... connected.\n",
            "HTTP request sent, awaiting response... 200 OK\n",
            "Length: 28881 (28K) [application/x-gzip]\n",
            "Saving to: ‘train-labels-idx1-ubyte.gz’\n",
            "\n",
            "train-labels-idx1-u 100%[===================>]  28.20K  --.-KB/s    in 0.08s   \n",
            "\n",
            "2018-12-20 17:04:07 (342 KB/s) - ‘train-labels-idx1-ubyte.gz’ saved [28881/28881]\n",
            "\n"
          ],
          "name": "stdout"
        }
      ]
    },
    {
      "metadata": {
        "id": "UtCC1UZXR2C6",
        "colab_type": "text"
      },
      "cell_type": "markdown",
      "source": [
        "## Clone Repo"
      ]
    },
    {
      "metadata": {
        "id": "iLW1SxubSTpA",
        "colab_type": "code",
        "outputId": "c5d62888-1221-491b-e9f7-a62757e6c2ac",
        "colab": {
          "base_uri": "https://localhost:8080/",
          "height": 119
        }
      },
      "cell_type": "code",
      "source": [
        "!git clone https://github.com/ZeyadZanaty/image-clustering.git"
      ],
      "execution_count": 2,
      "outputs": [
        {
          "output_type": "stream",
          "text": [
            "Cloning into 'image-clustering'...\n",
            "remote: Enumerating objects: 63, done.\u001b[K\n",
            "remote: Counting objects:   1% (1/63)   \u001b[K\rremote: Counting objects:   3% (2/63)   \u001b[K\rremote: Counting objects:   4% (3/63)   \u001b[K\rremote: Counting objects:   6% (4/63)   \u001b[K\rremote: Counting objects:   7% (5/63)   \u001b[K\rremote: Counting objects:   9% (6/63)   \u001b[K\rremote: Counting objects:  11% (7/63)   \u001b[K\rremote: Counting objects:  12% (8/63)   \u001b[K\rremote: Counting objects:  14% (9/63)   \u001b[K\rremote: Counting objects:  15% (10/63)   \u001b[K\rremote: Counting objects:  17% (11/63)   \u001b[K\rremote: Counting objects:  19% (12/63)   \u001b[K\rremote: Counting objects:  20% (13/63)   \u001b[K\rremote: Counting objects:  22% (14/63)   \u001b[K\rremote: Counting objects:  23% (15/63)   \u001b[K\rremote: Counting objects:  25% (16/63)   \u001b[K\rremote: Counting objects:  26% (17/63)   \u001b[K\rremote: Counting objects:  28% (18/63)   \u001b[K\rremote: Counting objects:  30% (19/63)   \u001b[K\rremote: Counting objects:  31% (20/63)   \u001b[K\rremote: Counting objects:  33% (21/63)   \u001b[K\rremote: Counting objects:  34% (22/63)   \u001b[K\rremote: Counting objects:  36% (23/63)   \u001b[K\rremote: Counting objects:  38% (24/63)   \u001b[K\rremote: Counting objects:  39% (25/63)   \u001b[K\rremote: Counting objects:  41% (26/63)   \u001b[K\rremote: Counting objects:  42% (27/63)   \u001b[K\rremote: Counting objects:  44% (28/63)   \u001b[K\rremote: Counting objects:  46% (29/63)   \u001b[K\rremote: Counting objects:  47% (30/63)   \u001b[K\rremote: Counting objects:  49% (31/63)   \u001b[K\rremote: Counting objects:  50% (32/63)   \u001b[K\rremote: Counting objects:  52% (33/63)   \u001b[K\rremote: Counting objects:  53% (34/63)   \u001b[K\rremote: Counting objects:  55% (35/63)   \u001b[K\rremote: Counting objects:  57% (36/63)   \u001b[K\rremote: Counting objects:  58% (37/63)   \u001b[K\rremote: Counting objects:  60% (38/63)   \u001b[K\rremote: Counting objects:  61% (39/63)   \u001b[K\rremote: Counting objects:  63% (40/63)   \u001b[K\rremote: Counting objects:  65% (41/63)   \u001b[K\rremote: Counting objects:  66% (42/63)   \u001b[K\rremote: Counting objects:  68% (43/63)   \u001b[K\rremote: Counting objects:  69% (44/63)   \u001b[K\rremote: Counting objects:  71% (45/63)   \u001b[K\rremote: Counting objects:  73% (46/63)   \u001b[K\rremote: Counting objects:  74% (47/63)   \u001b[K\rremote: Counting objects:  76% (48/63)   \u001b[K\rremote: Counting objects:  77% (49/63)   \u001b[K\rremote: Counting objects:  79% (50/63)   \u001b[K\rremote: Counting objects:  80% (51/63)   \u001b[K\rremote: Counting objects:  82% (52/63)   \u001b[K\rremote: Counting objects:  84% (53/63)   \u001b[K\rremote: Counting objects:  85% (54/63)   \u001b[K\rremote: Counting objects:  87% (55/63)   \u001b[K\rremote: Counting objects:  88% (56/63)   \u001b[K\rremote: Counting objects:  90% (57/63)   \u001b[K\rremote: Counting objects:  92% (58/63)   \u001b[K\rremote: Counting objects:  93% (59/63)   \u001b[K\rremote: Counting objects:  95% (60/63)   \u001b[K\rremote: Counting objects:  96% (61/63)   \u001b[K\rremote: Counting objects:  98% (62/63)   \u001b[K\rremote: Counting objects: 100% (63/63)   \u001b[K\rremote: Counting objects: 100% (63/63), done.\u001b[K\n",
            "remote: Compressing objects:   2% (1/47)   \u001b[K\rremote: Compressing objects:   4% (2/47)   \u001b[K\rremote: Compressing objects:   6% (3/47)   \u001b[K\rremote: Compressing objects:   8% (4/47)   \u001b[K\rremote: Compressing objects:  10% (5/47)   \u001b[K\rremote: Compressing objects:  12% (6/47)   \u001b[K\rremote: Compressing objects:  14% (7/47)   \u001b[K\rremote: Compressing objects:  17% (8/47)   \u001b[K\rremote: Compressing objects:  19% (9/47)   \u001b[K\rremote: Compressing objects:  21% (10/47)   \u001b[K\rremote: Compressing objects:  23% (11/47)   \u001b[K\rremote: Compressing objects:  25% (12/47)   \u001b[K\rremote: Compressing objects:  27% (13/47)   \u001b[K\rremote: Compressing objects:  29% (14/47)   \u001b[K\rremote: Compressing objects:  31% (15/47)   \u001b[K\rremote: Compressing objects:  34% (16/47)   \u001b[K\rremote: Compressing objects:  36% (17/47)   \u001b[K\rremote: Compressing objects:  38% (18/47)   \u001b[K\rremote: Compressing objects:  40% (19/47)   \u001b[K\rremote: Compressing objects:  42% (20/47)   \u001b[K\rremote: Compressing objects:  44% (21/47)   \u001b[K\rremote: Compressing objects:  46% (22/47)   \u001b[K\rremote: Compressing objects:  48% (23/47)   \u001b[K\rremote: Compressing objects:  51% (24/47)   \u001b[K\rremote: Compressing objects:  53% (25/47)   \u001b[K\rremote: Compressing objects:  55% (26/47)   \u001b[K\rremote: Compressing objects:  57% (27/47)   \u001b[K\rremote: Compressing objects:  59% (28/47)   \u001b[K\rremote: Compressing objects:  61% (29/47)   \u001b[K\rremote: Compressing objects:  63% (30/47)   \u001b[K\rremote: Compressing objects:  65% (31/47)   \u001b[K\rremote: Compressing objects:  68% (32/47)   \u001b[K\rremote: Compressing objects:  70% (33/47)   \u001b[K\rremote: Compressing objects:  72% (34/47)   \u001b[K\rremote: Compressing objects:  74% (35/47)   \u001b[K\rremote: Compressing objects:  76% (36/47)   \u001b[K\rremote: Compressing objects:  78% (37/47)   \u001b[K\rremote: Compressing objects:  80% (38/47)   \u001b[K\rremote: Compressing objects:  82% (39/47)   \u001b[K\rremote: Compressing objects:  85% (40/47)   \u001b[K\rremote: Compressing objects:  87% (41/47)   \u001b[K\rremote: Compressing objects:  89% (42/47)   \u001b[K\rremote: Compressing objects:  91% (43/47)   \u001b[K\rremote: Compressing objects:  93% (44/47)   \u001b[K\rremote: Compressing objects:  95% (45/47)   \u001b[K\rremote: Compressing objects:  97% (46/47)   \u001b[K\rremote: Compressing objects: 100% (47/47)   \u001b[K\rremote: Compressing objects: 100% (47/47), done.\u001b[K\n",
            "Unpacking objects:   1% (1/63)   \rUnpacking objects:   3% (2/63)   \rUnpacking objects:   4% (3/63)   \rUnpacking objects:   6% (4/63)   \rUnpacking objects:   7% (5/63)   \rUnpacking objects:   9% (6/63)   \rUnpacking objects:  11% (7/63)   \rUnpacking objects:  12% (8/63)   \rUnpacking objects:  14% (9/63)   \rUnpacking objects:  15% (10/63)   \rUnpacking objects:  17% (11/63)   \rUnpacking objects:  19% (12/63)   \rUnpacking objects:  20% (13/63)   \rUnpacking objects:  22% (14/63)   \rUnpacking objects:  23% (15/63)   \rUnpacking objects:  25% (16/63)   \rUnpacking objects:  26% (17/63)   \rUnpacking objects:  28% (18/63)   \rUnpacking objects:  30% (19/63)   \rUnpacking objects:  31% (20/63)   \rUnpacking objects:  33% (21/63)   \rUnpacking objects:  34% (22/63)   \rUnpacking objects:  36% (23/63)   \rUnpacking objects:  38% (24/63)   \rUnpacking objects:  39% (25/63)   \rUnpacking objects:  41% (26/63)   \rUnpacking objects:  42% (27/63)   \rUnpacking objects:  44% (28/63)   \rUnpacking objects:  46% (29/63)   \rUnpacking objects:  47% (30/63)   \rUnpacking objects:  49% (31/63)   \rremote: Total 63 (delta 31), reused 37 (delta 15), pack-reused 0\u001b[K\n",
            "Unpacking objects:  50% (32/63)   \rUnpacking objects:  52% (33/63)   \rUnpacking objects:  53% (34/63)   \rUnpacking objects:  55% (35/63)   \rUnpacking objects:  57% (36/63)   \rUnpacking objects:  58% (37/63)   \rUnpacking objects:  60% (38/63)   \rUnpacking objects:  61% (39/63)   \rUnpacking objects:  63% (40/63)   \rUnpacking objects:  65% (41/63)   \rUnpacking objects:  66% (42/63)   \rUnpacking objects:  68% (43/63)   \rUnpacking objects:  69% (44/63)   \rUnpacking objects:  71% (45/63)   \rUnpacking objects:  73% (46/63)   \rUnpacking objects:  74% (47/63)   \rUnpacking objects:  76% (48/63)   \rUnpacking objects:  77% (49/63)   \rUnpacking objects:  79% (50/63)   \rUnpacking objects:  80% (51/63)   \rUnpacking objects:  82% (52/63)   \rUnpacking objects:  84% (53/63)   \rUnpacking objects:  85% (54/63)   \rUnpacking objects:  87% (55/63)   \rUnpacking objects:  88% (56/63)   \rUnpacking objects:  90% (57/63)   \rUnpacking objects:  92% (58/63)   \rUnpacking objects:  93% (59/63)   \rUnpacking objects:  95% (60/63)   \rUnpacking objects:  96% (61/63)   \rUnpacking objects:  98% (62/63)   \rUnpacking objects: 100% (63/63)   \rUnpacking objects: 100% (63/63), done.\n"
          ],
          "name": "stdout"
        }
      ]
    },
    {
      "metadata": {
        "id": "4oc3awGlSoyI",
        "colab_type": "text"
      },
      "cell_type": "markdown",
      "source": [
        "## Imports"
      ]
    },
    {
      "metadata": {
        "id": "0IS3A9X7SZLy",
        "colab_type": "code",
        "colab": {}
      },
      "cell_type": "code",
      "source": [
        "import os\n",
        "os.chdir('image-clustering')\n",
        "from DataReader import DataReader\n",
        "from KMeans import KMeans\n",
        "import matplotlib.pyplot as plt\n",
        "import numpy as np"
      ],
      "execution_count": 0,
      "outputs": []
    },
    {
      "metadata": {
        "id": "CrMLmF2bZ3Ux",
        "colab_type": "text"
      },
      "cell_type": "markdown",
      "source": [
        "## Data Reading"
      ]
    },
    {
      "metadata": {
        "id": "2BOXOU9RZ0hi",
        "colab_type": "code",
        "colab": {
          "base_uri": "https://localhost:8080/",
          "height": 323
        },
        "outputId": "9944a0a6-cf93-4317-9dc4-714a089cb517"
      },
      "cell_type": "code",
      "source": [
        "data_reader = DataReader('../','mnist')\n",
        "tr_data, tr_class_labels, tr_subclass_labels = data_reader.get_train_data()\n",
        "data_reader.plot_imgs(tr_data,25,True)"
      ],
      "execution_count": 4,
      "outputs": [
        {
          "output_type": "display_data",
          "data": {
            "image/png": "[encoded data removed]",
            "text/plain": [
              "<matplotlib.figure.Figure at 0x7f0415ac7d30>"
            ]
          },
          "metadata": {
            "tags": []
          }
        }
      ]
    },
    {
      "metadata": {
        "id": "CttQL9HYZ8uT",
        "colab_type": "text"
      },
      "cell_type": "markdown",
      "source": [
        "## K-Means"
      ]
    },
    {
      "metadata": {
        "id": "7Syh9A8hSr6l",
        "colab_type": "code",
        "outputId": "62355a19-762b-4f89-ca3e-ba025fdb5f66",
        "colab": {
          "base_uri": "https://localhost:8080/",
          "height": 4525
        }
      },
      "cell_type": "code",
      "source": [
        "kmeans = KMeans(n_clusters=10,max_iter=200)\n",
        "kmeans.fit(tr_data,tr_class_labels)"
      ],
      "execution_count": 5,
      "outputs": [
        {
          "output_type": "stream",
          "text": [
            "60000it [00:05, 10780.14it/s]\n",
            "1133it [00:00, 11327.55it/s]"
          ],
          "name": "stderr"
        },
        {
          "output_type": "stream",
          "text": [
            "\n",
            "Iteration: 0 Loss: 100907639.64540386 Difference: 20953.147329220017\n"
          ],
          "name": "stdout"
        },
        {
          "output_type": "stream",
          "text": [
            "60000it [00:05, 11080.07it/s]\n",
            "1117it [00:00, 11166.74it/s]"
          ],
          "name": "stderr"
        },
        {
          "output_type": "stream",
          "text": [
            "\n",
            "Iteration: 1 Loss: 98227659.38843286 Difference: 4169.369267723922\n"
          ],
          "name": "stdout"
        },
        {
          "output_type": "stream",
          "text": [
            "60000it [00:05, 11008.09it/s]\n",
            "1137it [00:00, 11362.67it/s]"
          ],
          "name": "stderr"
        },
        {
          "output_type": "stream",
          "text": [
            "\n",
            "Iteration: 2 Loss: 96888322.60103035 Difference: 806.8418485001038\n"
          ],
          "name": "stdout"
        },
        {
          "output_type": "stream",
          "text": [
            "60000it [00:05, 10955.75it/s]\n",
            "1095it [00:00, 10948.21it/s]"
          ],
          "name": "stderr"
        },
        {
          "output_type": "stream",
          "text": [
            "\n",
            "Iteration: 3 Loss: 95911607.03178343 Difference: 663.4403636818968\n"
          ],
          "name": "stdout"
        },
        {
          "output_type": "stream",
          "text": [
            "60000it [00:05, 10847.87it/s]\n",
            "1128it [00:00, 11274.23it/s]"
          ],
          "name": "stderr"
        },
        {
          "output_type": "stream",
          "text": [
            "\n",
            "Iteration: 4 Loss: 95621197.11658658 Difference: 477.7000230365797\n"
          ],
          "name": "stdout"
        },
        {
          "output_type": "stream",
          "text": [
            "60000it [00:05, 11066.90it/s]\n",
            "1135it [00:00, 11348.82it/s]"
          ],
          "name": "stderr"
        },
        {
          "output_type": "stream",
          "text": [
            "\n",
            "Iteration: 5 Loss: 95494886.70835131 Difference: 238.86573215899648\n"
          ],
          "name": "stdout"
        },
        {
          "output_type": "stream",
          "text": [
            "60000it [00:05, 11115.62it/s]\n",
            "1124it [00:00, 11234.33it/s]"
          ],
          "name": "stderr"
        },
        {
          "output_type": "stream",
          "text": [
            "\n",
            "Iteration: 6 Loss: 95401944.1448717 Difference: 159.23991431458683\n"
          ],
          "name": "stdout"
        },
        {
          "output_type": "stream",
          "text": [
            "60000it [00:05, 11111.61it/s]\n",
            "1141it [00:00, 11408.24it/s]"
          ],
          "name": "stderr"
        },
        {
          "output_type": "stream",
          "text": [
            "\n",
            "Iteration: 7 Loss: 95306136.27232546 Difference: 147.0719529231736\n"
          ],
          "name": "stdout"
        },
        {
          "output_type": "stream",
          "text": [
            "60000it [00:05, 11163.01it/s]\n",
            "1133it [00:00, 11325.61it/s]"
          ],
          "name": "stderr"
        },
        {
          "output_type": "stream",
          "text": [
            "\n",
            "Iteration: 8 Loss: 95195687.01518357 Difference: 162.27174991981974\n"
          ],
          "name": "stdout"
        },
        {
          "output_type": "stream",
          "text": [
            "60000it [00:05, 11223.27it/s]\n",
            "1125it [00:00, 11241.94it/s]"
          ],
          "name": "stderr"
        },
        {
          "output_type": "stream",
          "text": [
            "\n",
            "Iteration: 9 Loss: 95108268.60711862 Difference: 183.96190039413338\n"
          ],
          "name": "stdout"
        },
        {
          "output_type": "stream",
          "text": [
            "60000it [00:05, 11074.63it/s]\n",
            "1118it [00:00, 11179.32it/s]"
          ],
          "name": "stderr"
        },
        {
          "output_type": "stream",
          "text": [
            "\n",
            "Iteration: 10 Loss: 95063286.96739373 Difference: 151.79614276303613\n"
          ],
          "name": "stdout"
        },
        {
          "output_type": "stream",
          "text": [
            "60000it [00:05, 10778.14it/s]\n",
            "1085it [00:00, 10849.78it/s]"
          ],
          "name": "stderr"
        },
        {
          "output_type": "stream",
          "text": [
            "\n",
            "Iteration: 11 Loss: 95032914.81778435 Difference: 102.40723965135894\n"
          ],
          "name": "stdout"
        },
        {
          "output_type": "stream",
          "text": [
            "60000it [00:05, 10578.18it/s]\n",
            "1137it [00:00, 11369.39it/s]"
          ],
          "name": "stderr"
        },
        {
          "output_type": "stream",
          "text": [
            "\n",
            "Iteration: 12 Loss: 95006628.74433191 Difference: 85.28833430777392\n"
          ],
          "name": "stdout"
        },
        {
          "output_type": "stream",
          "text": [
            "60000it [00:05, 11139.51it/s]\n",
            "1146it [00:00, 11452.47it/s]"
          ],
          "name": "stderr"
        },
        {
          "output_type": "stream",
          "text": [
            "\n",
            "Iteration: 13 Loss: 94978288.7813325 Difference: 74.59129593736512\n"
          ],
          "name": "stdout"
        },
        {
          "output_type": "stream",
          "text": [
            "60000it [00:05, 11180.46it/s]\n",
            "1117it [00:00, 11168.52it/s]"
          ],
          "name": "stderr"
        },
        {
          "output_type": "stream",
          "text": [
            "\n",
            "Iteration: 14 Loss: 94941363.09501468 Difference: 75.12679342981073\n"
          ],
          "name": "stdout"
        },
        {
          "output_type": "stream",
          "text": [
            "60000it [00:05, 11101.42it/s]\n",
            "1127it [00:00, 11268.48it/s]"
          ],
          "name": "stderr"
        },
        {
          "output_type": "stream",
          "text": [
            "\n",
            "Iteration: 15 Loss: 94893657.78725225 Difference: 79.72417006115442\n"
          ],
          "name": "stdout"
        },
        {
          "output_type": "stream",
          "text": [
            "60000it [00:05, 11114.59it/s]\n",
            "1140it [00:00, 11398.87it/s]"
          ],
          "name": "stderr"
        },
        {
          "output_type": "stream",
          "text": [
            "\n",
            "Iteration: 16 Loss: 94831937.711532 Difference: 86.74279386813943\n"
          ],
          "name": "stdout"
        },
        {
          "output_type": "stream",
          "text": [
            "60000it [00:05, 11087.39it/s]\n",
            "1106it [00:00, 11054.87it/s]"
          ],
          "name": "stderr"
        },
        {
          "output_type": "stream",
          "text": [
            "\n",
            "Iteration: 17 Loss: 94754419.76001568 Difference: 101.12163366993634\n"
          ],
          "name": "stdout"
        },
        {
          "output_type": "stream",
          "text": [
            "60000it [00:05, 11109.81it/s]\n",
            "1126it [00:00, 11259.66it/s]"
          ],
          "name": "stderr"
        },
        {
          "output_type": "stream",
          "text": [
            "\n",
            "Iteration: 18 Loss: 94679390.39524287 Difference: 111.26611732424227\n"
          ],
          "name": "stdout"
        },
        {
          "output_type": "stream",
          "text": [
            "60000it [00:05, 11135.18it/s]\n",
            "1130it [00:00, 11292.07it/s]"
          ],
          "name": "stderr"
        },
        {
          "output_type": "stream",
          "text": [
            "\n",
            "Iteration: 19 Loss: 94614708.25314344 Difference: 106.07581345689646\n"
          ],
          "name": "stdout"
        },
        {
          "output_type": "stream",
          "text": [
            "60000it [00:05, 11162.55it/s]\n",
            "1129it [00:00, 11281.30it/s]"
          ],
          "name": "stderr"
        },
        {
          "output_type": "stream",
          "text": [
            "\n",
            "Iteration: 20 Loss: 94563279.4279462 Difference: 97.57154057580925\n"
          ],
          "name": "stdout"
        },
        {
          "output_type": "stream",
          "text": [
            "60000it [00:05, 11136.62it/s]\n",
            "1124it [00:00, 11231.52it/s]"
          ],
          "name": "stderr"
        },
        {
          "output_type": "stream",
          "text": [
            "\n",
            "Iteration: 21 Loss: 94522282.41782998 Difference: 86.97436229223504\n"
          ],
          "name": "stdout"
        },
        {
          "output_type": "stream",
          "text": [
            "60000it [00:05, 11087.02it/s]\n",
            "1136it [00:00, 11355.68it/s]"
          ],
          "name": "stderr"
        },
        {
          "output_type": "stream",
          "text": [
            "\n",
            "Iteration: 22 Loss: 94487784.65846616 Difference: 75.96149946685979\n"
          ],
          "name": "stdout"
        },
        {
          "output_type": "stream",
          "text": [
            "60000it [00:05, 11181.33it/s]\n",
            "1120it [00:00, 11196.91it/s]"
          ],
          "name": "stderr"
        },
        {
          "output_type": "stream",
          "text": [
            "\n",
            "Iteration: 23 Loss: 94458660.7065622 Difference: 68.99774609700127\n"
          ],
          "name": "stdout"
        },
        {
          "output_type": "stream",
          "text": [
            "60000it [00:05, 11065.62it/s]\n",
            "1109it [00:00, 11088.24it/s]"
          ],
          "name": "stderr"
        },
        {
          "output_type": "stream",
          "text": [
            "\n",
            "Iteration: 24 Loss: 94434920.60835806 Difference: 62.942411321925775\n"
          ],
          "name": "stdout"
        },
        {
          "output_type": "stream",
          "text": [
            "60000it [00:05, 11149.95it/s]\n",
            "1130it [00:00, 11293.55it/s]"
          ],
          "name": "stderr"
        },
        {
          "output_type": "stream",
          "text": [
            "\n",
            "Iteration: 25 Loss: 94412830.35276856 Difference: 56.65563994977208\n"
          ],
          "name": "stdout"
        },
        {
          "output_type": "stream",
          "text": [
            "60000it [00:05, 11119.70it/s]\n",
            "1131it [00:00, 11305.51it/s]"
          ],
          "name": "stderr"
        },
        {
          "output_type": "stream",
          "text": [
            "\n",
            "Iteration: 26 Loss: 94392405.90116593 Difference: 59.726581457236954\n"
          ],
          "name": "stdout"
        },
        {
          "output_type": "stream",
          "text": [
            "60000it [00:05, 11127.53it/s]\n",
            "1119it [00:00, 11181.21it/s]"
          ],
          "name": "stderr"
        },
        {
          "output_type": "stream",
          "text": [
            "\n",
            "Iteration: 27 Loss: 94372695.6417167 Difference: 58.92801289022883\n"
          ],
          "name": "stdout"
        },
        {
          "output_type": "stream",
          "text": [
            "60000it [00:05, 11125.87it/s]\n",
            "1130it [00:00, 11294.11it/s]"
          ],
          "name": "stderr"
        },
        {
          "output_type": "stream",
          "text": [
            "\n",
            "Iteration: 28 Loss: 94353976.9295442 Difference: 64.20821748706184\n"
          ],
          "name": "stdout"
        },
        {
          "output_type": "stream",
          "text": [
            "60000it [00:05, 11127.29it/s]\n",
            "1126it [00:00, 11257.43it/s]"
          ],
          "name": "stderr"
        },
        {
          "output_type": "stream",
          "text": [
            "\n",
            "Iteration: 29 Loss: 94338309.22104082 Difference: 63.65907193918503\n"
          ],
          "name": "stdout"
        },
        {
          "output_type": "stream",
          "text": [
            "60000it [00:05, 11186.05it/s]\n",
            "1092it [00:00, 10915.51it/s]"
          ],
          "name": "stderr"
        },
        {
          "output_type": "stream",
          "text": [
            "\n",
            "Iteration: 30 Loss: 94326036.48878503 Difference: 61.728824837111425\n"
          ],
          "name": "stdout"
        },
        {
          "output_type": "stream",
          "text": [
            "60000it [00:05, 11215.77it/s]\n",
            "1149it [00:00, 11488.26it/s]"
          ],
          "name": "stderr"
        },
        {
          "output_type": "stream",
          "text": [
            "\n",
            "Iteration: 31 Loss: 94315885.94394822 Difference: 57.08308531687232\n"
          ],
          "name": "stdout"
        },
        {
          "output_type": "stream",
          "text": [
            "60000it [00:05, 11207.04it/s]\n",
            "1130it [00:00, 11296.27it/s]"
          ],
          "name": "stderr"
        },
        {
          "output_type": "stream",
          "text": [
            "\n",
            "Iteration: 32 Loss: 94307189.2128967 Difference: 55.04556287090799\n"
          ],
          "name": "stdout"
        },
        {
          "output_type": "stream",
          "text": [
            "60000it [00:05, 11109.72it/s]\n",
            "1095it [00:00, 10943.41it/s]"
          ],
          "name": "stderr"
        },
        {
          "output_type": "stream",
          "text": [
            "\n",
            "Iteration: 33 Loss: 94298697.8936128 Difference: 55.955870666743756\n"
          ],
          "name": "stdout"
        },
        {
          "output_type": "stream",
          "text": [
            "60000it [00:05, 11016.55it/s]\n",
            "1123it [00:00, 11223.64it/s]"
          ],
          "name": "stderr"
        },
        {
          "output_type": "stream",
          "text": [
            "\n",
            "Iteration: 34 Loss: 94291668.98423077 Difference: 54.16726005820595\n"
          ],
          "name": "stdout"
        },
        {
          "output_type": "stream",
          "text": [
            "60000it [00:05, 11110.06it/s]\n",
            "1125it [00:00, 11241.97it/s]"
          ],
          "name": "stderr"
        },
        {
          "output_type": "stream",
          "text": [
            "\n",
            "Iteration: 35 Loss: 94286050.88651422 Difference: 51.95886074227546\n"
          ],
          "name": "stdout"
        },
        {
          "output_type": "stream",
          "text": [
            "60000it [00:05, 11181.10it/s]\n",
            "1145it [00:00, 11446.76it/s]"
          ],
          "name": "stderr"
        },
        {
          "output_type": "stream",
          "text": [
            "\n",
            "Iteration: 36 Loss: 94281365.04072233 Difference: 48.39554906044988\n"
          ],
          "name": "stdout"
        },
        {
          "output_type": "stream",
          "text": [
            "60000it [00:05, 11140.33it/s]\n",
            "1114it [00:00, 11133.14it/s]"
          ],
          "name": "stderr"
        },
        {
          "output_type": "stream",
          "text": [
            "\n",
            "Iteration: 37 Loss: 94277383.96324028 Difference: 48.83446279734814\n"
          ],
          "name": "stdout"
        },
        {
          "output_type": "stream",
          "text": [
            "60000it [00:05, 11144.88it/s]\n",
            "1128it [00:00, 11272.22it/s]"
          ],
          "name": "stderr"
        },
        {
          "output_type": "stream",
          "text": [
            "\n",
            "Iteration: 38 Loss: 94274736.44897398 Difference: 44.503234564792024\n"
          ],
          "name": "stdout"
        },
        {
          "output_type": "stream",
          "text": [
            "60000it [00:05, 11158.41it/s]\n",
            "1139it [00:00, 11387.95it/s]"
          ],
          "name": "stderr"
        },
        {
          "output_type": "stream",
          "text": [
            "\n",
            "Iteration: 39 Loss: 94272146.7304697 Difference: 42.43747566166307\n"
          ],
          "name": "stdout"
        },
        {
          "output_type": "stream",
          "text": [
            "60000it [00:05, 11173.47it/s]\n",
            "1136it [00:00, 11358.14it/s]"
          ],
          "name": "stderr"
        },
        {
          "output_type": "stream",
          "text": [
            "\n",
            "Iteration: 40 Loss: 94270945.05972552 Difference: 39.285964882003746\n"
          ],
          "name": "stdout"
        },
        {
          "output_type": "stream",
          "text": [
            "60000it [00:05, 11178.02it/s]\n",
            "1145it [00:00, 11446.98it/s]"
          ],
          "name": "stderr"
        },
        {
          "output_type": "stream",
          "text": [
            "\n",
            "Iteration: 41 Loss: 94269990.18896563 Difference: 33.58562446901057\n"
          ],
          "name": "stdout"
        },
        {
          "output_type": "stream",
          "text": [
            "60000it [00:05, 11208.29it/s]\n",
            "1134it [00:00, 11332.80it/s]"
          ],
          "name": "stderr"
        },
        {
          "output_type": "stream",
          "text": [
            "\n",
            "Iteration: 42 Loss: 94269543.74535021 Difference: 28.153947017561578\n"
          ],
          "name": "stdout"
        },
        {
          "output_type": "stream",
          "text": [
            "60000it [00:05, 11178.42it/s]\n",
            "1142it [00:00, 11415.28it/s]"
          ],
          "name": "stderr"
        },
        {
          "output_type": "stream",
          "text": [
            "\n",
            "Iteration: 43 Loss: 94269319.99199459 Difference: 24.970686850341924\n"
          ],
          "name": "stdout"
        },
        {
          "output_type": "stream",
          "text": [
            "60000it [00:05, 11170.09it/s]\n",
            "1142it [00:00, 11419.55it/s]"
          ],
          "name": "stderr"
        },
        {
          "output_type": "stream",
          "text": [
            "\n",
            "Iteration: 44 Loss: 94269873.17670593 Difference: 22.220339026027133\n"
          ],
          "name": "stdout"
        },
        {
          "output_type": "stream",
          "text": [
            "60000it [00:05, 10952.78it/s]\n",
            "1137it [00:00, 11366.89it/s]"
          ],
          "name": "stderr"
        },
        {
          "output_type": "stream",
          "text": [
            "\n",
            "Iteration: 45 Loss: 94270952.6614374 Difference: 19.352650564205486\n"
          ],
          "name": "stdout"
        },
        {
          "output_type": "stream",
          "text": [
            "60000it [00:05, 11255.59it/s]\n",
            "1139it [00:00, 11387.78it/s]"
          ],
          "name": "stderr"
        },
        {
          "output_type": "stream",
          "text": [
            "\n",
            "Iteration: 46 Loss: 94271544.15824056 Difference: 16.902250481911047\n"
          ],
          "name": "stdout"
        },
        {
          "output_type": "stream",
          "text": [
            "60000it [00:05, 11176.97it/s]\n",
            "1149it [00:00, 11482.95it/s]"
          ],
          "name": "stderr"
        },
        {
          "output_type": "stream",
          "text": [
            "\n",
            "Iteration: 47 Loss: 94272228.34825516 Difference: 15.33294207167779\n"
          ],
          "name": "stdout"
        },
        {
          "output_type": "stream",
          "text": [
            "60000it [00:05, 11231.02it/s]\n",
            "1114it [00:00, 11137.57it/s]"
          ],
          "name": "stderr"
        },
        {
          "output_type": "stream",
          "text": [
            "\n",
            "Iteration: 48 Loss: 94272746.21607986 Difference: 14.485783504110737\n"
          ],
          "name": "stdout"
        },
        {
          "output_type": "stream",
          "text": [
            "60000it [00:05, 11202.39it/s]\n",
            "1143it [00:00, 11427.61it/s]"
          ],
          "name": "stderr"
        },
        {
          "output_type": "stream",
          "text": [
            "\n",
            "Iteration: 49 Loss: 94273117.20635654 Difference: 11.68805869626368\n"
          ],
          "name": "stdout"
        },
        {
          "output_type": "stream",
          "text": [
            "60000it [00:05, 11290.39it/s]\n",
            "1153it [00:00, 11521.14it/s]"
          ],
          "name": "stderr"
        },
        {
          "output_type": "stream",
          "text": [
            "\n",
            "Iteration: 50 Loss: 94273315.09152552 Difference: 10.836625033907332\n"
          ],
          "name": "stdout"
        },
        {
          "output_type": "stream",
          "text": [
            "60000it [00:05, 11305.51it/s]\n",
            "1145it [00:00, 11440.82it/s]"
          ],
          "name": "stderr"
        },
        {
          "output_type": "stream",
          "text": [
            "\n",
            "Iteration: 51 Loss: 94273311.70345007 Difference: 9.793692963594275\n"
          ],
          "name": "stdout"
        },
        {
          "output_type": "stream",
          "text": [
            "60000it [00:05, 10315.23it/s]\n",
            "1120it [00:00, 11197.61it/s]"
          ],
          "name": "stderr"
        },
        {
          "output_type": "stream",
          "text": [
            "\n",
            "Iteration: 52 Loss: 94273361.86057502 Difference: 11.393125652508733\n"
          ],
          "name": "stdout"
        },
        {
          "output_type": "stream",
          "text": [
            "60000it [00:05, 11104.16it/s]\n",
            "1141it [00:00, 11401.42it/s]"
          ],
          "name": "stderr"
        },
        {
          "output_type": "stream",
          "text": [
            "\n",
            "Iteration: 53 Loss: 94273269.00307232 Difference: 8.774707184283818\n"
          ],
          "name": "stdout"
        },
        {
          "output_type": "stream",
          "text": [
            "60000it [00:05, 11215.67it/s]\n",
            "1116it [00:00, 11156.71it/s]"
          ],
          "name": "stderr"
        },
        {
          "output_type": "stream",
          "text": [
            "\n",
            "Iteration: 54 Loss: 94273109.05289137 Difference: 7.410933784348581\n"
          ],
          "name": "stdout"
        },
        {
          "output_type": "stream",
          "text": [
            "60000it [00:05, 11204.57it/s]\n",
            "1141it [00:00, 11403.02it/s]"
          ],
          "name": "stderr"
        },
        {
          "output_type": "stream",
          "text": [
            "\n",
            "Iteration: 55 Loss: 94273311.87226774 Difference: 5.948079181998431\n"
          ],
          "name": "stdout"
        },
        {
          "output_type": "stream",
          "text": [
            "60000it [00:05, 11208.69it/s]\n",
            "1137it [00:00, 11358.31it/s]"
          ],
          "name": "stderr"
        },
        {
          "output_type": "stream",
          "text": [
            "\n",
            "Iteration: 56 Loss: 94273603.13140596 Difference: 5.461448598664026\n"
          ],
          "name": "stdout"
        },
        {
          "output_type": "stream",
          "text": [
            "60000it [00:05, 11184.11it/s]\n",
            "1096it [00:00, 10957.06it/s]"
          ],
          "name": "stderr"
        },
        {
          "output_type": "stream",
          "text": [
            "\n",
            "Iteration: 57 Loss: 94273813.65373129 Difference: 4.3014181760632555\n"
          ],
          "name": "stdout"
        },
        {
          "output_type": "stream",
          "text": [
            "60000it [00:05, 11195.65it/s]\n",
            "1145it [00:00, 11446.76it/s]"
          ],
          "name": "stderr"
        },
        {
          "output_type": "stream",
          "text": [
            "\n",
            "Iteration: 58 Loss: 94273724.26727514 Difference: 4.2272943796850715\n"
          ],
          "name": "stdout"
        },
        {
          "output_type": "stream",
          "text": [
            "60000it [00:05, 11165.27it/s]\n",
            "1144it [00:00, 11430.74it/s]"
          ],
          "name": "stderr"
        },
        {
          "output_type": "stream",
          "text": [
            "\n",
            "Iteration: 59 Loss: 94273649.29543586 Difference: 4.663886809501601\n"
          ],
          "name": "stdout"
        },
        {
          "output_type": "stream",
          "text": [
            "60000it [00:05, 11000.18it/s]\n",
            "1080it [00:00, 10793.96it/s]"
          ],
          "name": "stderr"
        },
        {
          "output_type": "stream",
          "text": [
            "\n",
            "Iteration: 60 Loss: 94273669.70522217 Difference: 4.592325999113323\n"
          ],
          "name": "stdout"
        },
        {
          "output_type": "stream",
          "text": [
            "60000it [00:05, 10709.51it/s]\n",
            "1064it [00:00, 10633.04it/s]"
          ],
          "name": "stderr"
        },
        {
          "output_type": "stream",
          "text": [
            "\n",
            "Iteration: 61 Loss: 94273688.5475985 Difference: 4.3016859261002045\n"
          ],
          "name": "stdout"
        },
        {
          "output_type": "stream",
          "text": [
            "60000it [00:05, 10903.17it/s]\n",
            "1119it [00:00, 11187.53it/s]"
          ],
          "name": "stderr"
        },
        {
          "output_type": "stream",
          "text": [
            "\n",
            "Iteration: 62 Loss: 94273500.49595922 Difference: 3.0691044815144504\n"
          ],
          "name": "stdout"
        },
        {
          "output_type": "stream",
          "text": [
            "60000it [00:05, 11134.22it/s]\n",
            "1132it [00:00, 11318.63it/s]"
          ],
          "name": "stderr"
        },
        {
          "output_type": "stream",
          "text": [
            "\n",
            "Iteration: 63 Loss: 94273534.14691189 Difference: 2.8640542432041913\n"
          ],
          "name": "stdout"
        },
        {
          "output_type": "stream",
          "text": [
            "60000it [00:05, 11174.12it/s]\n",
            "1136it [00:00, 11359.31it/s]"
          ],
          "name": "stderr"
        },
        {
          "output_type": "stream",
          "text": [
            "\n",
            "Iteration: 64 Loss: 94273599.10853882 Difference: 1.987083071539104\n"
          ],
          "name": "stdout"
        },
        {
          "output_type": "stream",
          "text": [
            "60000it [00:05, 11228.81it/s]\n",
            "1143it [00:00, 11426.80it/s]"
          ],
          "name": "stderr"
        },
        {
          "output_type": "stream",
          "text": [
            "\n",
            "Iteration: 65 Loss: 94273703.32627676 Difference: 2.229741473917439\n"
          ],
          "name": "stdout"
        },
        {
          "output_type": "stream",
          "text": [
            "60000it [00:05, 11228.76it/s]\n",
            "1147it [00:00, 11464.03it/s]"
          ],
          "name": "stderr"
        },
        {
          "output_type": "stream",
          "text": [
            "\n",
            "Iteration: 66 Loss: 94273606.48196575 Difference: 2.164791990723646\n"
          ],
          "name": "stdout"
        },
        {
          "output_type": "stream",
          "text": [
            "60000it [00:05, 11221.79it/s]\n",
            "1127it [00:00, 11268.77it/s]"
          ],
          "name": "stderr"
        },
        {
          "output_type": "stream",
          "text": [
            "\n",
            "Iteration: 67 Loss: 94273563.59776145 Difference: 1.761877982798084\n"
          ],
          "name": "stdout"
        },
        {
          "output_type": "stream",
          "text": [
            "60000it [00:05, 11248.79it/s]\n",
            "1139it [00:00, 11386.21it/s]"
          ],
          "name": "stderr"
        },
        {
          "output_type": "stream",
          "text": [
            "\n",
            "Iteration: 68 Loss: 94273603.51286395 Difference: 1.6372523414337765\n"
          ],
          "name": "stdout"
        },
        {
          "output_type": "stream",
          "text": [
            "60000it [00:05, 11156.31it/s]\n",
            "1139it [00:00, 11386.21it/s]"
          ],
          "name": "stderr"
        },
        {
          "output_type": "stream",
          "text": [
            "\n",
            "Iteration: 69 Loss: 94273483.67073807 Difference: 1.2271813662697502\n"
          ],
          "name": "stdout"
        },
        {
          "output_type": "stream",
          "text": [
            "60000it [00:05, 11202.80it/s]\n",
            "1116it [00:00, 11154.37it/s]"
          ],
          "name": "stderr"
        },
        {
          "output_type": "stream",
          "text": [
            "\n",
            "Iteration: 70 Loss: 94273337.16001911 Difference: 1.0239131974407722\n"
          ],
          "name": "stdout"
        },
        {
          "output_type": "stream",
          "text": [
            "60000it [00:05, 11187.17it/s]\n",
            "1148it [00:00, 11475.96it/s]"
          ],
          "name": "stderr"
        },
        {
          "output_type": "stream",
          "text": [
            "\n",
            "Iteration: 71 Loss: 94273290.84969078 Difference: 0.7773539308891538\n"
          ],
          "name": "stdout"
        },
        {
          "output_type": "stream",
          "text": [
            "60000it [00:05, 11227.42it/s]\n",
            "1146it [00:00, 11459.36it/s]"
          ],
          "name": "stderr"
        },
        {
          "output_type": "stream",
          "text": [
            "\n",
            "Iteration: 72 Loss: 94273237.22055905 Difference: 0.9799930692751839\n"
          ],
          "name": "stdout"
        },
        {
          "output_type": "stream",
          "text": [
            "60000it [00:05, 11229.51it/s]\n",
            "1133it [00:00, 11325.04it/s]"
          ],
          "name": "stderr"
        },
        {
          "output_type": "stream",
          "text": [
            "\n",
            "Iteration: 73 Loss: 94273216.38176769 Difference: 1.1186982887249364\n"
          ],
          "name": "stdout"
        },
        {
          "output_type": "stream",
          "text": [
            "60000it [00:05, 11188.97it/s]\n",
            "1136it [00:00, 11354.62it/s]"
          ],
          "name": "stderr"
        },
        {
          "output_type": "stream",
          "text": [
            "\n",
            "Iteration: 74 Loss: 94273172.52308688 Difference: 0.7744168018487395\n"
          ],
          "name": "stdout"
        },
        {
          "output_type": "stream",
          "text": [
            "60000it [00:05, 11162.79it/s]\n",
            "1130it [00:00, 11295.46it/s]"
          ],
          "name": "stderr"
        },
        {
          "output_type": "stream",
          "text": [
            "\n",
            "Iteration: 75 Loss: 94273186.58793324 Difference: 0.9235845657544772\n"
          ],
          "name": "stdout"
        },
        {
          "output_type": "stream",
          "text": [
            "60000it [00:05, 11138.03it/s]\n",
            "1133it [00:00, 11322.43it/s]"
          ],
          "name": "stderr"
        },
        {
          "output_type": "stream",
          "text": [
            "\n",
            "Iteration: 76 Loss: 94273135.82319544 Difference: 0.9923892504940902\n"
          ],
          "name": "stdout"
        },
        {
          "output_type": "stream",
          "text": [
            "60000it [00:05, 11206.34it/s]\n",
            "1146it [00:00, 11457.22it/s]"
          ],
          "name": "stderr"
        },
        {
          "output_type": "stream",
          "text": [
            "\n",
            "Iteration: 77 Loss: 94273090.1091184 Difference: 0.8303298063868422\n"
          ],
          "name": "stdout"
        },
        {
          "output_type": "stream",
          "text": [
            "60000it [00:05, 11226.49it/s]\n",
            "1134it [00:00, 11337.39it/s]"
          ],
          "name": "stderr"
        },
        {
          "output_type": "stream",
          "text": [
            "\n",
            "Iteration: 78 Loss: 94273090.10282236 Difference: 0.714393223668813\n"
          ],
          "name": "stdout"
        },
        {
          "output_type": "stream",
          "text": [
            "60000it [00:05, 11238.55it/s]\n",
            "1139it [00:00, 11389.47it/s]"
          ],
          "name": "stderr"
        },
        {
          "output_type": "stream",
          "text": [
            "\n",
            "Iteration: 79 Loss: 94273090.1028216 Difference: 0.0001169800065240816\n"
          ],
          "name": "stdout"
        },
        {
          "output_type": "stream",
          "text": [
            "60000it [00:05, 11242.00it/s]\n"
          ],
          "name": "stderr"
        },
        {
          "output_type": "stream",
          "text": [
            "\n",
            "Iteration: 80 Loss: 94273090.1028216 Difference: 2.089571944970641e-08\n",
            "Converged! With distance: 4.091825544656129e-12\n",
            "[cluster_label,no_occurence_of_label,total_samples_in_cluster,cluster_accuracy] [[9, 2812, 6733, 0.4176444378434576]]\n",
            "Accuracy: 0.04176444378434576\n",
            "[cluster_label,no_occurence_of_label,total_samples_in_cluster,cluster_accuracy] [[9, 2812, 6733, 0.4176444378434576], [7, 4179, 4561, 0.9162464371848279]]\n",
            "Accuracy: 0.13338908750282857\n",
            "[cluster_label,no_occurence_of_label,total_samples_in_cluster,cluster_accuracy] [[9, 2812, 6733, 0.4176444378434576], [7, 4179, 4561, 0.9162464371848279], [1, 3680, 5976, 0.6157965194109772]]\n",
            "Accuracy: 0.1949687394439263\n",
            "[cluster_label,no_occurence_of_label,total_samples_in_cluster,cluster_accuracy] [[9, 2812, 6733, 0.4176444378434576], [7, 4179, 4561, 0.9162464371848279], [1, 3680, 5976, 0.6157965194109772], [4, 2613, 7154, 0.3652502096729103]]\n",
            "Accuracy: 0.23149376041121733\n",
            "[cluster_label,no_occurence_of_label,total_samples_in_cluster,cluster_accuracy] [[9, 2812, 6733, 0.4176444378434576], [7, 4179, 4561, 0.9162464371848279], [1, 3680, 5976, 0.6157965194109772], [4, 2613, 7154, 0.3652502096729103], [1, 3017, 5286, 0.5707529322739311]]\n",
            "Accuracy: 0.2885690536386104\n",
            "[cluster_label,no_occurence_of_label,total_samples_in_cluster,cluster_accuracy] [[9, 2812, 6733, 0.4176444378434576], [7, 4179, 4561, 0.9162464371848279], [1, 3680, 5976, 0.6157965194109772], [4, 2613, 7154, 0.3652502096729103], [1, 3017, 5286, 0.5707529322739311], [0, 4695, 5008, 0.9375]]\n",
            "Accuracy: 0.3823190536386104\n",
            "[cluster_label,no_occurence_of_label,total_samples_in_cluster,cluster_accuracy] [[9, 2812, 6733, 0.4176444378434576], [7, 4179, 4561, 0.9162464371848279], [1, 3680, 5976, 0.6157965194109772], [4, 2613, 7154, 0.3652502096729103], [1, 3017, 5286, 0.5707529322739311], [0, 4695, 5008, 0.9375], [8, 3076, 7143, 0.43063138737225254]]\n",
            "Accuracy: 0.42538219237583574\n",
            "[cluster_label,no_occurence_of_label,total_samples_in_cluster,cluster_accuracy] [[9, 2812, 6733, 0.4176444378434576], [7, 4179, 4561, 0.9162464371848279], [1, 3680, 5976, 0.6157965194109772], [4, 2613, 7154, 0.3652502096729103], [1, 3017, 5286, 0.5707529322739311], [0, 4695, 5008, 0.9375], [8, 3076, 7143, 0.43063138737225254], [6, 4940, 5704, 0.8660589060308556]]\n",
            "Accuracy: 0.5119880829789213\n",
            "[cluster_label,no_occurence_of_label,total_samples_in_cluster,cluster_accuracy] [[9, 2812, 6733, 0.4176444378434576], [7, 4179, 4561, 0.9162464371848279], [1, 3680, 5976, 0.6157965194109772], [4, 2613, 7154, 0.3652502096729103], [1, 3017, 5286, 0.5707529322739311], [0, 4695, 5008, 0.9375], [8, 3076, 7143, 0.43063138737225254], [6, 4940, 5704, 0.8660589060308556], [2, 4194, 4723, 0.8879949184840144]]\n",
            "Accuracy: 0.6007875748273227\n",
            "[cluster_label,no_occurence_of_label,total_samples_in_cluster,cluster_accuracy] [[9, 2812, 6733, 0.4176444378434576], [7, 4179, 4561, 0.9162464371848279], [1, 3680, 5976, 0.6157965194109772], [4, 2613, 7154, 0.3652502096729103], [1, 3017, 5286, 0.5707529322739311], [0, 4695, 5008, 0.9375], [8, 3076, 7143, 0.43063138737225254], [6, 4940, 5704, 0.8660589060308556], [2, 4194, 4723, 0.8879949184840144], [3, 3832, 7712, 0.49688796680497926]]\n",
            "Accuracy: 0.6504763715078206\n"
          ],
          "name": "stdout"
        }
      ]
    },
    {
      "metadata": {
        "id": "vml23dmrVdew",
        "colab_type": "text"
      },
      "cell_type": "markdown",
      "source": [
        "### Mean Images"
      ]
    },
    {
      "metadata": {
        "id": "RU7uW6LYVWMP",
        "colab_type": "code",
        "outputId": "a969304f-7bd3-4b92-cc0b-f5ae9a530da4",
        "colab": {
          "base_uri": "https://localhost:8080/",
          "height": 247
        }
      },
      "cell_type": "code",
      "source": [
        "data_reader.plot_imgs(kmeans.centroids,len(kmeans.centroids))"
      ],
      "execution_count": 6,
      "outputs": [
        {
          "output_type": "display_data",
          "data": {
            "image/png": "[encoded data removed]",
            "text/plain": [
              "<matplotlib.figure.Figure at 0x7f0415ac7c18>"
            ]
          },
          "metadata": {
            "tags": []
          }
        }
      ]
    },
    {
      "metadata": {
        "id": "3f9ZtxGEVbuq",
        "colab_type": "text"
      },
      "cell_type": "markdown",
      "source": [
        "### Loss"
      ]
    },
    {
      "metadata": {
        "id": "JZcgQ8b1VVtH",
        "colab_type": "code",
        "outputId": "a19a7b26-891d-45ce-e8cc-b72470611f9c",
        "colab": {
          "base_uri": "https://localhost:8080/",
          "height": 375
        }
      },
      "cell_type": "code",
      "source": [
        "print('Loss')\n",
        "plt.plot(range(kmeans.iterations),kmeans.loss_per_iteration)\n",
        "plt.show()"
      ],
      "execution_count": 7,
      "outputs": [
        {
          "output_type": "stream",
          "text": [
            "Loss\n"
          ],
          "name": "stdout"
        },
        {
          "output_type": "display_data",
          "data": {
            "image/png": "[encoded data removed]",
            "text/plain": [
              "<matplotlib.figure.Figure at 0x7f041127a6d8>"
            ]
          },
          "metadata": {
            "tags": []
          }
        }
      ]
    },
    {
      "metadata": {
        "id": "YAqa0lLYVg7M",
        "colab_type": "text"
      },
      "cell_type": "markdown",
      "source": [
        "### Clustered Samples"
      ]
    },
    {
      "metadata": {
        "id": "JtiopQD9TPXP",
        "colab_type": "code",
        "outputId": "b38fcd36-f172-4e70-e832-ceaecb970679",
        "colab": {
          "base_uri": "https://localhost:8080/",
          "height": 3247
        }
      },
      "cell_type": "code",
      "source": [
        "for key,data in list(kmeans.clusters['data'].items()):\n",
        "    print('Cluster:',key,'Label:',kmeans.clusters_labels[key])\n",
        "    data_reader.plot_imgs(data[:min(25,data.shape[0])],min(25,data.shape[0]))"
      ],
      "execution_count": 8,
      "outputs": [
        {
          "output_type": "stream",
          "text": [
            "Cluster: 0 Label: 9\n"
          ],
          "name": "stdout"
        },
        {
          "output_type": "display_data",
          "data": {
            "image/png": "[encoded data removed]",
            "text/plain": [
              "<matplotlib.figure.Figure at 0x7f041125e080>"
            ]
          },
          "metadata": {
            "tags": []
          }
        },
        {
          "output_type": "stream",
          "text": [
            "Cluster: 1 Label: 7\n"
          ],
          "name": "stdout"
        },
        {
          "output_type": "display_data",
          "data": {
            "image/png": "[encoded data removed]",
            "text/plain": [
              "<matplotlib.figure.Figure at 0x7f0410fa7898>"
            ]
          },
          "metadata": {
            "tags": []
          }
        },
        {
          "output_type": "stream",
          "text": [
            "Cluster: 2 Label: 1\n"
          ],
          "name": "stdout"
        },
        {
          "output_type": "display_data",
          "data": {
            "image/png": "[encoded data removed]",
            "text/plain": [
              "<matplotlib.figure.Figure at 0x7f04112b9fd0>"
            ]
          },
          "metadata": {
            "tags": []
          }
        },
        {
          "output_type": "stream",
          "text": [
            "Cluster: 3 Label: 4\n"
          ],
          "name": "stdout"
        },
        {
          "output_type": "display_data",
          "data": {
            "image/png": "[encoded data removed]",
            "text/plain": [
              "<matplotlib.figure.Figure at 0x7f0414ea4978>"
            ]
          },
          "metadata": {
            "tags": []
          }
        },
        {
          "output_type": "stream",
          "text": [
            "Cluster: 4 Label: 1\n"
          ],
          "name": "stdout"
        },
        {
          "output_type": "display_data",
          "data": {
            "image/png": "[encoded data removed]",
            "text/plain": [
              "<matplotlib.figure.Figure at 0x7f04152014a8>"
            ]
          },
          "metadata": {
            "tags": []
          }
        },
        {
          "output_type": "stream",
          "text": [
            "Cluster: 5 Label: 0\n"
          ],
          "name": "stdout"
        },
        {
          "output_type": "display_data",
          "data": {
            "image/png": "[encoded data removed]",
            "text/plain": [
              "<matplotlib.figure.Figure at 0x7f041140bba8>"
            ]
          },
          "metadata": {
            "tags": []
          }
        },
        {
          "output_type": "stream",
          "text": [
            "Cluster: 6 Label: 8\n"
          ],
          "name": "stdout"
        },
        {
          "output_type": "display_data",
          "data": {
            "image/png": "[encoded data removed]",
            "text/plain": [
              "<matplotlib.figure.Figure at 0x7f0411338c18>"
            ]
          },
          "metadata": {
            "tags": []
          }
        },
        {
          "output_type": "stream",
          "text": [
            "Cluster: 7 Label: 6\n"
          ],
          "name": "stdout"
        },
        {
          "output_type": "display_data",
          "data": {
            "image/png": "[encoded data removed]",
            "text/plain": [
              "<matplotlib.figure.Figure at 0x7f04111f0518>"
            ]
          },
          "metadata": {
            "tags": []
          }
        },
        {
          "output_type": "stream",
          "text": [
            "Cluster: 8 Label: 2\n"
          ],
          "name": "stdout"
        },
        {
          "output_type": "display_data",
          "data": {
            "image/png": "[encoded data removed]",
            "text/plain": [
              "<matplotlib.figure.Figure at 0x7f0414f3f390>"
            ]
          },
          "metadata": {
            "tags": []
          }
        },
        {
          "output_type": "stream",
          "text": [
            "Cluster: 9 Label: 3\n"
          ],
          "name": "stdout"
        },
        {
          "output_type": "display_data",
          "data": {
            "image/png": "[encoded data removed]",
            "text/plain": [
              "<matplotlib.figure.Figure at 0x7f0430956d30>"
            ]
          },
          "metadata": {
            "tags": []
          }
        }
      ]
    },
    {
      "metadata": {
        "id": "kXO-SLgTbA5-",
        "colab_type": "text"
      },
      "cell_type": "markdown",
      "source": [
        "### Accuracy"
      ]
    },
    {
      "metadata": {
        "id": "1HcjZD0EDghX",
        "colab_type": "code",
        "outputId": "d3ce0260-5d63-4165-cc48-84e22a7e34ad",
        "colab": {
          "base_uri": "https://localhost:8080/",
          "height": 88
        }
      },
      "cell_type": "code",
      "source": [
        "print('[cluster_label,no_occurrence_of_label,total_samples_in_cluster,cluster_accuracy]\\n',kmeans.clusters_info)\n",
        "print('Accuracy:',kmeans.accuracy)"
      ],
      "execution_count": 10,
      "outputs": [
        {
          "output_type": "stream",
          "text": [
            "[cluster_label,no_occurrence_of_label,total_samples_in_cluster,cluster_accuracy]\n",
            " [[9, 2812, 6733, 0.4176444378434576], [7, 4179, 4561, 0.9162464371848279], [1, 3680, 5976, 0.6157965194109772], [4, 2613, 7154, 0.3652502096729103], [1, 3017, 5286, 0.5707529322739311], [0, 4695, 5008, 0.9375], [8, 3076, 7143, 0.43063138737225254], [6, 4940, 5704, 0.8660589060308556], [2, 4194, 4723, 0.8879949184840144], [3, 3832, 7712, 0.49688796680497926]]\n",
            "Accuracy: 0.6504763715078206\n"
          ],
          "name": "stdout"
        }
      ]
    }
  ]
}