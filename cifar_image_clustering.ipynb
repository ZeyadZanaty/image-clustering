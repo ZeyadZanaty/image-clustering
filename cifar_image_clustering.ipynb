{
  "nbformat": 4,
  "nbformat_minor": 0,
  "metadata": {
    "colab": {
      "name": "cifar-image-clustering",
      "version": "0.3.2",
      "provenance": [],
      "collapsed_sections": [],
      "include_colab_link": true
    },
    "kernelspec": {
      "name": "python3",
      "display_name": "Python 3"
    }
  },
  "cells": [
    {
      "cell_type": "markdown",
      "metadata": {
        "id": "view-in-github",
        "colab_type": "text"
      },
      "source": [
        "<a href=\"https://colab.research.google.com/github/ZeyadZanaty/image-clustering/blob/master/cifar_image_clustering.ipynb\" target=\"_parent\"><img src=\"https://colab.research.google.com/assets/colab-badge.svg\" alt=\"Open In Colab\"/></a>"
      ]
    },
    {
      "metadata": {
        "id": "o2b0FP0uSAd3",
        "colab_type": "text"
      },
      "cell_type": "markdown",
      "source": [
        "## Datasets Download"
      ]
    },
    {
      "metadata": {
        "id": "RMwJGgE8QWE8",
        "colab_type": "code",
        "outputId": "731138e3-856b-4a1c-dc3d-4a86ea324b4e",
        "colab": {
          "base_uri": "https://localhost:8080/",
          "height": 391
        }
      },
      "cell_type": "code",
      "source": [
        "!wget 'http://www.cs.toronto.edu/~kriz/cifar-10-python.tar.gz'\n",
        "!wget 'http://www.cs.toronto.edu/~kriz/cifar-100-python.tar.gz'\n",
        "!tar xzf cifar-10-python.tar.gz\n",
        "!tar xzf cifar-100-python.tar.gz"
      ],
      "execution_count": 1,
      "outputs": [
        {
          "output_type": "stream",
          "text": [
            "--2018-12-20 18:08:17--  http://www.cs.toronto.edu/~kriz/cifar-10-python.tar.gz\n",
            "Resolving www.cs.toronto.edu (www.cs.toronto.edu)... 128.100.3.30\n",
            "Connecting to www.cs.toronto.edu (www.cs.toronto.edu)|128.100.3.30|:80... connected.\n",
            "HTTP request sent, awaiting response... 200 OK\n",
            "Length: 170498071 (163M) [application/x-gzip]\n",
            "Saving to: ‘cifar-10-python.tar.gz’\n",
            "\n",
            "cifar-10-python.tar 100%[===================>] 162.60M  5.48MB/s    in 27s     \n",
            "\n",
            "2018-12-20 18:08:45 (5.98 MB/s) - ‘cifar-10-python.tar.gz’ saved [170498071/170498071]\n",
            "\n",
            "--2018-12-20 18:08:47--  http://www.cs.toronto.edu/~kriz/cifar-100-python.tar.gz\n",
            "Resolving www.cs.toronto.edu (www.cs.toronto.edu)... 128.100.3.30\n",
            "Connecting to www.cs.toronto.edu (www.cs.toronto.edu)|128.100.3.30|:80... connected.\n",
            "HTTP request sent, awaiting response... 200 OK\n",
            "Length: 169001437 (161M) [application/x-gzip]\n",
            "Saving to: ‘cifar-100-python.tar.gz’\n",
            "\n",
            "cifar-100-python.ta 100%[===================>] 161.17M  4.32MB/s    in 27s     \n",
            "\n",
            "2018-12-20 18:09:14 (6.05 MB/s) - ‘cifar-100-python.tar.gz’ saved [169001437/169001437]\n",
            "\n"
          ],
          "name": "stdout"
        }
      ]
    },
    {
      "metadata": {
        "id": "UtCC1UZXR2C6",
        "colab_type": "text"
      },
      "cell_type": "markdown",
      "source": [
        "## Clone Repo"
      ]
    },
    {
      "metadata": {
        "id": "iLW1SxubSTpA",
        "colab_type": "code",
        "outputId": "12499838-ed12-4d65-d2ee-9043420103f4",
        "colab": {
          "base_uri": "https://localhost:8080/",
          "height": 119
        }
      },
      "cell_type": "code",
      "source": [
        "!git clone https://github.com/ZeyadZanaty/image-clustering.git"
      ],
      "execution_count": 2,
      "outputs": [
        {
          "output_type": "stream",
          "text": [
            "Cloning into 'image-clustering'...\n",
            "remote: Enumerating objects: 69, done.\u001b[K\n",
            "remote: Counting objects: 100% (69/69), done.\u001b[K\n",
            "remote: Compressing objects: 100% (53/53), done.\u001b[K\n",
            "remote: Total 69 (delta 34), reused 37 (delta 15), pack-reused 0\u001b[K\n",
            "Unpacking objects: 100% (69/69), done.\n"
          ],
          "name": "stdout"
        }
      ]
    },
    {
      "metadata": {
        "id": "4oc3awGlSoyI",
        "colab_type": "text"
      },
      "cell_type": "markdown",
      "source": [
        "## Imports"
      ]
    },
    {
      "metadata": {
        "id": "0IS3A9X7SZLy",
        "colab_type": "code",
        "colab": {}
      },
      "cell_type": "code",
      "source": [
        "import os\n",
        "os.chdir('image-clustering')\n",
        "from DataReader import DataReader\n",
        "from KMeans import KMeans\n",
        "import matplotlib.pyplot as plt\n",
        "import numpy as np"
      ],
      "execution_count": 0,
      "outputs": []
    },
    {
      "metadata": {
        "id": "-X_5TZETxurv",
        "colab_type": "text"
      },
      "cell_type": "markdown",
      "source": [
        "# CIFAR 10"
      ]
    },
    {
      "metadata": {
        "id": "AyhvSlv3ors6",
        "colab_type": "text"
      },
      "cell_type": "markdown",
      "source": [
        "## Data Reading"
      ]
    },
    {
      "metadata": {
        "id": "3nfNWSDFosZH",
        "colab_type": "code",
        "colab": {
          "base_uri": "https://localhost:8080/",
          "height": 357
        },
        "outputId": "1ae6a0d5-eacb-4816-fdc8-f4cec4fd987b"
      },
      "cell_type": "code",
      "source": [
        "data_reader = DataReader('../cifar-10-batches-py','cifar-10')\n",
        "tr_data, tr_class_labels, tr_subclass_labels = data_reader.get_train_data()\n",
        "data_reader.plot_imgs(tr_data,25,True)"
      ],
      "execution_count": 4,
      "outputs": [
        {
          "output_type": "stream",
          "text": [
            " 50%|█████     | 4/8 [00:00<00:00, 34.65it/s]"
          ],
          "name": "stderr"
        },
        {
          "output_type": "stream",
          "text": [
            "Reading\n"
          ],
          "name": "stdout"
        },
        {
          "output_type": "stream",
          "text": [
            "100%|██████████| 8/8 [00:00<00:00, 28.29it/s]\n"
          ],
          "name": "stderr"
        },
        {
          "output_type": "display_data",
          "data": {
            "image/png": "[encoded data removed]",
            "text/plain": [
              "<matplotlib.figure.Figure at 0x7f38f48bee48>"
            ]
          },
          "metadata": {
            "tags": []
          }
        }
      ]
    },
    {
      "metadata": {
        "id": "EPFXrPKgozgM",
        "colab_type": "text"
      },
      "cell_type": "markdown",
      "source": [
        "## K-Means Clustering"
      ]
    },
    {
      "metadata": {
        "id": "7Syh9A8hSr6l",
        "colab_type": "code",
        "outputId": "02035a76-a79f-475b-9670-16bc5609b8de",
        "colab": {
          "base_uri": "https://localhost:8080/",
          "height": 2791
        }
      },
      "cell_type": "code",
      "source": [
        "kmeans = KMeans(n_clusters=10,max_iter=200)\n",
        "kmeans.fit(tr_data,tr_class_labels)"
      ],
      "execution_count": 5,
      "outputs": [
        {
          "output_type": "stream",
          "text": [
            "50000it [00:05, 9606.53it/s]\n",
            "681it [00:00, 6808.87it/s]"
          ],
          "name": "stderr"
        },
        {
          "output_type": "stream",
          "text": [
            "\n",
            "Iteration: 0 Loss: 157264868.9667748 Difference: 23662.194424862628\n"
          ],
          "name": "stdout"
        },
        {
          "output_type": "stream",
          "text": [
            "50000it [00:05, 8456.88it/s]\n",
            "673it [00:00, 6721.29it/s]"
          ],
          "name": "stderr"
        },
        {
          "output_type": "stream",
          "text": [
            "\n",
            "Iteration: 1 Loss: 140405660.3583191 Difference: 11433.05252958949\n"
          ],
          "name": "stdout"
        },
        {
          "output_type": "stream",
          "text": [
            "50000it [00:05, 8476.40it/s]\n",
            "638it [00:00, 6374.02it/s]"
          ],
          "name": "stderr"
        },
        {
          "output_type": "stream",
          "text": [
            "\n",
            "Iteration: 2 Loss: 138518128.2428063 Difference: 1981.9366172928244\n"
          ],
          "name": "stdout"
        },
        {
          "output_type": "stream",
          "text": [
            "50000it [00:06, 8159.61it/s]\n",
            "651it [00:00, 6504.02it/s]"
          ],
          "name": "stderr"
        },
        {
          "output_type": "stream",
          "text": [
            "\n",
            "Iteration: 3 Loss: 137832309.8074501 Difference: 919.3800010894723\n"
          ],
          "name": "stdout"
        },
        {
          "output_type": "stream",
          "text": [
            "50000it [00:06, 8265.61it/s]\n",
            "682it [00:00, 6817.21it/s]"
          ],
          "name": "stderr"
        },
        {
          "output_type": "stream",
          "text": [
            "\n",
            "Iteration: 4 Loss: 137548174.49714452 Difference: 555.9935390822984\n"
          ],
          "name": "stdout"
        },
        {
          "output_type": "stream",
          "text": [
            "50000it [00:05, 8490.50it/s]\n",
            "656it [00:00, 6553.72it/s]"
          ],
          "name": "stderr"
        },
        {
          "output_type": "stream",
          "text": [
            "\n",
            "Iteration: 5 Loss: 137378181.17100784 Difference: 372.0334883282124\n"
          ],
          "name": "stdout"
        },
        {
          "output_type": "stream",
          "text": [
            "50000it [00:05, 8387.86it/s]\n",
            "669it [00:00, 6682.45it/s]"
          ],
          "name": "stderr"
        },
        {
          "output_type": "stream",
          "text": [
            "\n",
            "Iteration: 6 Loss: 137246440.65754738 Difference: 297.0131607017405\n"
          ],
          "name": "stdout"
        },
        {
          "output_type": "stream",
          "text": [
            "50000it [00:05, 8433.97it/s]\n",
            "664it [00:00, 6636.98it/s]"
          ],
          "name": "stderr"
        },
        {
          "output_type": "stream",
          "text": [
            "\n",
            "Iteration: 7 Loss: 137126030.43821776 Difference: 272.7658821860254\n"
          ],
          "name": "stdout"
        },
        {
          "output_type": "stream",
          "text": [
            "50000it [00:05, 8491.11it/s]\n",
            "668it [00:00, 6673.61it/s]"
          ],
          "name": "stderr"
        },
        {
          "output_type": "stream",
          "text": [
            "\n",
            "Iteration: 8 Loss: 137017194.39514074 Difference: 257.34804890628413\n"
          ],
          "name": "stdout"
        },
        {
          "output_type": "stream",
          "text": [
            "50000it [00:05, 8399.54it/s]\n",
            "653it [00:00, 6529.77it/s]"
          ],
          "name": "stderr"
        },
        {
          "output_type": "stream",
          "text": [
            "\n",
            "Iteration: 9 Loss: 136932303.78061333 Difference: 236.28057975067563\n"
          ],
          "name": "stdout"
        },
        {
          "output_type": "stream",
          "text": [
            "50000it [00:05, 8440.01it/s]\n",
            "639it [00:00, 6387.07it/s]"
          ],
          "name": "stderr"
        },
        {
          "output_type": "stream",
          "text": [
            "\n",
            "Iteration: 10 Loss: 136869800.68051967 Difference: 197.26369168094533\n"
          ],
          "name": "stdout"
        },
        {
          "output_type": "stream",
          "text": [
            "50000it [00:05, 8527.17it/s]\n",
            "665it [00:00, 6643.45it/s]"
          ],
          "name": "stderr"
        },
        {
          "output_type": "stream",
          "text": [
            "\n",
            "Iteration: 11 Loss: 136826671.62459233 Difference: 162.92463668091443\n"
          ],
          "name": "stdout"
        },
        {
          "output_type": "stream",
          "text": [
            "50000it [00:05, 8525.34it/s]\n",
            "646it [00:00, 6457.36it/s]"
          ],
          "name": "stderr"
        },
        {
          "output_type": "stream",
          "text": [
            "\n",
            "Iteration: 12 Loss: 136797557.72922748 Difference: 128.7315222305622\n"
          ],
          "name": "stdout"
        },
        {
          "output_type": "stream",
          "text": [
            "50000it [00:06, 8307.34it/s]\n",
            "650it [00:00, 6494.62it/s]"
          ],
          "name": "stderr"
        },
        {
          "output_type": "stream",
          "text": [
            "\n",
            "Iteration: 13 Loss: 136775473.38636914 Difference: 105.27250515094036\n"
          ],
          "name": "stdout"
        },
        {
          "output_type": "stream",
          "text": [
            "50000it [00:05, 8546.45it/s]\n",
            "665it [00:00, 6647.04it/s]"
          ],
          "name": "stderr"
        },
        {
          "output_type": "stream",
          "text": [
            "\n",
            "Iteration: 14 Loss: 136761950.61751473 Difference: 89.53805510318271\n"
          ],
          "name": "stdout"
        },
        {
          "output_type": "stream",
          "text": [
            "50000it [00:05, 8498.94it/s]\n",
            "670it [00:00, 6691.93it/s]"
          ],
          "name": "stderr"
        },
        {
          "output_type": "stream",
          "text": [
            "\n",
            "Iteration: 15 Loss: 136752076.7240973 Difference: 70.42845786474028\n"
          ],
          "name": "stdout"
        },
        {
          "output_type": "stream",
          "text": [
            "50000it [00:05, 8573.15it/s]\n",
            "669it [00:00, 6689.91it/s]"
          ],
          "name": "stderr"
        },
        {
          "output_type": "stream",
          "text": [
            "\n",
            "Iteration: 16 Loss: 136744578.0433362 Difference: 58.331231244456646\n"
          ],
          "name": "stdout"
        },
        {
          "output_type": "stream",
          "text": [
            "50000it [00:05, 8618.39it/s]\n",
            "678it [00:00, 6778.57it/s]"
          ],
          "name": "stderr"
        },
        {
          "output_type": "stream",
          "text": [
            "\n",
            "Iteration: 17 Loss: 136738646.90433002 Difference: 49.15106969246802\n"
          ],
          "name": "stdout"
        },
        {
          "output_type": "stream",
          "text": [
            "50000it [00:05, 8543.23it/s]\n",
            "667it [00:00, 6662.62it/s]"
          ],
          "name": "stderr"
        },
        {
          "output_type": "stream",
          "text": [
            "\n",
            "Iteration: 18 Loss: 136734109.662989 Difference: 42.79469892962917\n"
          ],
          "name": "stdout"
        },
        {
          "output_type": "stream",
          "text": [
            "50000it [00:05, 8527.25it/s]\n",
            "691it [00:00, 6903.42it/s]"
          ],
          "name": "stderr"
        },
        {
          "output_type": "stream",
          "text": [
            "\n",
            "Iteration: 19 Loss: 136730074.37445757 Difference: 40.79955348825694\n"
          ],
          "name": "stdout"
        },
        {
          "output_type": "stream",
          "text": [
            "50000it [00:05, 8592.09it/s]\n",
            "672it [00:00, 6716.07it/s]"
          ],
          "name": "stderr"
        },
        {
          "output_type": "stream",
          "text": [
            "\n",
            "Iteration: 20 Loss: 136727143.56753415 Difference: 38.5893768243798\n"
          ],
          "name": "stdout"
        },
        {
          "output_type": "stream",
          "text": [
            "50000it [00:05, 8584.00it/s]\n",
            "690it [00:00, 6895.16it/s]"
          ],
          "name": "stderr"
        },
        {
          "output_type": "stream",
          "text": [
            "\n",
            "Iteration: 21 Loss: 136724306.5643943 Difference: 35.09249459521924\n"
          ],
          "name": "stdout"
        },
        {
          "output_type": "stream",
          "text": [
            "50000it [00:05, 8563.32it/s]\n",
            "672it [00:00, 6714.26it/s]"
          ],
          "name": "stderr"
        },
        {
          "output_type": "stream",
          "text": [
            "\n",
            "Iteration: 22 Loss: 136722098.69165012 Difference: 31.588224311029943\n"
          ],
          "name": "stdout"
        },
        {
          "output_type": "stream",
          "text": [
            "50000it [00:05, 8540.11it/s]\n",
            "664it [00:00, 6634.72it/s]"
          ],
          "name": "stderr"
        },
        {
          "output_type": "stream",
          "text": [
            "\n",
            "Iteration: 23 Loss: 136720013.95251736 Difference: 26.591238859902692\n"
          ],
          "name": "stdout"
        },
        {
          "output_type": "stream",
          "text": [
            "50000it [00:05, 8517.47it/s]\n",
            "670it [00:00, 6695.92it/s]"
          ],
          "name": "stderr"
        },
        {
          "output_type": "stream",
          "text": [
            "\n",
            "Iteration: 24 Loss: 136718112.68053314 Difference: 23.505372880651137\n"
          ],
          "name": "stdout"
        },
        {
          "output_type": "stream",
          "text": [
            "50000it [00:05, 8456.41it/s]\n",
            "667it [00:00, 6664.70it/s]"
          ],
          "name": "stderr"
        },
        {
          "output_type": "stream",
          "text": [
            "\n",
            "Iteration: 25 Loss: 136716334.7540424 Difference: 24.982540118241342\n"
          ],
          "name": "stdout"
        },
        {
          "output_type": "stream",
          "text": [
            "50000it [00:05, 8523.82it/s]\n",
            "656it [00:00, 6551.51it/s]"
          ],
          "name": "stderr"
        },
        {
          "output_type": "stream",
          "text": [
            "\n",
            "Iteration: 26 Loss: 136715122.44247794 Difference: 24.5574574532916\n"
          ],
          "name": "stdout"
        },
        {
          "output_type": "stream",
          "text": [
            "50000it [00:05, 8563.36it/s]\n",
            "679it [00:00, 6789.44it/s]"
          ],
          "name": "stderr"
        },
        {
          "output_type": "stream",
          "text": [
            "\n",
            "Iteration: 27 Loss: 136714084.57217416 Difference: 18.956712732594827\n"
          ],
          "name": "stdout"
        },
        {
          "output_type": "stream",
          "text": [
            "50000it [00:05, 8591.94it/s]\n",
            "673it [00:00, 6720.74it/s]"
          ],
          "name": "stderr"
        },
        {
          "output_type": "stream",
          "text": [
            "\n",
            "Iteration: 28 Loss: 136713162.9822578 Difference: 16.715189953043545\n"
          ],
          "name": "stdout"
        },
        {
          "output_type": "stream",
          "text": [
            "50000it [00:05, 8551.62it/s]\n",
            "677it [00:00, 6767.01it/s]"
          ],
          "name": "stderr"
        },
        {
          "output_type": "stream",
          "text": [
            "\n",
            "Iteration: 29 Loss: 136712595.13130444 Difference: 14.416718270993377\n"
          ],
          "name": "stdout"
        },
        {
          "output_type": "stream",
          "text": [
            "50000it [00:05, 8571.82it/s]\n",
            "679it [00:00, 6788.94it/s]"
          ],
          "name": "stderr"
        },
        {
          "output_type": "stream",
          "text": [
            "\n",
            "Iteration: 30 Loss: 136712279.32786667 Difference: 12.72993012185578\n"
          ],
          "name": "stdout"
        },
        {
          "output_type": "stream",
          "text": [
            "50000it [00:05, 8615.63it/s]\n",
            "677it [00:00, 6769.07it/s]"
          ],
          "name": "stderr"
        },
        {
          "output_type": "stream",
          "text": [
            "\n",
            "Iteration: 31 Loss: 136711730.90520003 Difference: 11.17728031015086\n"
          ],
          "name": "stdout"
        },
        {
          "output_type": "stream",
          "text": [
            "50000it [00:05, 8567.86it/s]\n",
            "677it [00:00, 6762.20it/s]"
          ],
          "name": "stderr"
        },
        {
          "output_type": "stream",
          "text": [
            "\n",
            "Iteration: 32 Loss: 136711199.6031478 Difference: 10.318376620034396\n"
          ],
          "name": "stdout"
        },
        {
          "output_type": "stream",
          "text": [
            "50000it [00:05, 8608.43it/s]\n",
            "672it [00:00, 6716.02it/s]"
          ],
          "name": "stderr"
        },
        {
          "output_type": "stream",
          "text": [
            "\n",
            "Iteration: 33 Loss: 136710694.78478846 Difference: 8.466645695142113\n"
          ],
          "name": "stdout"
        },
        {
          "output_type": "stream",
          "text": [
            "50000it [00:05, 8619.20it/s]\n",
            "682it [00:00, 6812.28it/s]"
          ],
          "name": "stderr"
        },
        {
          "output_type": "stream",
          "text": [
            "\n",
            "Iteration: 34 Loss: 136710449.41884473 Difference: 10.37044519467406\n"
          ],
          "name": "stdout"
        },
        {
          "output_type": "stream",
          "text": [
            "50000it [00:05, 8588.27it/s]\n",
            "653it [00:00, 6529.71it/s]"
          ],
          "name": "stderr"
        },
        {
          "output_type": "stream",
          "text": [
            "\n",
            "Iteration: 35 Loss: 136710056.133039 Difference: 7.207009451048081\n"
          ],
          "name": "stdout"
        },
        {
          "output_type": "stream",
          "text": [
            "50000it [00:05, 8643.80it/s]\n",
            "667it [00:00, 6661.99it/s]"
          ],
          "name": "stderr"
        },
        {
          "output_type": "stream",
          "text": [
            "\n",
            "Iteration: 36 Loss: 136709809.23366976 Difference: 6.872208575219545\n"
          ],
          "name": "stdout"
        },
        {
          "output_type": "stream",
          "text": [
            "50000it [00:05, 8571.73it/s]\n",
            "658it [00:00, 6574.41it/s]"
          ],
          "name": "stderr"
        },
        {
          "output_type": "stream",
          "text": [
            "\n",
            "Iteration: 37 Loss: 136709619.31813714 Difference: 7.477916243725142\n"
          ],
          "name": "stdout"
        },
        {
          "output_type": "stream",
          "text": [
            "50000it [00:05, 8619.81it/s]\n",
            "680it [00:00, 6792.67it/s]"
          ],
          "name": "stderr"
        },
        {
          "output_type": "stream",
          "text": [
            "\n",
            "Iteration: 38 Loss: 136709425.88466677 Difference: 7.718049828930588\n"
          ],
          "name": "stdout"
        },
        {
          "output_type": "stream",
          "text": [
            "50000it [00:05, 8642.14it/s]\n",
            "673it [00:00, 6724.88it/s]"
          ],
          "name": "stderr"
        },
        {
          "output_type": "stream",
          "text": [
            "\n",
            "Iteration: 39 Loss: 136709338.15452212 Difference: 5.341459032105982\n"
          ],
          "name": "stdout"
        },
        {
          "output_type": "stream",
          "text": [
            "50000it [00:05, 8651.56it/s]\n",
            "689it [00:00, 6886.02it/s]"
          ],
          "name": "stderr"
        },
        {
          "output_type": "stream",
          "text": [
            "\n",
            "Iteration: 40 Loss: 136709191.62135443 Difference: 4.700041039113413\n"
          ],
          "name": "stdout"
        },
        {
          "output_type": "stream",
          "text": [
            "50000it [00:05, 8638.93it/s]\n",
            "695it [00:00, 6942.72it/s]"
          ],
          "name": "stderr"
        },
        {
          "output_type": "stream",
          "text": [
            "\n",
            "Iteration: 41 Loss: 136709049.00511688 Difference: 4.63138943839629\n"
          ],
          "name": "stdout"
        },
        {
          "output_type": "stream",
          "text": [
            "50000it [00:05, 8678.45it/s]\n",
            "677it [00:00, 6768.83it/s]"
          ],
          "name": "stderr"
        },
        {
          "output_type": "stream",
          "text": [
            "\n",
            "Iteration: 42 Loss: 136708989.58825794 Difference: 5.162678221163783\n"
          ],
          "name": "stdout"
        },
        {
          "output_type": "stream",
          "text": [
            "50000it [00:05, 8678.70it/s]\n",
            "693it [00:00, 6922.27it/s]"
          ],
          "name": "stderr"
        },
        {
          "output_type": "stream",
          "text": [
            "\n",
            "Iteration: 43 Loss: 136708959.8381107 Difference: 3.7730543071909572\n"
          ],
          "name": "stdout"
        },
        {
          "output_type": "stream",
          "text": [
            "50000it [00:05, 8666.80it/s]\n",
            "676it [00:00, 6757.80it/s]"
          ],
          "name": "stderr"
        },
        {
          "output_type": "stream",
          "text": [
            "\n",
            "Iteration: 44 Loss: 136708953.24210852 Difference: 2.5740333323606652\n"
          ],
          "name": "stdout"
        },
        {
          "output_type": "stream",
          "text": [
            "50000it [00:05, 8524.89it/s]\n",
            "674it [00:00, 6739.44it/s]"
          ],
          "name": "stderr"
        },
        {
          "output_type": "stream",
          "text": [
            "\n",
            "Iteration: 45 Loss: 136708960.41671264 Difference: 2.297545506799265\n"
          ],
          "name": "stdout"
        },
        {
          "output_type": "stream",
          "text": [
            "50000it [00:05, 8514.39it/s]\n",
            "672it [00:00, 6717.06it/s]"
          ],
          "name": "stderr"
        },
        {
          "output_type": "stream",
          "text": [
            "\n",
            "Iteration: 46 Loss: 136708920.91432652 Difference: 1.4298431381368961\n"
          ],
          "name": "stdout"
        },
        {
          "output_type": "stream",
          "text": [
            "50000it [00:05, 8414.05it/s]\n",
            "650it [00:00, 6493.95it/s]"
          ],
          "name": "stderr"
        },
        {
          "output_type": "stream",
          "text": [
            "\n",
            "Iteration: 47 Loss: 136708942.83172697 Difference: 1.0142126362805708\n"
          ],
          "name": "stdout"
        },
        {
          "output_type": "stream",
          "text": [
            "50000it [00:06, 8323.88it/s]\n",
            "664it [00:00, 6638.12it/s]"
          ],
          "name": "stderr"
        },
        {
          "output_type": "stream",
          "text": [
            "\n",
            "Iteration: 48 Loss: 136708943.09396133 Difference: 0.9377303161429833\n"
          ],
          "name": "stdout"
        },
        {
          "output_type": "stream",
          "text": [
            "50000it [00:05, 8457.42it/s]\n",
            "649it [00:00, 6481.77it/s]"
          ],
          "name": "stderr"
        },
        {
          "output_type": "stream",
          "text": [
            "\n",
            "Iteration: 49 Loss: 136708937.67529488 Difference: 0.8941692645879478\n"
          ],
          "name": "stdout"
        },
        {
          "output_type": "stream",
          "text": [
            "50000it [00:05, 8440.96it/s]\n",
            "638it [00:00, 6379.12it/s]"
          ],
          "name": "stderr"
        },
        {
          "output_type": "stream",
          "text": [
            "\n",
            "Iteration: 50 Loss: 136708937.6731539 Difference: 0.8991578312733995\n"
          ],
          "name": "stdout"
        },
        {
          "output_type": "stream",
          "text": [
            "50000it [00:05, 8495.86it/s]\n",
            "668it [00:00, 6678.38it/s]"
          ],
          "name": "stderr"
        },
        {
          "output_type": "stream",
          "text": [
            "\n",
            "Iteration: 51 Loss: 136708937.67315412 Difference: 0.0001868334848840423\n"
          ],
          "name": "stdout"
        },
        {
          "output_type": "stream",
          "text": [
            "50000it [00:05, 8493.00it/s]\n"
          ],
          "name": "stderr"
        },
        {
          "output_type": "stream",
          "text": [
            "\n",
            "Iteration: 52 Loss: 136708937.67315412 Difference: 3.988004749635313e-08\n",
            "Converged! With distance: 8.761807318123263e-12\n",
            "[cluster_label,no_occurence_of_label,total_samples_in_cluster,cluster_accuracy] [[6, 1080, 4923, 0.21937842778793418], [6, 1217, 6767, 0.17984335747007538], [2, 1151, 7136, 0.16129484304932734], [0, 963, 4127, 0.2333414102253453], [0, 933, 2704, 0.34504437869822485], [4, 956, 5128, 0.18642745709828393], [9, 1715, 5779, 0.29676414604602874], [9, 596, 3605, 0.1653259361997226], [8, 885, 5402, 0.16382821177341725], [8, 1593, 4429, 0.35967487017385413]]\n",
            "Accuracy: 0.23109230385222138\n"
          ],
          "name": "stdout"
        }
      ]
    },
    {
      "metadata": {
        "id": "vml23dmrVdew",
        "colab_type": "text"
      },
      "cell_type": "markdown",
      "source": [
        "### Mean Images"
      ]
    },
    {
      "metadata": {
        "id": "RU7uW6LYVWMP",
        "colab_type": "code",
        "outputId": "481201d9-a7e7-44b1-f8bb-9bac0e26763a",
        "colab": {
          "base_uri": "https://localhost:8080/",
          "height": 248
        }
      },
      "cell_type": "code",
      "source": [
        "data_reader.plot_imgs(kmeans.centroids,len(kmeans.centroids))"
      ],
      "execution_count": 6,
      "outputs": [
        {
          "output_type": "display_data",
          "data": {
            "image/png": "[encoded data removed]",
            "text/plain": [
              "<matplotlib.figure.Figure at 0x7f38f48be438>"
            ]
          },
          "metadata": {
            "tags": []
          }
        }
      ]
    },
    {
      "metadata": {
        "id": "3f9ZtxGEVbuq",
        "colab_type": "text"
      },
      "cell_type": "markdown",
      "source": [
        "### Loss"
      ]
    },
    {
      "metadata": {
        "id": "JZcgQ8b1VVtH",
        "colab_type": "code",
        "outputId": "1871e36a-2449-4071-dc99-9c2d40409552",
        "colab": {
          "base_uri": "https://localhost:8080/",
          "height": 375
        }
      },
      "cell_type": "code",
      "source": [
        "print('Loss')\n",
        "plt.plot(range(kmeans.iterations),kmeans.loss_per_iteration)\n",
        "plt.show()"
      ],
      "execution_count": 7,
      "outputs": [
        {
          "output_type": "stream",
          "text": [
            "Loss\n"
          ],
          "name": "stdout"
        },
        {
          "output_type": "display_data",
          "data": {
            "image/png": "[encoded data removed]",
            "text/plain": [
              "<matplotlib.figure.Figure at 0x7f38ef1fc4a8>"
            ]
          },
          "metadata": {
            "tags": []
          }
        }
      ]
    },
    {
      "metadata": {
        "id": "YAqa0lLYVg7M",
        "colab_type": "text"
      },
      "cell_type": "markdown",
      "source": [
        "### Clustered Samples"
      ]
    },
    {
      "metadata": {
        "id": "P2KfTf612Eih",
        "colab_type": "code",
        "colab": {}
      },
      "cell_type": "code",
      "source": [
        "classes = ['airplane', 'automobile', 'bird', 'cat', 'deer', 'dog', 'frog', 'horse', 'ship', 'truck']"
      ],
      "execution_count": 0,
      "outputs": []
    },
    {
      "metadata": {
        "id": "JtiopQD9TPXP",
        "colab_type": "code",
        "outputId": "796bfd7e-3b3b-4200-e687-38ee2ad92f37",
        "colab": {
          "base_uri": "https://localhost:8080/",
          "height": 986
        }
      },
      "cell_type": "code",
      "source": [
        "for key,data in list(kmeans.clusters['data'].items()):\n",
        "    print('Cluster:',key,'Label:',classes[kmeans.clusters_labels[key]])\n",
        "    data_reader.plot_imgs(data[:min(25,data.shape[0])],min(25,data.shape[0]))"
      ],
      "execution_count": 0,
      "outputs": [
        {
          "output_type": "stream",
          "text": [
            "Cluster: 0 Label: frog\n"
          ],
          "name": "stdout"
        },
        {
          "output_type": "display_data",
          "data": {
            "image/png": "[encoded data removed]",
            "text/plain": [
              "<matplotlib.figure.Figure at 0x7f38eea91e48>"
            ]
          },
          "metadata": {
            "tags": []
          }
        },
        {
          "output_type": "stream",
          "text": [
            "Cluster: 1 Label: frog\n"
          ],
          "name": "stdout"
        },
        {
          "output_type": "display_data",
          "data": {
            "image/png": "[encoded data removed]",
            "text/plain": [
              "<matplotlib.figure.Figure at 0x7f38f3889f28>"
            ]
          },
          "metadata": {
            "tags": []
          }
        },
        {
          "output_type": "stream",
          "text": [
            "Cluster: 2 Label: bird\n"
          ],
          "name": "stdout"
        },
        {
          "output_type": "display_data",
          "data": {
            "image/png": "[encoded data removed]",
            "text/plain": [
              "<matplotlib.figure.Figure at 0x7f38f3578048>"
            ]
          },
          "metadata": {
            "tags": []
          }
        }
      ]
    },
    {
      "metadata": {
        "id": "fzn3P2cupBkR",
        "colab_type": "text"
      },
      "cell_type": "markdown",
      "source": [
        "### Accuracy"
      ]
    },
    {
      "metadata": {
        "id": "1HcjZD0EDghX",
        "colab_type": "code",
        "outputId": "4d88300b-48d8-40dc-da26-8af4908c01f0",
        "colab": {
          "base_uri": "https://localhost:8080/",
          "height": 88
        }
      },
      "cell_type": "code",
      "source": [
        "print('[cluster_label,no_occurence_of_label,total_samples_in_cluster,cluster_accuracy]\\n',kmeans.clusters_info)\n",
        "print('Accuracy:',kmeans.accuracy)"
      ],
      "execution_count": 9,
      "outputs": [
        {
          "output_type": "stream",
          "text": [
            "[cluster_label,no_occurence_of_label,total_samples_in_cluster,cluster_accuracy]\n",
            " [[6, 1080, 4923, 0.21937842778793418], [6, 1217, 6767, 0.17984335747007538], [2, 1151, 7136, 0.16129484304932734], [0, 963, 4127, 0.2333414102253453], [0, 933, 2704, 0.34504437869822485], [4, 956, 5128, 0.18642745709828393], [9, 1715, 5779, 0.29676414604602874], [9, 596, 3605, 0.1653259361997226], [8, 885, 5402, 0.16382821177341725], [8, 1593, 4429, 0.35967487017385413]]\n",
            "Accuracy: 0.23109230385222138\n"
          ],
          "name": "stdout"
        }
      ]
    },
    {
      "metadata": {
        "id": "BHCvAdNSxzin",
        "colab_type": "text"
      },
      "cell_type": "markdown",
      "source": [
        "# CIFAR 100"
      ]
    },
    {
      "metadata": {
        "id": "uNEj6wpcyJKl",
        "colab_type": "text"
      },
      "cell_type": "markdown",
      "source": [
        "## Data Reading"
      ]
    },
    {
      "metadata": {
        "id": "bJQpEDhCx10b",
        "colab_type": "code",
        "colab": {
          "base_uri": "https://localhost:8080/",
          "height": 323
        },
        "outputId": "f5603348-9be5-4889-fbb7-c1cfe34afed1"
      },
      "cell_type": "code",
      "source": [
        "data_reader_100 = DataReader('../cifar-100-python','cifar-100')\n",
        "tr_data_100, tr_class_labels_100, tr_subclass_labels_100 = cifar_100.get_train_data()\n",
        "data_reader_100.plot_imgs(tr_data_100,25,True)"
      ],
      "execution_count": 10,
      "outputs": [
        {
          "output_type": "display_data",
          "data": {
            "image/png": "[encoded data removed]",
            "text/plain": [
              "<matplotlib.figure.Figure at 0x7f38f4904ac8>"
            ]
          },
          "metadata": {
            "tags": []
          }
        }
      ]
    },
    {
      "metadata": {
        "id": "m8ZIZpTvyK-b",
        "colab_type": "text"
      },
      "cell_type": "markdown",
      "source": [
        "## Clustering"
      ]
    },
    {
      "metadata": {
        "id": "hQQDznm3yDBc",
        "colab_type": "code",
        "colab": {
          "base_uri": "https://localhost:8080/",
          "height": 8554
        },
        "outputId": "261d9959-8e13-4d8f-f6fe-5f2b796c7a62"
      },
      "cell_type": "code",
      "source": [
        "kmeans_100 = KMeans(n_clusters=20,max_iter=200)\n",
        "kmeans_100.fit(tr_data_100,tr_class_labels_100)"
      ],
      "execution_count": 11,
      "outputs": [
        {
          "output_type": "stream",
          "text": [
            "50000it [00:10, 4823.58it/s]\n",
            "331it [00:00, 3309.85it/s]"
          ],
          "name": "stderr"
        },
        {
          "output_type": "stream",
          "text": [
            "\n",
            "Iteration: 0 Loss: 158152523.00020185 Difference: 35574.848039028926\n"
          ],
          "name": "stdout"
        },
        {
          "output_type": "stream",
          "text": [
            "50000it [00:11, 4293.67it/s]\n",
            "339it [00:00, 3387.48it/s]"
          ],
          "name": "stderr"
        },
        {
          "output_type": "stream",
          "text": [
            "\n",
            "Iteration: 1 Loss: 140134690.3887055 Difference: 20764.13212685338\n"
          ],
          "name": "stdout"
        },
        {
          "output_type": "stream",
          "text": [
            "50000it [00:11, 4277.80it/s]\n",
            "339it [00:00, 3383.98it/s]"
          ],
          "name": "stderr"
        },
        {
          "output_type": "stream",
          "text": [
            "\n",
            "Iteration: 2 Loss: 138390611.2353949 Difference: 2785.849141634842\n"
          ],
          "name": "stdout"
        },
        {
          "output_type": "stream",
          "text": [
            "50000it [00:11, 4294.91it/s]\n",
            "330it [00:00, 3290.53it/s]"
          ],
          "name": "stderr"
        },
        {
          "output_type": "stream",
          "text": [
            "\n",
            "Iteration: 3 Loss: 137591845.276899 Difference: 1445.1019226404514\n"
          ],
          "name": "stdout"
        },
        {
          "output_type": "stream",
          "text": [
            "50000it [00:11, 4286.93it/s]\n",
            "334it [00:00, 3335.81it/s]"
          ],
          "name": "stderr"
        },
        {
          "output_type": "stream",
          "text": [
            "\n",
            "Iteration: 4 Loss: 137093493.67960206 Difference: 1060.0312420093771\n"
          ],
          "name": "stdout"
        },
        {
          "output_type": "stream",
          "text": [
            "50000it [00:11, 4257.15it/s]\n",
            "338it [00:00, 3379.00it/s]"
          ],
          "name": "stderr"
        },
        {
          "output_type": "stream",
          "text": [
            "\n",
            "Iteration: 5 Loss: 136716524.86829293 Difference: 860.5173939707163\n"
          ],
          "name": "stdout"
        },
        {
          "output_type": "stream",
          "text": [
            "50000it [00:11, 4295.40it/s]\n",
            "334it [00:00, 3332.56it/s]"
          ],
          "name": "stderr"
        },
        {
          "output_type": "stream",
          "text": [
            "\n",
            "Iteration: 6 Loss: 136423801.78682062 Difference: 734.0710549836897\n"
          ],
          "name": "stdout"
        },
        {
          "output_type": "stream",
          "text": [
            "50000it [00:11, 4287.43it/s]\n",
            "332it [00:00, 3317.24it/s]"
          ],
          "name": "stderr"
        },
        {
          "output_type": "stream",
          "text": [
            "\n",
            "Iteration: 7 Loss: 136217129.789746 Difference: 626.7567588803693\n"
          ],
          "name": "stdout"
        },
        {
          "output_type": "stream",
          "text": [
            "50000it [00:11, 4310.97it/s]\n",
            "336it [00:00, 3351.05it/s]"
          ],
          "name": "stderr"
        },
        {
          "output_type": "stream",
          "text": [
            "\n",
            "Iteration: 8 Loss: 136069136.98375314 Difference: 519.2584923281594\n"
          ],
          "name": "stdout"
        },
        {
          "output_type": "stream",
          "text": [
            "50000it [00:11, 4289.71it/s]\n",
            "336it [00:00, 3353.32it/s]"
          ],
          "name": "stderr"
        },
        {
          "output_type": "stream",
          "text": [
            "\n",
            "Iteration: 9 Loss: 135958668.32885793 Difference: 438.86859757976754\n"
          ],
          "name": "stdout"
        },
        {
          "output_type": "stream",
          "text": [
            "50000it [00:11, 4289.16it/s]\n",
            "336it [00:00, 3357.38it/s]"
          ],
          "name": "stderr"
        },
        {
          "output_type": "stream",
          "text": [
            "\n",
            "Iteration: 10 Loss: 135876870.1360185 Difference: 382.44615689487165\n"
          ],
          "name": "stdout"
        },
        {
          "output_type": "stream",
          "text": [
            "50000it [00:11, 4325.38it/s]\n",
            "340it [00:00, 3397.11it/s]"
          ],
          "name": "stderr"
        },
        {
          "output_type": "stream",
          "text": [
            "\n",
            "Iteration: 11 Loss: 135811971.54093117 Difference: 332.30446077187247\n"
          ],
          "name": "stdout"
        },
        {
          "output_type": "stream",
          "text": [
            "50000it [00:11, 4296.31it/s]\n",
            "329it [00:00, 3285.87it/s]"
          ],
          "name": "stderr"
        },
        {
          "output_type": "stream",
          "text": [
            "\n",
            "Iteration: 12 Loss: 135763083.06494564 Difference: 300.44407145857497\n"
          ],
          "name": "stdout"
        },
        {
          "output_type": "stream",
          "text": [
            "50000it [00:11, 4286.23it/s]\n",
            "336it [00:00, 3351.38it/s]"
          ],
          "name": "stderr"
        },
        {
          "output_type": "stream",
          "text": [
            "\n",
            "Iteration: 13 Loss: 135727452.33670074 Difference: 259.3854005057999\n"
          ],
          "name": "stdout"
        },
        {
          "output_type": "stream",
          "text": [
            "50000it [00:11, 4304.10it/s]\n",
            "319it [00:00, 3183.82it/s]"
          ],
          "name": "stderr"
        },
        {
          "output_type": "stream",
          "text": [
            "\n",
            "Iteration: 14 Loss: 135698971.07655215 Difference: 227.20068817801317\n"
          ],
          "name": "stdout"
        },
        {
          "output_type": "stream",
          "text": [
            "50000it [00:11, 4290.89it/s]\n",
            "334it [00:00, 3332.11it/s]"
          ],
          "name": "stderr"
        },
        {
          "output_type": "stream",
          "text": [
            "\n",
            "Iteration: 15 Loss: 135674171.60217538 Difference: 218.38594621431463\n"
          ],
          "name": "stdout"
        },
        {
          "output_type": "stream",
          "text": [
            "50000it [00:11, 4339.16it/s]\n",
            "344it [00:00, 3432.39it/s]"
          ],
          "name": "stderr"
        },
        {
          "output_type": "stream",
          "text": [
            "\n",
            "Iteration: 16 Loss: 135657858.36645627 Difference: 200.80435161259942\n"
          ],
          "name": "stdout"
        },
        {
          "output_type": "stream",
          "text": [
            "50000it [00:11, 4317.22it/s]\n",
            "326it [00:00, 3257.25it/s]"
          ],
          "name": "stderr"
        },
        {
          "output_type": "stream",
          "text": [
            "\n",
            "Iteration: 17 Loss: 135642567.1470604 Difference: 165.68310568687707\n"
          ],
          "name": "stdout"
        },
        {
          "output_type": "stream",
          "text": [
            "50000it [00:11, 4313.58it/s]\n",
            "333it [00:00, 3327.76it/s]"
          ],
          "name": "stderr"
        },
        {
          "output_type": "stream",
          "text": [
            "\n",
            "Iteration: 18 Loss: 135629331.9758348 Difference: 175.09249210683805\n"
          ],
          "name": "stdout"
        },
        {
          "output_type": "stream",
          "text": [
            "50000it [00:11, 4283.10it/s]\n",
            "327it [00:00, 3263.83it/s]"
          ],
          "name": "stderr"
        },
        {
          "output_type": "stream",
          "text": [
            "\n",
            "Iteration: 19 Loss: 135619686.76457518 Difference: 158.86057696166148\n"
          ],
          "name": "stdout"
        },
        {
          "output_type": "stream",
          "text": [
            "50000it [00:12, 4111.26it/s]\n",
            "336it [00:00, 3357.05it/s]"
          ],
          "name": "stderr"
        },
        {
          "output_type": "stream",
          "text": [
            "\n",
            "Iteration: 20 Loss: 135611550.84148327 Difference: 135.8627769245847\n"
          ],
          "name": "stdout"
        },
        {
          "output_type": "stream",
          "text": [
            "50000it [00:11, 4287.43it/s]\n",
            "334it [00:00, 3335.33it/s]"
          ],
          "name": "stderr"
        },
        {
          "output_type": "stream",
          "text": [
            "\n",
            "Iteration: 21 Loss: 135604664.69546735 Difference: 126.78693040440164\n"
          ],
          "name": "stdout"
        },
        {
          "output_type": "stream",
          "text": [
            "50000it [00:11, 4299.82it/s]\n",
            "332it [00:00, 3314.46it/s]"
          ],
          "name": "stderr"
        },
        {
          "output_type": "stream",
          "text": [
            "\n",
            "Iteration: 22 Loss: 135600035.296741 Difference: 111.46930038828079\n"
          ],
          "name": "stdout"
        },
        {
          "output_type": "stream",
          "text": [
            "50000it [00:11, 4273.95it/s]\n",
            "337it [00:00, 3362.55it/s]"
          ],
          "name": "stderr"
        },
        {
          "output_type": "stream",
          "text": [
            "\n",
            "Iteration: 23 Loss: 135596312.83457 Difference: 86.95574136824155\n"
          ],
          "name": "stdout"
        },
        {
          "output_type": "stream",
          "text": [
            "50000it [00:11, 4268.78it/s]\n",
            "332it [00:00, 3317.22it/s]"
          ],
          "name": "stderr"
        },
        {
          "output_type": "stream",
          "text": [
            "\n",
            "Iteration: 24 Loss: 135592682.0458689 Difference: 84.14425666049705\n"
          ],
          "name": "stdout"
        },
        {
          "output_type": "stream",
          "text": [
            "50000it [00:11, 4249.70it/s]\n",
            "337it [00:00, 3361.02it/s]"
          ],
          "name": "stderr"
        },
        {
          "output_type": "stream",
          "text": [
            "\n",
            "Iteration: 25 Loss: 135589437.8974583 Difference: 80.38061823667684\n"
          ],
          "name": "stdout"
        },
        {
          "output_type": "stream",
          "text": [
            "50000it [00:11, 4297.27it/s]\n",
            "333it [00:00, 3329.03it/s]"
          ],
          "name": "stderr"
        },
        {
          "output_type": "stream",
          "text": [
            "\n",
            "Iteration: 26 Loss: 135586498.7749716 Difference: 70.91835684428582\n"
          ],
          "name": "stdout"
        },
        {
          "output_type": "stream",
          "text": [
            "50000it [00:11, 4283.59it/s]\n",
            "337it [00:00, 3364.46it/s]"
          ],
          "name": "stderr"
        },
        {
          "output_type": "stream",
          "text": [
            "\n",
            "Iteration: 27 Loss: 135584623.6358671 Difference: 62.250421388697106\n"
          ],
          "name": "stdout"
        },
        {
          "output_type": "stream",
          "text": [
            "50000it [00:11, 4268.36it/s]\n",
            "335it [00:00, 3345.17it/s]"
          ],
          "name": "stderr"
        },
        {
          "output_type": "stream",
          "text": [
            "\n",
            "Iteration: 28 Loss: 135583356.31190106 Difference: 57.88789598891344\n"
          ],
          "name": "stdout"
        },
        {
          "output_type": "stream",
          "text": [
            "50000it [00:11, 4269.37it/s]\n",
            "330it [00:00, 3290.78it/s]"
          ],
          "name": "stderr"
        },
        {
          "output_type": "stream",
          "text": [
            "\n",
            "Iteration: 29 Loss: 135581924.81375572 Difference: 55.69603642747141\n"
          ],
          "name": "stdout"
        },
        {
          "output_type": "stream",
          "text": [
            "50000it [00:11, 4281.18it/s]\n",
            "313it [00:00, 3123.38it/s]"
          ],
          "name": "stderr"
        },
        {
          "output_type": "stream",
          "text": [
            "\n",
            "Iteration: 30 Loss: 135580698.3993894 Difference: 53.29321682973238\n"
          ],
          "name": "stdout"
        },
        {
          "output_type": "stream",
          "text": [
            "50000it [00:11, 4280.45it/s]\n",
            "304it [00:00, 3030.29it/s]"
          ],
          "name": "stderr"
        },
        {
          "output_type": "stream",
          "text": [
            "\n",
            "Iteration: 31 Loss: 135579435.7256237 Difference: 52.762655759087785\n"
          ],
          "name": "stdout"
        },
        {
          "output_type": "stream",
          "text": [
            "50000it [00:11, 4285.94it/s]\n",
            "336it [00:00, 3354.86it/s]"
          ],
          "name": "stderr"
        },
        {
          "output_type": "stream",
          "text": [
            "\n",
            "Iteration: 32 Loss: 135578342.81462333 Difference: 52.1250194973008\n"
          ],
          "name": "stdout"
        },
        {
          "output_type": "stream",
          "text": [
            "50000it [00:11, 4275.42it/s]\n",
            "333it [00:00, 3326.62it/s]"
          ],
          "name": "stderr"
        },
        {
          "output_type": "stream",
          "text": [
            "\n",
            "Iteration: 33 Loss: 135577560.52008522 Difference: 45.55909159760152\n"
          ],
          "name": "stdout"
        },
        {
          "output_type": "stream",
          "text": [
            "50000it [00:11, 4272.97it/s]\n",
            "333it [00:00, 3329.26it/s]"
          ],
          "name": "stderr"
        },
        {
          "output_type": "stream",
          "text": [
            "\n",
            "Iteration: 34 Loss: 135576867.2611556 Difference: 48.374616009409294\n"
          ],
          "name": "stdout"
        },
        {
          "output_type": "stream",
          "text": [
            "50000it [00:11, 4304.71it/s]\n",
            "334it [00:00, 3337.63it/s]"
          ],
          "name": "stderr"
        },
        {
          "output_type": "stream",
          "text": [
            "\n",
            "Iteration: 35 Loss: 135576371.12277952 Difference: 43.623897520312\n"
          ],
          "name": "stdout"
        },
        {
          "output_type": "stream",
          "text": [
            "50000it [00:11, 4290.76it/s]\n",
            "332it [00:00, 3314.94it/s]"
          ],
          "name": "stderr"
        },
        {
          "output_type": "stream",
          "text": [
            "\n",
            "Iteration: 36 Loss: 135575990.41566402 Difference: 41.778945337292846\n"
          ],
          "name": "stdout"
        },
        {
          "output_type": "stream",
          "text": [
            "50000it [00:11, 4286.02it/s]\n",
            "337it [00:00, 3365.01it/s]"
          ],
          "name": "stderr"
        },
        {
          "output_type": "stream",
          "text": [
            "\n",
            "Iteration: 37 Loss: 135575706.14106008 Difference: 39.30446000675869\n"
          ],
          "name": "stdout"
        },
        {
          "output_type": "stream",
          "text": [
            "50000it [00:11, 4285.56it/s]\n",
            "336it [00:00, 3356.23it/s]"
          ],
          "name": "stderr"
        },
        {
          "output_type": "stream",
          "text": [
            "\n",
            "Iteration: 38 Loss: 135575434.45031253 Difference: 33.46024392312718\n"
          ],
          "name": "stdout"
        },
        {
          "output_type": "stream",
          "text": [
            "50000it [00:11, 4272.80it/s]\n",
            "335it [00:00, 3347.34it/s]"
          ],
          "name": "stderr"
        },
        {
          "output_type": "stream",
          "text": [
            "\n",
            "Iteration: 39 Loss: 135575468.41249487 Difference: 35.01434609089942\n"
          ],
          "name": "stdout"
        },
        {
          "output_type": "stream",
          "text": [
            "50000it [00:11, 4283.38it/s]\n",
            "340it [00:00, 3389.26it/s]"
          ],
          "name": "stderr"
        },
        {
          "output_type": "stream",
          "text": [
            "\n",
            "Iteration: 40 Loss: 135575166.94304365 Difference: 31.619158530047617\n"
          ],
          "name": "stdout"
        },
        {
          "output_type": "stream",
          "text": [
            "50000it [00:11, 4305.49it/s]\n",
            "327it [00:00, 3261.75it/s]"
          ],
          "name": "stderr"
        },
        {
          "output_type": "stream",
          "text": [
            "\n",
            "Iteration: 41 Loss: 135574803.16739225 Difference: 37.93373368575224\n"
          ],
          "name": "stdout"
        },
        {
          "output_type": "stream",
          "text": [
            "50000it [00:11, 4319.86it/s]\n",
            "339it [00:00, 3389.46it/s]"
          ],
          "name": "stderr"
        },
        {
          "output_type": "stream",
          "text": [
            "\n",
            "Iteration: 42 Loss: 135574252.12257302 Difference: 30.645932210514992\n"
          ],
          "name": "stdout"
        },
        {
          "output_type": "stream",
          "text": [
            "50000it [00:11, 4300.45it/s]\n",
            "336it [00:00, 3353.94it/s]"
          ],
          "name": "stderr"
        },
        {
          "output_type": "stream",
          "text": [
            "\n",
            "Iteration: 43 Loss: 135573678.83122078 Difference: 31.849460955106085\n"
          ],
          "name": "stdout"
        },
        {
          "output_type": "stream",
          "text": [
            "50000it [00:11, 4171.17it/s]\n",
            "334it [00:00, 3339.55it/s]"
          ],
          "name": "stderr"
        },
        {
          "output_type": "stream",
          "text": [
            "\n",
            "Iteration: 44 Loss: 135573545.8915476 Difference: 29.784742670488892\n"
          ],
          "name": "stdout"
        },
        {
          "output_type": "stream",
          "text": [
            "50000it [00:11, 4277.74it/s]\n",
            "327it [00:00, 3269.41it/s]"
          ],
          "name": "stderr"
        },
        {
          "output_type": "stream",
          "text": [
            "\n",
            "Iteration: 45 Loss: 135573291.98385555 Difference: 25.447420591438625\n"
          ],
          "name": "stdout"
        },
        {
          "output_type": "stream",
          "text": [
            "50000it [00:11, 4363.30it/s]\n",
            "338it [00:00, 3371.87it/s]"
          ],
          "name": "stderr"
        },
        {
          "output_type": "stream",
          "text": [
            "\n",
            "Iteration: 46 Loss: 135573178.3041573 Difference: 23.974332415731133\n"
          ],
          "name": "stdout"
        },
        {
          "output_type": "stream",
          "text": [
            "50000it [00:11, 4329.94it/s]\n",
            "337it [00:00, 3367.51it/s]"
          ],
          "name": "stderr"
        },
        {
          "output_type": "stream",
          "text": [
            "\n",
            "Iteration: 47 Loss: 135573255.74550208 Difference: 25.382059657448238\n"
          ],
          "name": "stdout"
        },
        {
          "output_type": "stream",
          "text": [
            "50000it [00:11, 4269.74it/s]\n",
            "324it [00:00, 3238.48it/s]"
          ],
          "name": "stderr"
        },
        {
          "output_type": "stream",
          "text": [
            "\n",
            "Iteration: 48 Loss: 135573269.75989428 Difference: 23.12896063710263\n"
          ],
          "name": "stdout"
        },
        {
          "output_type": "stream",
          "text": [
            "50000it [00:11, 4309.73it/s]\n",
            "335it [00:00, 3344.68it/s]"
          ],
          "name": "stderr"
        },
        {
          "output_type": "stream",
          "text": [
            "\n",
            "Iteration: 49 Loss: 135573439.82407084 Difference: 25.711650960229495\n"
          ],
          "name": "stdout"
        },
        {
          "output_type": "stream",
          "text": [
            "50000it [00:11, 4294.31it/s]\n",
            "338it [00:00, 3373.34it/s]"
          ],
          "name": "stderr"
        },
        {
          "output_type": "stream",
          "text": [
            "\n",
            "Iteration: 50 Loss: 135573379.69015875 Difference: 25.784307410382482\n"
          ],
          "name": "stdout"
        },
        {
          "output_type": "stream",
          "text": [
            "50000it [00:11, 4315.43it/s]\n",
            "338it [00:00, 3377.37it/s]"
          ],
          "name": "stderr"
        },
        {
          "output_type": "stream",
          "text": [
            "\n",
            "Iteration: 51 Loss: 135573149.0844805 Difference: 27.433206576606576\n"
          ],
          "name": "stdout"
        },
        {
          "output_type": "stream",
          "text": [
            "50000it [00:11, 4334.36it/s]\n",
            "338it [00:00, 3379.67it/s]"
          ],
          "name": "stderr"
        },
        {
          "output_type": "stream",
          "text": [
            "\n",
            "Iteration: 52 Loss: 135573066.51137888 Difference: 24.994718825623153\n"
          ],
          "name": "stdout"
        },
        {
          "output_type": "stream",
          "text": [
            "50000it [00:11, 4336.67it/s]\n",
            "342it [00:00, 3416.34it/s]"
          ],
          "name": "stderr"
        },
        {
          "output_type": "stream",
          "text": [
            "\n",
            "Iteration: 53 Loss: 135572665.8981425 Difference: 27.295284737863525\n"
          ],
          "name": "stdout"
        },
        {
          "output_type": "stream",
          "text": [
            "50000it [00:11, 4361.14it/s]\n",
            "341it [00:00, 3406.28it/s]"
          ],
          "name": "stderr"
        },
        {
          "output_type": "stream",
          "text": [
            "\n",
            "Iteration: 54 Loss: 135572411.44182485 Difference: 28.458574171339436\n"
          ],
          "name": "stdout"
        },
        {
          "output_type": "stream",
          "text": [
            "50000it [00:11, 4348.62it/s]\n",
            "342it [00:00, 3418.25it/s]"
          ],
          "name": "stderr"
        },
        {
          "output_type": "stream",
          "text": [
            "\n",
            "Iteration: 55 Loss: 135572226.11985585 Difference: 30.192607871317758\n"
          ],
          "name": "stdout"
        },
        {
          "output_type": "stream",
          "text": [
            "50000it [00:11, 4339.16it/s]\n",
            "339it [00:00, 3389.98it/s]"
          ],
          "name": "stderr"
        },
        {
          "output_type": "stream",
          "text": [
            "\n",
            "Iteration: 56 Loss: 135572132.76932305 Difference: 34.918097625223886\n"
          ],
          "name": "stdout"
        },
        {
          "output_type": "stream",
          "text": [
            "50000it [00:11, 4319.25it/s]\n",
            "335it [00:00, 3346.29it/s]"
          ],
          "name": "stderr"
        },
        {
          "output_type": "stream",
          "text": [
            "\n",
            "Iteration: 57 Loss: 135571687.2116511 Difference: 31.90423367770629\n"
          ],
          "name": "stdout"
        },
        {
          "output_type": "stream",
          "text": [
            "50000it [00:11, 4327.96it/s]\n",
            "337it [00:00, 3367.51it/s]"
          ],
          "name": "stderr"
        },
        {
          "output_type": "stream",
          "text": [
            "\n",
            "Iteration: 58 Loss: 135571161.38268977 Difference: 36.42196665458141\n"
          ],
          "name": "stdout"
        },
        {
          "output_type": "stream",
          "text": [
            "50000it [00:11, 4310.24it/s]\n",
            "340it [00:00, 3392.39it/s]"
          ],
          "name": "stderr"
        },
        {
          "output_type": "stream",
          "text": [
            "\n",
            "Iteration: 59 Loss: 135570363.86555666 Difference: 40.20967847348917\n"
          ],
          "name": "stdout"
        },
        {
          "output_type": "stream",
          "text": [
            "50000it [00:11, 4322.87it/s]\n",
            "337it [00:00, 3360.78it/s]"
          ],
          "name": "stderr"
        },
        {
          "output_type": "stream",
          "text": [
            "\n",
            "Iteration: 60 Loss: 135568902.19226718 Difference: 39.509660134861214\n"
          ],
          "name": "stdout"
        },
        {
          "output_type": "stream",
          "text": [
            "50000it [00:11, 4296.92it/s]\n",
            "332it [00:00, 3317.49it/s]"
          ],
          "name": "stderr"
        },
        {
          "output_type": "stream",
          "text": [
            "\n",
            "Iteration: 61 Loss: 135566819.4255761 Difference: 43.91585855795553\n"
          ],
          "name": "stdout"
        },
        {
          "output_type": "stream",
          "text": [
            "50000it [00:11, 4327.05it/s]\n",
            "337it [00:00, 3365.91it/s]"
          ],
          "name": "stderr"
        },
        {
          "output_type": "stream",
          "text": [
            "\n",
            "Iteration: 62 Loss: 135564872.05346033 Difference: 52.96549390455707\n"
          ],
          "name": "stdout"
        },
        {
          "output_type": "stream",
          "text": [
            "50000it [00:11, 4350.37it/s]\n",
            "341it [00:00, 3405.43it/s]"
          ],
          "name": "stderr"
        },
        {
          "output_type": "stream",
          "text": [
            "\n",
            "Iteration: 63 Loss: 135562490.3792279 Difference: 50.111993939827826\n"
          ],
          "name": "stdout"
        },
        {
          "output_type": "stream",
          "text": [
            "50000it [00:11, 4313.99it/s]\n",
            "334it [00:00, 3333.43it/s]"
          ],
          "name": "stderr"
        },
        {
          "output_type": "stream",
          "text": [
            "\n",
            "Iteration: 64 Loss: 135560284.84662476 Difference: 58.10517485746642\n"
          ],
          "name": "stdout"
        },
        {
          "output_type": "stream",
          "text": [
            "50000it [00:11, 4324.84it/s]\n",
            "341it [00:00, 3404.44it/s]"
          ],
          "name": "stderr"
        },
        {
          "output_type": "stream",
          "text": [
            "\n",
            "Iteration: 65 Loss: 135557787.02608567 Difference: 52.58859296502269\n"
          ],
          "name": "stdout"
        },
        {
          "output_type": "stream",
          "text": [
            "50000it [00:11, 4293.26it/s]\n",
            "336it [00:00, 3358.34it/s]"
          ],
          "name": "stderr"
        },
        {
          "output_type": "stream",
          "text": [
            "\n",
            "Iteration: 66 Loss: 135555375.28695115 Difference: 51.80313982504191\n"
          ],
          "name": "stdout"
        },
        {
          "output_type": "stream",
          "text": [
            "50000it [00:11, 4280.92it/s]\n",
            "336it [00:00, 3346.14it/s]"
          ],
          "name": "stderr"
        },
        {
          "output_type": "stream",
          "text": [
            "\n",
            "Iteration: 67 Loss: 135551883.2018743 Difference: 51.63345648089244\n"
          ],
          "name": "stdout"
        },
        {
          "output_type": "stream",
          "text": [
            "50000it [00:11, 4193.75it/s]\n",
            "311it [00:00, 3108.14it/s]"
          ],
          "name": "stderr"
        },
        {
          "output_type": "stream",
          "text": [
            "\n",
            "Iteration: 68 Loss: 135547740.67746177 Difference: 58.141251145398364\n"
          ],
          "name": "stdout"
        },
        {
          "output_type": "stream",
          "text": [
            "50000it [00:11, 4223.92it/s]\n",
            "330it [00:00, 3293.37it/s]"
          ],
          "name": "stderr"
        },
        {
          "output_type": "stream",
          "text": [
            "\n",
            "Iteration: 69 Loss: 135543752.89353144 Difference: 60.46635694276223\n"
          ],
          "name": "stdout"
        },
        {
          "output_type": "stream",
          "text": [
            "50000it [00:11, 4319.44it/s]\n",
            "333it [00:00, 3322.75it/s]"
          ],
          "name": "stderr"
        },
        {
          "output_type": "stream",
          "text": [
            "\n",
            "Iteration: 70 Loss: 135538128.26659855 Difference: 60.85761377966789\n"
          ],
          "name": "stdout"
        },
        {
          "output_type": "stream",
          "text": [
            "50000it [00:11, 4287.02it/s]\n",
            "341it [00:00, 3405.03it/s]"
          ],
          "name": "stderr"
        },
        {
          "output_type": "stream",
          "text": [
            "\n",
            "Iteration: 71 Loss: 135531177.49908254 Difference: 74.19047641056797\n"
          ],
          "name": "stdout"
        },
        {
          "output_type": "stream",
          "text": [
            "50000it [00:11, 4234.87it/s]\n",
            "337it [00:00, 3361.36it/s]"
          ],
          "name": "stderr"
        },
        {
          "output_type": "stream",
          "text": [
            "\n",
            "Iteration: 72 Loss: 135524247.32247412 Difference: 78.70206924887047\n"
          ],
          "name": "stdout"
        },
        {
          "output_type": "stream",
          "text": [
            "50000it [00:11, 4289.07it/s]\n",
            "336it [00:00, 3358.48it/s]"
          ],
          "name": "stderr"
        },
        {
          "output_type": "stream",
          "text": [
            "\n",
            "Iteration: 73 Loss: 135517169.3055366 Difference: 73.98715958765058\n"
          ],
          "name": "stdout"
        },
        {
          "output_type": "stream",
          "text": [
            "50000it [00:11, 4322.69it/s]\n",
            "347it [00:00, 3465.54it/s]"
          ],
          "name": "stderr"
        },
        {
          "output_type": "stream",
          "text": [
            "\n",
            "Iteration: 74 Loss: 135509840.47515345 Difference: 74.50779299353395\n"
          ],
          "name": "stdout"
        },
        {
          "output_type": "stream",
          "text": [
            "50000it [00:11, 4307.04it/s]\n",
            "337it [00:00, 3361.88it/s]"
          ],
          "name": "stderr"
        },
        {
          "output_type": "stream",
          "text": [
            "\n",
            "Iteration: 75 Loss: 135501362.7293785 Difference: 74.26875794708131\n"
          ],
          "name": "stdout"
        },
        {
          "output_type": "stream",
          "text": [
            "50000it [00:11, 4265.09it/s]\n",
            "335it [00:00, 3346.72it/s]"
          ],
          "name": "stderr"
        },
        {
          "output_type": "stream",
          "text": [
            "\n",
            "Iteration: 76 Loss: 135493501.45870563 Difference: 80.78801725129118\n"
          ],
          "name": "stdout"
        },
        {
          "output_type": "stream",
          "text": [
            "50000it [00:11, 4334.67it/s]\n",
            "333it [00:00, 3322.07it/s]"
          ],
          "name": "stderr"
        },
        {
          "output_type": "stream",
          "text": [
            "\n",
            "Iteration: 77 Loss: 135486776.63463697 Difference: 72.26906541819919\n"
          ],
          "name": "stdout"
        },
        {
          "output_type": "stream",
          "text": [
            "50000it [00:11, 4312.94it/s]\n",
            "326it [00:00, 3256.07it/s]"
          ],
          "name": "stderr"
        },
        {
          "output_type": "stream",
          "text": [
            "\n",
            "Iteration: 78 Loss: 135480144.33052966 Difference: 74.53499520468354\n"
          ],
          "name": "stdout"
        },
        {
          "output_type": "stream",
          "text": [
            "50000it [00:11, 4268.07it/s]\n",
            "338it [00:00, 3371.03it/s]"
          ],
          "name": "stderr"
        },
        {
          "output_type": "stream",
          "text": [
            "\n",
            "Iteration: 79 Loss: 135473140.37032378 Difference: 69.55288941285694\n"
          ],
          "name": "stdout"
        },
        {
          "output_type": "stream",
          "text": [
            "50000it [00:11, 4324.20it/s]\n",
            "333it [00:00, 3319.77it/s]"
          ],
          "name": "stderr"
        },
        {
          "output_type": "stream",
          "text": [
            "\n",
            "Iteration: 80 Loss: 135465472.4825786 Difference: 71.25555562279601\n"
          ],
          "name": "stdout"
        },
        {
          "output_type": "stream",
          "text": [
            "50000it [00:11, 4320.56it/s]\n",
            "337it [00:00, 3362.01it/s]"
          ],
          "name": "stderr"
        },
        {
          "output_type": "stream",
          "text": [
            "\n",
            "Iteration: 81 Loss: 135458592.06348646 Difference: 73.78946056944399\n"
          ],
          "name": "stdout"
        },
        {
          "output_type": "stream",
          "text": [
            "50000it [00:11, 4325.34it/s]\n",
            "335it [00:00, 3346.90it/s]"
          ],
          "name": "stderr"
        },
        {
          "output_type": "stream",
          "text": [
            "\n",
            "Iteration: 82 Loss: 135451522.11446655 Difference: 71.00818011805994\n"
          ],
          "name": "stdout"
        },
        {
          "output_type": "stream",
          "text": [
            "50000it [00:11, 4288.84it/s]\n",
            "337it [00:00, 3365.95it/s]"
          ],
          "name": "stderr"
        },
        {
          "output_type": "stream",
          "text": [
            "\n",
            "Iteration: 83 Loss: 135445399.54732764 Difference: 72.86925762341184\n"
          ],
          "name": "stdout"
        },
        {
          "output_type": "stream",
          "text": [
            "50000it [00:11, 4347.27it/s]\n",
            "338it [00:00, 3375.97it/s]"
          ],
          "name": "stderr"
        },
        {
          "output_type": "stream",
          "text": [
            "\n",
            "Iteration: 84 Loss: 135439656.65051648 Difference: 69.00670372961378\n"
          ],
          "name": "stdout"
        },
        {
          "output_type": "stream",
          "text": [
            "50000it [00:11, 4287.73it/s]\n",
            "335it [00:00, 3349.35it/s]"
          ],
          "name": "stderr"
        },
        {
          "output_type": "stream",
          "text": [
            "\n",
            "Iteration: 85 Loss: 135434541.37284356 Difference: 65.0410048822886\n"
          ],
          "name": "stdout"
        },
        {
          "output_type": "stream",
          "text": [
            "50000it [00:11, 4289.79it/s]\n",
            "332it [00:00, 3317.72it/s]"
          ],
          "name": "stderr"
        },
        {
          "output_type": "stream",
          "text": [
            "\n",
            "Iteration: 86 Loss: 135429797.01481846 Difference: 61.35377106291989\n"
          ],
          "name": "stdout"
        },
        {
          "output_type": "stream",
          "text": [
            "50000it [00:11, 4302.64it/s]\n",
            "337it [00:00, 3368.89it/s]"
          ],
          "name": "stderr"
        },
        {
          "output_type": "stream",
          "text": [
            "\n",
            "Iteration: 87 Loss: 135425248.58409345 Difference: 58.74928387879944\n"
          ],
          "name": "stdout"
        },
        {
          "output_type": "stream",
          "text": [
            "50000it [00:11, 4311.50it/s]\n",
            "337it [00:00, 3363.63it/s]"
          ],
          "name": "stderr"
        },
        {
          "output_type": "stream",
          "text": [
            "\n",
            "Iteration: 88 Loss: 135421407.79905105 Difference: 59.73987000423214\n"
          ],
          "name": "stdout"
        },
        {
          "output_type": "stream",
          "text": [
            "50000it [00:11, 4332.88it/s]\n",
            "335it [00:00, 3344.53it/s]"
          ],
          "name": "stderr"
        },
        {
          "output_type": "stream",
          "text": [
            "\n",
            "Iteration: 89 Loss: 135417754.58578348 Difference: 56.99151332975588\n"
          ],
          "name": "stdout"
        },
        {
          "output_type": "stream",
          "text": [
            "50000it [00:11, 4356.86it/s]\n",
            "339it [00:00, 3384.76it/s]"
          ],
          "name": "stderr"
        },
        {
          "output_type": "stream",
          "text": [
            "\n",
            "Iteration: 90 Loss: 135414253.23818994 Difference: 56.482151117481145\n"
          ],
          "name": "stdout"
        },
        {
          "output_type": "stream",
          "text": [
            "50000it [00:11, 4318.78it/s]\n",
            "343it [00:00, 3426.67it/s]"
          ],
          "name": "stderr"
        },
        {
          "output_type": "stream",
          "text": [
            "\n",
            "Iteration: 91 Loss: 135411488.1072101 Difference: 51.65712454046756\n"
          ],
          "name": "stdout"
        },
        {
          "output_type": "stream",
          "text": [
            "50000it [00:11, 4288.73it/s]\n",
            "314it [00:00, 3137.01it/s]"
          ],
          "name": "stderr"
        },
        {
          "output_type": "stream",
          "text": [
            "\n",
            "Iteration: 92 Loss: 135409533.35203278 Difference: 45.713836042418585\n"
          ],
          "name": "stdout"
        },
        {
          "output_type": "stream",
          "text": [
            "50000it [00:11, 4194.46it/s]\n",
            "336it [00:00, 3353.65it/s]"
          ],
          "name": "stderr"
        },
        {
          "output_type": "stream",
          "text": [
            "\n",
            "Iteration: 93 Loss: 135407897.41098893 Difference: 39.85116644371414\n"
          ],
          "name": "stdout"
        },
        {
          "output_type": "stream",
          "text": [
            "50000it [00:11, 4325.96it/s]\n",
            "329it [00:00, 3289.41it/s]"
          ],
          "name": "stderr"
        },
        {
          "output_type": "stream",
          "text": [
            "\n",
            "Iteration: 94 Loss: 135406794.39427236 Difference: 32.444990077913474\n"
          ],
          "name": "stdout"
        },
        {
          "output_type": "stream",
          "text": [
            "50000it [00:11, 4306.10it/s]\n",
            "338it [00:00, 3374.89it/s]"
          ],
          "name": "stderr"
        },
        {
          "output_type": "stream",
          "text": [
            "\n",
            "Iteration: 95 Loss: 135406043.02088234 Difference: 32.378688680329276\n"
          ],
          "name": "stdout"
        },
        {
          "output_type": "stream",
          "text": [
            "50000it [00:11, 4238.17it/s]\n",
            "330it [00:00, 3292.91it/s]"
          ],
          "name": "stderr"
        },
        {
          "output_type": "stream",
          "text": [
            "\n",
            "Iteration: 96 Loss: 135405196.0650298 Difference: 27.866751403227216\n"
          ],
          "name": "stdout"
        },
        {
          "output_type": "stream",
          "text": [
            "50000it [00:11, 4307.73it/s]\n",
            "338it [00:00, 3374.68it/s]"
          ],
          "name": "stderr"
        },
        {
          "output_type": "stream",
          "text": [
            "\n",
            "Iteration: 97 Loss: 135404454.4945818 Difference: 29.219802222424917\n"
          ],
          "name": "stdout"
        },
        {
          "output_type": "stream",
          "text": [
            "50000it [00:11, 4301.08it/s]\n",
            "336it [00:00, 3354.07it/s]"
          ],
          "name": "stderr"
        },
        {
          "output_type": "stream",
          "text": [
            "\n",
            "Iteration: 98 Loss: 135403844.35096395 Difference: 26.01947811757674\n"
          ],
          "name": "stdout"
        },
        {
          "output_type": "stream",
          "text": [
            "50000it [00:11, 4302.93it/s]\n",
            "330it [00:00, 3295.45it/s]"
          ],
          "name": "stderr"
        },
        {
          "output_type": "stream",
          "text": [
            "\n",
            "Iteration: 99 Loss: 135403360.90736395 Difference: 24.526809491339606\n"
          ],
          "name": "stdout"
        },
        {
          "output_type": "stream",
          "text": [
            "50000it [00:11, 4310.63it/s]\n",
            "337it [00:00, 3368.21it/s]"
          ],
          "name": "stderr"
        },
        {
          "output_type": "stream",
          "text": [
            "\n",
            "Iteration: 100 Loss: 135402815.58155733 Difference: 22.44400443513557\n"
          ],
          "name": "stdout"
        },
        {
          "output_type": "stream",
          "text": [
            "50000it [00:11, 4291.32it/s]\n",
            "336it [00:00, 3353.18it/s]"
          ],
          "name": "stderr"
        },
        {
          "output_type": "stream",
          "text": [
            "\n",
            "Iteration: 101 Loss: 135402130.28490075 Difference: 23.891102827303357\n"
          ],
          "name": "stdout"
        },
        {
          "output_type": "stream",
          "text": [
            "50000it [00:11, 4296.57it/s]\n",
            "334it [00:00, 3331.99it/s]"
          ],
          "name": "stderr"
        },
        {
          "output_type": "stream",
          "text": [
            "\n",
            "Iteration: 102 Loss: 135401808.6348749 Difference: 20.779345030444208\n"
          ],
          "name": "stdout"
        },
        {
          "output_type": "stream",
          "text": [
            "50000it [00:11, 4277.30it/s]\n",
            "341it [00:00, 3405.29it/s]"
          ],
          "name": "stderr"
        },
        {
          "output_type": "stream",
          "text": [
            "\n",
            "Iteration: 103 Loss: 135401667.95914897 Difference: 17.218604523998415\n"
          ],
          "name": "stdout"
        },
        {
          "output_type": "stream",
          "text": [
            "50000it [00:11, 4299.22it/s]\n",
            "327it [00:00, 3263.05it/s]"
          ],
          "name": "stderr"
        },
        {
          "output_type": "stream",
          "text": [
            "\n",
            "Iteration: 104 Loss: 135401413.09024736 Difference: 14.972517355661738\n"
          ],
          "name": "stdout"
        },
        {
          "output_type": "stream",
          "text": [
            "50000it [00:11, 4273.17it/s]\n",
            "336it [00:00, 3356.06it/s]"
          ],
          "name": "stderr"
        },
        {
          "output_type": "stream",
          "text": [
            "\n",
            "Iteration: 105 Loss: 135401463.60529473 Difference: 16.05212369722862\n"
          ],
          "name": "stdout"
        },
        {
          "output_type": "stream",
          "text": [
            "50000it [00:11, 4289.30it/s]\n",
            "330it [00:00, 3295.04it/s]"
          ],
          "name": "stderr"
        },
        {
          "output_type": "stream",
          "text": [
            "\n",
            "Iteration: 106 Loss: 135401575.71262646 Difference: 13.140013590062708\n"
          ],
          "name": "stdout"
        },
        {
          "output_type": "stream",
          "text": [
            "50000it [00:11, 4300.75it/s]\n",
            "341it [00:00, 3402.03it/s]"
          ],
          "name": "stderr"
        },
        {
          "output_type": "stream",
          "text": [
            "\n",
            "Iteration: 107 Loss: 135401569.0997705 Difference: 15.893266869872937\n"
          ],
          "name": "stdout"
        },
        {
          "output_type": "stream",
          "text": [
            "50000it [00:11, 4337.48it/s]\n",
            "334it [00:00, 3337.51it/s]"
          ],
          "name": "stderr"
        },
        {
          "output_type": "stream",
          "text": [
            "\n",
            "Iteration: 108 Loss: 135401705.20972708 Difference: 13.359829944182428\n"
          ],
          "name": "stdout"
        },
        {
          "output_type": "stream",
          "text": [
            "50000it [00:11, 4299.28it/s]\n",
            "324it [00:00, 3239.43it/s]"
          ],
          "name": "stderr"
        },
        {
          "output_type": "stream",
          "text": [
            "\n",
            "Iteration: 109 Loss: 135401574.13391852 Difference: 13.612254408540151\n"
          ],
          "name": "stdout"
        },
        {
          "output_type": "stream",
          "text": [
            "50000it [00:11, 4324.29it/s]\n",
            "336it [00:00, 3357.73it/s]"
          ],
          "name": "stderr"
        },
        {
          "output_type": "stream",
          "text": [
            "\n",
            "Iteration: 110 Loss: 135401647.39934576 Difference: 13.203066502342534\n"
          ],
          "name": "stdout"
        },
        {
          "output_type": "stream",
          "text": [
            "50000it [00:11, 4332.81it/s]\n",
            "345it [00:00, 3447.90it/s]"
          ],
          "name": "stderr"
        },
        {
          "output_type": "stream",
          "text": [
            "\n",
            "Iteration: 111 Loss: 135401612.9077628 Difference: 9.922919433542202\n"
          ],
          "name": "stdout"
        },
        {
          "output_type": "stream",
          "text": [
            "50000it [00:11, 4349.59it/s]\n",
            "334it [00:00, 3339.54it/s]"
          ],
          "name": "stderr"
        },
        {
          "output_type": "stream",
          "text": [
            "\n",
            "Iteration: 112 Loss: 135401548.6121537 Difference: 9.362646041313393\n"
          ],
          "name": "stdout"
        },
        {
          "output_type": "stream",
          "text": [
            "50000it [00:11, 4306.57it/s]\n",
            "335it [00:00, 3341.52it/s]"
          ],
          "name": "stderr"
        },
        {
          "output_type": "stream",
          "text": [
            "\n",
            "Iteration: 113 Loss: 135401528.8149558 Difference: 8.327722833976672\n"
          ],
          "name": "stdout"
        },
        {
          "output_type": "stream",
          "text": [
            "50000it [00:11, 4317.96it/s]\n",
            "339it [00:00, 3385.85it/s]"
          ],
          "name": "stderr"
        },
        {
          "output_type": "stream",
          "text": [
            "\n",
            "Iteration: 114 Loss: 135401673.88888136 Difference: 9.648391564736844\n"
          ],
          "name": "stdout"
        },
        {
          "output_type": "stream",
          "text": [
            "50000it [00:11, 4322.89it/s]\n",
            "343it [00:00, 3428.58it/s]"
          ],
          "name": "stderr"
        },
        {
          "output_type": "stream",
          "text": [
            "\n",
            "Iteration: 115 Loss: 135401644.0090995 Difference: 9.163142586026863\n"
          ],
          "name": "stdout"
        },
        {
          "output_type": "stream",
          "text": [
            "50000it [00:11, 4331.45it/s]\n",
            "339it [00:00, 3387.24it/s]"
          ],
          "name": "stderr"
        },
        {
          "output_type": "stream",
          "text": [
            "\n",
            "Iteration: 116 Loss: 135401757.8028501 Difference: 7.990679691608569\n"
          ],
          "name": "stdout"
        },
        {
          "output_type": "stream",
          "text": [
            "50000it [00:12, 4120.01it/s]\n",
            "337it [00:00, 3361.16it/s]"
          ],
          "name": "stderr"
        },
        {
          "output_type": "stream",
          "text": [
            "\n",
            "Iteration: 117 Loss: 135401785.0200263 Difference: 7.260857276510645\n"
          ],
          "name": "stdout"
        },
        {
          "output_type": "stream",
          "text": [
            "50000it [00:11, 4324.79it/s]\n",
            "338it [00:00, 3379.66it/s]"
          ],
          "name": "stderr"
        },
        {
          "output_type": "stream",
          "text": [
            "\n",
            "Iteration: 118 Loss: 135401852.77941075 Difference: 7.288285099527068\n"
          ],
          "name": "stdout"
        },
        {
          "output_type": "stream",
          "text": [
            "50000it [00:11, 4347.98it/s]\n",
            "340it [00:00, 3397.96it/s]"
          ],
          "name": "stderr"
        },
        {
          "output_type": "stream",
          "text": [
            "\n",
            "Iteration: 119 Loss: 135401734.04272816 Difference: 9.067488161837796\n"
          ],
          "name": "stdout"
        },
        {
          "output_type": "stream",
          "text": [
            "50000it [00:11, 4290.45it/s]\n",
            "340it [00:00, 3391.46it/s]"
          ],
          "name": "stderr"
        },
        {
          "output_type": "stream",
          "text": [
            "\n",
            "Iteration: 120 Loss: 135401759.58404392 Difference: 11.5167143840068\n"
          ],
          "name": "stdout"
        },
        {
          "output_type": "stream",
          "text": [
            "50000it [00:11, 4299.69it/s]\n",
            "340it [00:00, 3393.62it/s]"
          ],
          "name": "stderr"
        },
        {
          "output_type": "stream",
          "text": [
            "\n",
            "Iteration: 121 Loss: 135401704.14111495 Difference: 10.589291550931323\n"
          ],
          "name": "stdout"
        },
        {
          "output_type": "stream",
          "text": [
            "50000it [00:11, 4297.42it/s]\n",
            "336it [00:00, 3351.41it/s]"
          ],
          "name": "stderr"
        },
        {
          "output_type": "stream",
          "text": [
            "\n",
            "Iteration: 122 Loss: 135401633.78330457 Difference: 8.580086172009304\n"
          ],
          "name": "stdout"
        },
        {
          "output_type": "stream",
          "text": [
            "50000it [00:11, 4294.67it/s]\n",
            "319it [00:00, 3188.33it/s]"
          ],
          "name": "stderr"
        },
        {
          "output_type": "stream",
          "text": [
            "\n",
            "Iteration: 123 Loss: 135401478.5505494 Difference: 8.89390638665559\n"
          ],
          "name": "stdout"
        },
        {
          "output_type": "stream",
          "text": [
            "50000it [00:11, 4283.84it/s]\n",
            "338it [00:00, 3376.28it/s]"
          ],
          "name": "stderr"
        },
        {
          "output_type": "stream",
          "text": [
            "\n",
            "Iteration: 124 Loss: 135401446.47990358 Difference: 8.886895505233985\n"
          ],
          "name": "stdout"
        },
        {
          "output_type": "stream",
          "text": [
            "50000it [00:11, 4305.08it/s]\n",
            "337it [00:00, 3361.39it/s]"
          ],
          "name": "stderr"
        },
        {
          "output_type": "stream",
          "text": [
            "\n",
            "Iteration: 125 Loss: 135401402.5184614 Difference: 6.647962799157263\n"
          ],
          "name": "stdout"
        },
        {
          "output_type": "stream",
          "text": [
            "50000it [00:11, 4324.00it/s]\n",
            "338it [00:00, 3374.27it/s]"
          ],
          "name": "stderr"
        },
        {
          "output_type": "stream",
          "text": [
            "\n",
            "Iteration: 126 Loss: 135401283.44778436 Difference: 7.148191360962473\n"
          ],
          "name": "stdout"
        },
        {
          "output_type": "stream",
          "text": [
            "50000it [00:11, 4296.96it/s]\n",
            "331it [00:00, 3300.60it/s]"
          ],
          "name": "stderr"
        },
        {
          "output_type": "stream",
          "text": [
            "\n",
            "Iteration: 127 Loss: 135401236.71521726 Difference: 9.062547666285765\n"
          ],
          "name": "stdout"
        },
        {
          "output_type": "stream",
          "text": [
            "50000it [00:11, 4306.34it/s]\n",
            "324it [00:00, 3239.85it/s]"
          ],
          "name": "stderr"
        },
        {
          "output_type": "stream",
          "text": [
            "\n",
            "Iteration: 128 Loss: 135401179.08237487 Difference: 12.631770267984953\n"
          ],
          "name": "stdout"
        },
        {
          "output_type": "stream",
          "text": [
            "50000it [00:11, 4318.85it/s]\n",
            "339it [00:00, 3380.98it/s]"
          ],
          "name": "stderr"
        },
        {
          "output_type": "stream",
          "text": [
            "\n",
            "Iteration: 129 Loss: 135401164.5811247 Difference: 12.858421655641276\n"
          ],
          "name": "stdout"
        },
        {
          "output_type": "stream",
          "text": [
            "50000it [00:11, 4305.40it/s]\n",
            "335it [00:00, 3340.65it/s]"
          ],
          "name": "stderr"
        },
        {
          "output_type": "stream",
          "text": [
            "\n",
            "Iteration: 130 Loss: 135401135.5437851 Difference: 12.475231332359977\n"
          ],
          "name": "stdout"
        },
        {
          "output_type": "stream",
          "text": [
            "50000it [00:11, 4291.72it/s]\n",
            "337it [00:00, 3361.06it/s]"
          ],
          "name": "stderr"
        },
        {
          "output_type": "stream",
          "text": [
            "\n",
            "Iteration: 131 Loss: 135401140.96316198 Difference: 12.167042029814633\n"
          ],
          "name": "stdout"
        },
        {
          "output_type": "stream",
          "text": [
            "50000it [00:11, 4313.12it/s]\n",
            "337it [00:00, 3363.56it/s]"
          ],
          "name": "stderr"
        },
        {
          "output_type": "stream",
          "text": [
            "\n",
            "Iteration: 132 Loss: 135401144.1554911 Difference: 12.264806623772676\n"
          ],
          "name": "stdout"
        },
        {
          "output_type": "stream",
          "text": [
            "50000it [00:11, 4276.41it/s]\n",
            "336it [00:00, 3355.58it/s]"
          ],
          "name": "stderr"
        },
        {
          "output_type": "stream",
          "text": [
            "\n",
            "Iteration: 133 Loss: 135400993.535637 Difference: 11.955956173930097\n"
          ],
          "name": "stdout"
        },
        {
          "output_type": "stream",
          "text": [
            "50000it [00:11, 4314.03it/s]\n",
            "336it [00:00, 3359.86it/s]"
          ],
          "name": "stderr"
        },
        {
          "output_type": "stream",
          "text": [
            "\n",
            "Iteration: 134 Loss: 135400954.54599243 Difference: 12.93981077532983\n"
          ],
          "name": "stdout"
        },
        {
          "output_type": "stream",
          "text": [
            "50000it [00:11, 4291.30it/s]\n",
            "338it [00:00, 3376.32it/s]"
          ],
          "name": "stderr"
        },
        {
          "output_type": "stream",
          "text": [
            "\n",
            "Iteration: 135 Loss: 135401056.86347136 Difference: 13.84414467389183\n"
          ],
          "name": "stdout"
        },
        {
          "output_type": "stream",
          "text": [
            "50000it [00:11, 4300.33it/s]\n",
            "336it [00:00, 3359.19it/s]"
          ],
          "name": "stderr"
        },
        {
          "output_type": "stream",
          "text": [
            "\n",
            "Iteration: 136 Loss: 135401177.0336728 Difference: 13.44491915427232\n"
          ],
          "name": "stdout"
        },
        {
          "output_type": "stream",
          "text": [
            "50000it [00:11, 4289.29it/s]\n",
            "337it [00:00, 3364.89it/s]"
          ],
          "name": "stderr"
        },
        {
          "output_type": "stream",
          "text": [
            "\n",
            "Iteration: 137 Loss: 135401198.5702536 Difference: 10.51398895570427\n"
          ],
          "name": "stdout"
        },
        {
          "output_type": "stream",
          "text": [
            "50000it [00:11, 4298.54it/s]\n",
            "335it [00:00, 3340.68it/s]"
          ],
          "name": "stderr"
        },
        {
          "output_type": "stream",
          "text": [
            "\n",
            "Iteration: 138 Loss: 135401183.09465668 Difference: 10.947467625119089\n"
          ],
          "name": "stdout"
        },
        {
          "output_type": "stream",
          "text": [
            "50000it [00:11, 4316.81it/s]\n",
            "341it [00:00, 3404.43it/s]"
          ],
          "name": "stderr"
        },
        {
          "output_type": "stream",
          "text": [
            "\n",
            "Iteration: 139 Loss: 135401239.4680976 Difference: 9.105856610309104\n"
          ],
          "name": "stdout"
        },
        {
          "output_type": "stream",
          "text": [
            "50000it [00:11, 4325.88it/s]\n",
            "340it [00:00, 3391.68it/s]"
          ],
          "name": "stderr"
        },
        {
          "output_type": "stream",
          "text": [
            "\n",
            "Iteration: 140 Loss: 135401204.92185444 Difference: 8.038189698500263\n"
          ],
          "name": "stdout"
        },
        {
          "output_type": "stream",
          "text": [
            "50000it [00:12, 4158.18it/s]\n",
            "318it [00:00, 3175.32it/s]"
          ],
          "name": "stderr"
        },
        {
          "output_type": "stream",
          "text": [
            "\n",
            "Iteration: 141 Loss: 135401186.81160653 Difference: 7.077178239837431\n"
          ],
          "name": "stdout"
        },
        {
          "output_type": "stream",
          "text": [
            "50000it [00:11, 4318.88it/s]\n",
            "342it [00:00, 3417.79it/s]"
          ],
          "name": "stderr"
        },
        {
          "output_type": "stream",
          "text": [
            "\n",
            "Iteration: 142 Loss: 135401158.3535442 Difference: 4.750404000057801\n"
          ],
          "name": "stdout"
        },
        {
          "output_type": "stream",
          "text": [
            "50000it [00:11, 4367.42it/s]\n",
            "337it [00:00, 3362.37it/s]"
          ],
          "name": "stderr"
        },
        {
          "output_type": "stream",
          "text": [
            "\n",
            "Iteration: 143 Loss: 135401127.18144035 Difference: 5.430266272130445\n"
          ],
          "name": "stdout"
        },
        {
          "output_type": "stream",
          "text": [
            "50000it [00:11, 4305.67it/s]\n",
            "342it [00:00, 3415.82it/s]"
          ],
          "name": "stderr"
        },
        {
          "output_type": "stream",
          "text": [
            "\n",
            "Iteration: 144 Loss: 135401181.3055101 Difference: 5.920745692084839\n"
          ],
          "name": "stdout"
        },
        {
          "output_type": "stream",
          "text": [
            "50000it [00:11, 4345.57it/s]\n",
            "337it [00:00, 3363.20it/s]"
          ],
          "name": "stderr"
        },
        {
          "output_type": "stream",
          "text": [
            "\n",
            "Iteration: 145 Loss: 135401209.10408956 Difference: 6.0594891693778035\n"
          ],
          "name": "stdout"
        },
        {
          "output_type": "stream",
          "text": [
            "50000it [00:11, 4328.85it/s]\n",
            "337it [00:00, 3366.22it/s]"
          ],
          "name": "stderr"
        },
        {
          "output_type": "stream",
          "text": [
            "\n",
            "Iteration: 146 Loss: 135401310.86119154 Difference: 6.431349095915762\n"
          ],
          "name": "stdout"
        },
        {
          "output_type": "stream",
          "text": [
            "50000it [00:11, 4326.45it/s]\n",
            "340it [00:00, 3393.87it/s]"
          ],
          "name": "stderr"
        },
        {
          "output_type": "stream",
          "text": [
            "\n",
            "Iteration: 147 Loss: 135401426.41111398 Difference: 7.078482867736867\n"
          ],
          "name": "stdout"
        },
        {
          "output_type": "stream",
          "text": [
            "50000it [00:11, 4315.69it/s]\n",
            "341it [00:00, 3407.94it/s]"
          ],
          "name": "stderr"
        },
        {
          "output_type": "stream",
          "text": [
            "\n",
            "Iteration: 148 Loss: 135401577.98721743 Difference: 7.18698027721685\n"
          ],
          "name": "stdout"
        },
        {
          "output_type": "stream",
          "text": [
            "50000it [00:11, 4326.31it/s]\n",
            "337it [00:00, 3368.93it/s]"
          ],
          "name": "stderr"
        },
        {
          "output_type": "stream",
          "text": [
            "\n",
            "Iteration: 149 Loss: 135401636.8480953 Difference: 7.4453043689906115\n"
          ],
          "name": "stdout"
        },
        {
          "output_type": "stream",
          "text": [
            "50000it [00:11, 4294.36it/s]\n",
            "337it [00:00, 3367.12it/s]"
          ],
          "name": "stderr"
        },
        {
          "output_type": "stream",
          "text": [
            "\n",
            "Iteration: 150 Loss: 135401621.25251183 Difference: 8.309350027389135\n"
          ],
          "name": "stdout"
        },
        {
          "output_type": "stream",
          "text": [
            "50000it [00:11, 4302.19it/s]\n",
            "339it [00:00, 3384.56it/s]"
          ],
          "name": "stderr"
        },
        {
          "output_type": "stream",
          "text": [
            "\n",
            "Iteration: 151 Loss: 135401696.6481087 Difference: 7.558580154814479\n"
          ],
          "name": "stdout"
        },
        {
          "output_type": "stream",
          "text": [
            "50000it [00:11, 4285.03it/s]\n",
            "335it [00:00, 3345.36it/s]"
          ],
          "name": "stderr"
        },
        {
          "output_type": "stream",
          "text": [
            "\n",
            "Iteration: 152 Loss: 135401661.61505005 Difference: 6.914848500073437\n"
          ],
          "name": "stdout"
        },
        {
          "output_type": "stream",
          "text": [
            "50000it [00:11, 4303.72it/s]\n",
            "337it [00:00, 3365.30it/s]"
          ],
          "name": "stderr"
        },
        {
          "output_type": "stream",
          "text": [
            "\n",
            "Iteration: 153 Loss: 135401694.0535272 Difference: 7.638447208172074\n"
          ],
          "name": "stdout"
        },
        {
          "output_type": "stream",
          "text": [
            "50000it [00:11, 4312.94it/s]\n",
            "338it [00:00, 3376.08it/s]"
          ],
          "name": "stderr"
        },
        {
          "output_type": "stream",
          "text": [
            "\n",
            "Iteration: 154 Loss: 135401736.68878573 Difference: 7.724894754832147\n"
          ],
          "name": "stdout"
        },
        {
          "output_type": "stream",
          "text": [
            "50000it [00:11, 4289.38it/s]\n",
            "328it [00:00, 3279.68it/s]"
          ],
          "name": "stderr"
        },
        {
          "output_type": "stream",
          "text": [
            "\n",
            "Iteration: 155 Loss: 135401774.31781438 Difference: 6.225207030957678\n"
          ],
          "name": "stdout"
        },
        {
          "output_type": "stream",
          "text": [
            "50000it [00:11, 4318.73it/s]\n",
            "327it [00:00, 3263.50it/s]"
          ],
          "name": "stderr"
        },
        {
          "output_type": "stream",
          "text": [
            "\n",
            "Iteration: 156 Loss: 135401835.40809727 Difference: 4.543063048261238\n"
          ],
          "name": "stdout"
        },
        {
          "output_type": "stream",
          "text": [
            "50000it [00:11, 4293.98it/s]\n",
            "336it [00:00, 3352.94it/s]"
          ],
          "name": "stderr"
        },
        {
          "output_type": "stream",
          "text": [
            "\n",
            "Iteration: 157 Loss: 135401853.132749 Difference: 2.858124894732997\n"
          ],
          "name": "stdout"
        },
        {
          "output_type": "stream",
          "text": [
            "50000it [00:11, 4289.68it/s]\n",
            "337it [00:00, 3368.16it/s]"
          ],
          "name": "stderr"
        },
        {
          "output_type": "stream",
          "text": [
            "\n",
            "Iteration: 158 Loss: 135401829.61415654 Difference: 2.7786098294405654\n"
          ],
          "name": "stdout"
        },
        {
          "output_type": "stream",
          "text": [
            "50000it [00:11, 4291.51it/s]\n",
            "337it [00:00, 3367.03it/s]"
          ],
          "name": "stderr"
        },
        {
          "output_type": "stream",
          "text": [
            "\n",
            "Iteration: 159 Loss: 135401835.243595 Difference: 1.6571781815559505\n"
          ],
          "name": "stdout"
        },
        {
          "output_type": "stream",
          "text": [
            "50000it [00:11, 4335.29it/s]\n",
            "336it [00:00, 3357.80it/s]"
          ],
          "name": "stderr"
        },
        {
          "output_type": "stream",
          "text": [
            "\n",
            "Iteration: 160 Loss: 135401813.6518578 Difference: 1.6968530273140445\n"
          ],
          "name": "stdout"
        },
        {
          "output_type": "stream",
          "text": [
            "50000it [00:11, 4290.33it/s]\n",
            "327it [00:00, 3262.98it/s]"
          ],
          "name": "stderr"
        },
        {
          "output_type": "stream",
          "text": [
            "\n",
            "Iteration: 161 Loss: 135401784.90750867 Difference: 1.251470464671454\n"
          ],
          "name": "stdout"
        },
        {
          "output_type": "stream",
          "text": [
            "50000it [00:11, 4295.62it/s]\n",
            "334it [00:00, 3338.40it/s]"
          ],
          "name": "stderr"
        },
        {
          "output_type": "stream",
          "text": [
            "\n",
            "Iteration: 162 Loss: 135401787.40602645 Difference: 3.2898199967101256\n"
          ],
          "name": "stdout"
        },
        {
          "output_type": "stream",
          "text": [
            "50000it [00:11, 4312.03it/s]\n",
            "340it [00:00, 3398.74it/s]"
          ],
          "name": "stderr"
        },
        {
          "output_type": "stream",
          "text": [
            "\n",
            "Iteration: 163 Loss: 135401787.40209728 Difference: 1.242024830430497\n"
          ],
          "name": "stdout"
        },
        {
          "output_type": "stream",
          "text": [
            "50000it [00:11, 4302.19it/s]\n",
            "337it [00:00, 3363.47it/s]"
          ],
          "name": "stderr"
        },
        {
          "output_type": "stream",
          "text": [
            "\n",
            "Iteration: 164 Loss: 135401787.40209392 Difference: 0.0004351297875078213\n"
          ],
          "name": "stdout"
        },
        {
          "output_type": "stream",
          "text": [
            "50000it [00:11, 4263.50it/s]\n"
          ],
          "name": "stderr"
        },
        {
          "output_type": "stream",
          "text": [
            "\n",
            "Iteration: 165 Loss: 135401787.40209395 Difference: 1.6612667367469639e-07\n",
            "Converged! With distance: 6.733770995560432e-11\n",
            "[cluster_label,no_occurence_of_label,total_samples_in_cluster,cluster_accuracy] [[9, 601, 2349, 0.2558535547041294], [17, 706, 2406, 0.29343308395677475], [7, 297, 3610, 0.08227146814404432], [4, 232, 1931, 0.12014500258933196], [11, 282, 3739, 0.07542123562449853], [9, 292, 2272, 0.12852112676056338], [5, 228, 1625, 0.1403076923076923], [0, 471, 1625, 0.28984615384615386], [11, 275, 3109, 0.08845287873914442], [2, 618, 2235, 0.276510067114094], [3, 237, 2062, 0.11493695441319107], [14, 200, 2253, 0.0887705281846427], [2, 480, 2849, 0.16848016848016847], [10, 435, 2641, 0.16471033699356305], [12, 349, 3981, 0.08766641547349913], [12, 391, 2924, 0.13372093023255813], [10, 269, 2402, 0.11199000832639468], [6, 327, 2025, 0.16148148148148148], [19, 239, 1451, 0.16471399035148174], [13, 264, 2511, 0.10513739545997611]]\n",
            "Accuracy: 0.15261852365916917\n"
          ],
          "name": "stdout"
        }
      ]
    },
    {
      "metadata": {
        "id": "y8xqZXxAyOtK",
        "colab_type": "text"
      },
      "cell_type": "markdown",
      "source": [
        "### Mean Images"
      ]
    },
    {
      "metadata": {
        "id": "tiV7lSI6yInr",
        "colab_type": "code",
        "colab": {
          "base_uri": "https://localhost:8080/",
          "height": 312
        },
        "outputId": "1a54f408-840f-4562-bff3-13785c4099a8"
      },
      "cell_type": "code",
      "source": [
        "data_reader_100.plot_imgs(kmeans_100.centroids,len(kmeans_100.centroids))"
      ],
      "execution_count": 12,
      "outputs": [
        {
          "output_type": "display_data",
          "data": {
            "image/png": "[encoded data removed]",
            "text/plain": [
              "<matplotlib.figure.Figure at 0x7f38f37a5eb8>"
            ]
          },
          "metadata": {
            "tags": []
          }
        }
      ]
    },
    {
      "metadata": {
        "id": "nL2jXKaKyQXr",
        "colab_type": "text"
      },
      "cell_type": "markdown",
      "source": [
        "### Loss"
      ]
    },
    {
      "metadata": {
        "id": "EG1nnHAdyRmn",
        "colab_type": "code",
        "colab": {
          "base_uri": "https://localhost:8080/",
          "height": 375
        },
        "outputId": "d8f7ea50-6c91-41f7-fdb7-b51f91c4b806"
      },
      "cell_type": "code",
      "source": [
        "print('Loss')\n",
        "plt.plot(range(kmeans_100.iterations),kmeans_100.loss_per_iteration)\n",
        "plt.show()"
      ],
      "execution_count": 13,
      "outputs": [
        {
          "output_type": "stream",
          "text": [
            "Loss\n"
          ],
          "name": "stdout"
        },
        {
          "output_type": "display_data",
          "data": {
            "image/png": "[encoded data removed]",
            "text/plain": [
              "<matplotlib.figure.Figure at 0x7f38f1411e80>"
            ]
          },
          "metadata": {
            "tags": []
          }
        }
      ]
    },
    {
      "metadata": {
        "id": "RVI7vkKJyYbS",
        "colab_type": "text"
      },
      "cell_type": "markdown",
      "source": [
        "### Clustered Samples"
      ]
    },
    {
      "metadata": {
        "id": "Pe0EVel82nWp",
        "colab_type": "code",
        "colab": {}
      },
      "cell_type": "code",
      "source": [
        "classes_100 = [b'aquatic_mammals', b'fish', b'flowers', b'food_containers', b'fruit_and_vegetables', b'household_electrical_devices', b'household_furniture', b'insects', b'large_carnivores', b'large_man-made_outdoor_things', b'large_natural_outdoor_scenes', b'large_omnivores_and_herbivores', b'medium_mammals', b'non-insect_invertebrates', b'people', b'reptiles', b'small_mammals', b'trees', b'vehicles_1', b'vehicles_2']"
      ],
      "execution_count": 0,
      "outputs": []
    },
    {
      "metadata": {
        "id": "nnePbsPfyVpk",
        "colab_type": "code",
        "colab": {}
      },
      "cell_type": "code",
      "source": [
        "for key,data in list(kmeans_100.clusters['data'].items()):\n",
        "    print('Cluster:',key,'Label:',classes_100[kmeans_100.clusters_labels[key]])\n",
        "    data_reader_100.plot_imgs(data[:min(25,data.shape[0])],min(25,data.shape[0]))"
      ],
      "execution_count": 0,
      "outputs": []
    },
    {
      "metadata": {
        "id": "W02LMcntybCC",
        "colab_type": "text"
      },
      "cell_type": "markdown",
      "source": [
        "###Accuracy"
      ]
    },
    {
      "metadata": {
        "id": "zjCtdKHIyanY",
        "colab_type": "code",
        "colab": {
          "base_uri": "https://localhost:8080/",
          "height": 88
        },
        "outputId": "d33a8c1b-f49a-454d-e07c-cbf67c7a0133"
      },
      "cell_type": "code",
      "source": [
        "print('[cluster_label,no_occurence_of_label,total_samples_in_cluster,cluster_accuracy]\\n',kmeans_100.clusters_info)\n",
        "print('Accuracy:',kmeans_100.accuracy)"
      ],
      "execution_count": 15,
      "outputs": [
        {
          "output_type": "stream",
          "text": [
            "[cluster_label,no_occurence_of_label,total_samples_in_cluster,cluster_accuracy]\n",
            " [[9, 601, 2349, 0.2558535547041294], [17, 706, 2406, 0.29343308395677475], [7, 297, 3610, 0.08227146814404432], [4, 232, 1931, 0.12014500258933196], [11, 282, 3739, 0.07542123562449853], [9, 292, 2272, 0.12852112676056338], [5, 228, 1625, 0.1403076923076923], [0, 471, 1625, 0.28984615384615386], [11, 275, 3109, 0.08845287873914442], [2, 618, 2235, 0.276510067114094], [3, 237, 2062, 0.11493695441319107], [14, 200, 2253, 0.0887705281846427], [2, 480, 2849, 0.16848016848016847], [10, 435, 2641, 0.16471033699356305], [12, 349, 3981, 0.08766641547349913], [12, 391, 2924, 0.13372093023255813], [10, 269, 2402, 0.11199000832639468], [6, 327, 2025, 0.16148148148148148], [19, 239, 1451, 0.16471399035148174], [13, 264, 2511, 0.10513739545997611]]\n",
            "Accuracy: 0.15261852365916917\n"
          ],
          "name": "stdout"
        }
      ]
    }
  ]
}